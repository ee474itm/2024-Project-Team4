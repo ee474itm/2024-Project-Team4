{
 "cells": [
  {
   "cell_type": "markdown",
   "metadata": {},
   "source": [
    "# Set up"
   ]
  },
  {
   "cell_type": "code",
   "execution_count": 1,
   "metadata": {},
   "outputs": [
    {
     "name": "stderr",
     "output_type": "stream",
     "text": [
      "/mnt/home/20200884/mambaforge/envs/alacen/lib/python3.9/site-packages/tqdm/auto.py:21: TqdmWarning: IProgress not found. Please update jupyter and ipywidgets. See https://ipywidgets.readthedocs.io/en/stable/user_install.html\n",
      "  from .autonotebook import tqdm as notebook_tqdm\n",
      "Dora directory: /tmp/audiocraft_20200884\n"
     ]
    }
   ],
   "source": [
    "import os\n",
    "from pathlib import Path\n",
    "\n",
    "from natsort import natsorted\n",
    "import torch\n",
    "\n",
    "from src.alacen.alacen import ALACen\n",
    "from src.alacen.asr.whisper import Whisper\n",
    "from src.alacen.paraphrase.pegasus import PegasusAlacen\n",
    "from src.alacen.tts.voicecraft.voicecraft import VoiceCraftTTS, VoiceCraftArgs\n",
    "from src.alacen.lipsync.diff2lip.diff2lip import Diff2Lip, Diff2LipArgs\n",
    "\n",
    "device = \"cuda:3\" if torch.cuda.is_available() else \"cpu\"\n",
    "\n",
    "asr = Whisper()\n",
    "paraphrase = PegasusAlacen()\n",
    "tts = VoiceCraftTTS(model_name=\"330M_TTSEnhanced\")\n",
    "lipsync = Diff2Lip(Diff2LipArgs(num_gpus=3))\n",
    "\n",
    "alacen = ALACen(asr, paraphrase, tts, lipsync)"
   ]
  },
  {
   "cell_type": "markdown",
   "metadata": {},
   "source": [
    "# Configure"
   ]
  },
  {
   "cell_type": "code",
   "execution_count": 2,
   "metadata": {},
   "outputs": [],
   "source": [
    "VERBOSE = True\n",
    "VIDEO_DIR = Path(\"demo\")\n",
    "OUT_DIR = Path(\"output\")\n",
    "NUM_PARAPHRASES = 5\n",
    "NUM_SPEECHES = 5\n",
    "MODE = \"semi\""
   ]
  },
  {
   "cell_type": "code",
   "execution_count": 3,
   "metadata": {},
   "outputs": [
    {
     "data": {
      "text/plain": [
       "[PosixPath('demo/vid32.mp4')]"
      ]
     },
     "execution_count": 3,
     "metadata": {},
     "output_type": "execute_result"
    }
   ],
   "source": [
    "video_list = natsorted(\n",
    "    [f for f in os.listdir(VIDEO_DIR) if os.path.isfile(VIDEO_DIR / f)]\n",
    ")\n",
    "video_list = [VIDEO_DIR / f for f in video_list]\n",
    "video_list"
   ]
  },
  {
   "cell_type": "markdown",
   "metadata": {},
   "source": [
    "# Run ALACen"
   ]
  },
  {
   "cell_type": "code",
   "execution_count": 4,
   "metadata": {},
   "outputs": [
    {
     "name": "stderr",
     "output_type": "stream",
     "text": [
      "[2024-06-17 22:15:56,935 | alacen.alacen.session | DEBUG] Extracting audio from video...\n"
     ]
    },
    {
     "name": "stdout",
     "output_type": "stream",
     "text": [
      "Video 1: demo/vid32.mp4\n"
     ]
    },
    {
     "name": "stderr",
     "output_type": "stream",
     "text": [
      "[2024-06-17 22:15:57,259 | alacen.alacen.session | DEBUG] Performing speech recognition...\n",
      "[2024-06-17 22:16:01,823 | alacen.alacen.session | DEBUG] Transcript:  smoked so much weed he actually had to write a song called, hey, what's my motherfucking name?\n",
      "[2024-06-17 22:16:01,825 | alacen.alacen.session | DEBUG] Generating paraphrase...\n"
     ]
    },
    {
     "name": "stdout",
     "output_type": "stream",
     "text": [
      "Please choose the best paraphrase among the following:\n",
      "1. He used a lot of marijuana, and it made it difficult for him to write a song.\n",
      "2. He was so high on marijuana that he had to write a song called \"Hey, what's my mother's maiden name?\"\n",
      "3. He struggled with excessive use of marijuana, and it led to the creation of a song called \"I'm Yours.\"\n",
      "4. He used a lot of marijuana, and he actually had to write a song called \"I'm not sure what my name is.\"\n",
      "5. He used a lot of marijuana, and it led to the creation of a song called \"Hey, I'm not sure what my name is.\"\n",
      "Selected paraphrase: He was so high on marijuana that he had to write a song called \"Hey, what's my mother's maiden name?\"\n"
     ]
    },
    {
     "name": "stderr",
     "output_type": "stream",
     "text": [
      "[2024-06-17 22:16:25,111 | alacen.alacen.session | DEBUG] Generating new audio...\n",
      "WARNING:phonemizer:words count mismatch on 300.0% of the lines (3/1)\n",
      "WARNING:phonemizer:words count mismatch on 300.0% of the lines (3/1)\n",
      "WARNING:phonemizer:words count mismatch on 300.0% of the lines (3/1)\n",
      "WARNING:phonemizer:words count mismatch on 300.0% of the lines (3/1)\n"
     ]
    },
    {
     "name": "stdout",
     "output_type": "stream",
     "text": [
      "Generated audio files saved to:\n",
      "  1. output/vid32_gen_1.wav\n",
      "  2. output/vid32_gen_2.wav\n",
      "  3. output/vid32_gen_3.wav\n",
      "  4. output/vid32_gen_4.wav\n",
      "  5. output/vid32_gen_5.wav\n"
     ]
    },
    {
     "name": "stderr",
     "output_type": "stream",
     "text": [
      "[2024-06-17 22:18:19,733 | alacen.alacen.session | DEBUG] Generating lip-synced video...\n",
      "DEBUG:alacen.alacen.session:Generating lip-synced video...\n"
     ]
    },
    {
     "name": "stdout",
     "output_type": "stream",
     "text": [
      "MPI.COMM_WORLD.Get_rank() 0\n",
      "os.environ[\"CUDA_VISIBLE_DEVICES\"] 0\n",
      "MPI.COMM_WORLD.Get_rank() 2\n",
      "os.environ[\"CUDA_VISIBLE_DEVICES\"] 2\n",
      "MPI.COMM_WORLD.Get_rank() 1\n",
      "os.environ[\"CUDA_VISIBLE_DEVICES\"] 1\n",
      "Recovering from OOM error; New batch size: 32\n",
      "Recovering from OOM error; New batch size: 32\n",
      "Recovering from OOM error; New batch size: 32\n",
      "Recovering from OOM error; New batch size: 16\n",
      "Recovering from OOM error; New batch size: 16\n",
      "Recovering from OOM error; New batch size: 16\n",
      "Recovering from OOM error; New batch size: 8\n",
      "Recovering from OOM error; New batch size: 8\n",
      "Recovering from OOM error; New batch size: 8\n",
      "Time taken for sampling,  54.34663701057434 ,time without all  gather,  50.214728116989136 ,frames/gpu,  120 ,total frames,  120\n",
      "(88000,) (120, 720, 1280, 3)\n",
      "(76800,) (120, 720, 1280, 3)\n"
     ]
    },
    {
     "name": "stderr",
     "output_type": "stream",
     "text": [
      "[2024-06-17 22:22:08,574 | alacen.alacen.session | DEBUG] Merging generated audio and video...\n",
      "DEBUG:alacen.alacen.session:Merging generated audio and video...\n"
     ]
    },
    {
     "name": "stdout",
     "output_type": "stream",
     "text": [
      "\n"
     ]
    }
   ],
   "source": [
    "for i, video in enumerate(video_list, 1):\n",
    "    print(f\"Video {i}: {video}\")\n",
    "    alacen.run(\n",
    "        video,\n",
    "        OUT_DIR,\n",
    "        VoiceCraftArgs.constructor(padding=\"end\", num_samples=NUM_SPEECHES),\n",
    "        num_paraphrases=NUM_PARAPHRASES,\n",
    "        device=device,\n",
    "        mode=MODE,\n",
    "        verbose=VERBOSE,\n",
    "        clean_up=True,\n",
    "    )\n",
    "    print()"
   ]
  }
 ],
 "metadata": {
  "kernelspec": {
   "display_name": "alacen",
   "language": "python",
   "name": "python3"
  },
  "language_info": {
   "codemirror_mode": {
    "name": "ipython",
    "version": 3
   },
   "file_extension": ".py",
   "mimetype": "text/x-python",
   "name": "python",
   "nbconvert_exporter": "python",
   "pygments_lexer": "ipython3",
   "version": "3.9.19"
  }
 },
 "nbformat": 4,
 "nbformat_minor": 2
}
