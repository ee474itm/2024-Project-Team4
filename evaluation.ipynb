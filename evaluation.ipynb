{
 "cells": [
  {
   "cell_type": "markdown",
   "metadata": {},
   "source": [
    "# Set up"
   ]
  },
  {
   "cell_type": "code",
   "execution_count": null,
   "metadata": {},
   "outputs": [],
   "source": [
    "import os\n",
    "from pathlib import Path\n",
    "\n",
    "from natsort import natsorted\n",
    "import torch\n",
    "\n",
    "from src.alacen.alacen import ALACen\n",
    "from src.alacen.asr.whisper import Whisper\n",
    "from src.alacen.paraphrase.pegasus import PegasusAlacen\n",
    "from src.alacen.tts.voicecraft.voicecraft import VoiceCraftTTS, VoiceCraftArgs\n",
    "from src.alacen.lipsync.diff2lip.diff2lip import Diff2Lip, Diff2LipArgs\n",
    "\n",
    "device = \"cuda\" if torch.cuda.is_available() else \"cpu\"\n",
    "\n",
    "asr = Whisper()\n",
    "paraphrase = PegasusAlacen()\n",
    "tts = VoiceCraftTTS(model_name=\"330M_TTSEnhanced\")\n",
    "lipsync = Diff2Lip(Diff2LipArgs(num_gpus=3))\n",
    "\n",
    "alacen = ALACen(asr, paraphrase, tts, lipsync)"
   ]
  },
  {
   "cell_type": "markdown",
   "metadata": {},
   "source": [
    "# Configure"
   ]
  },
  {
   "cell_type": "code",
   "execution_count": null,
   "metadata": {},
   "outputs": [],
   "source": [
    "VERBOSE = True\n",
    "VIDEO_DIR = Path(\"videos\")\n",
    "OUT_DIR = Path(\"output\")\n",
    "NUM_PARAPHRASES = 5\n",
    "TTS_ARGS = VoiceCraftArgs.constructor(padding=\"end\", num_samples=5)"
   ]
  },
  {
   "cell_type": "code",
   "execution_count": null,
   "metadata": {},
   "outputs": [],
   "source": [
    "video_list = natsorted(\n",
    "    [f for f in os.listdir(VIDEO_DIR) if os.path.isfile(VIDEO_DIR / f)]\n",
    ")\n",
    "video_list = [VIDEO_DIR / f for f in video_list]\n",
    "video_list"
   ]
  },
  {
   "cell_type": "markdown",
   "metadata": {},
   "source": [
    "# Mode: fully automatic"
   ]
  },
  {
   "cell_type": "code",
   "execution_count": null,
   "metadata": {},
   "outputs": [],
   "source": [
    "mode = \"auto\"\n",
    "for i, video in enumerate(video_list, 1):\n",
    "    print(f\"Video {i}: {video}\", flush=True)\n",
    "    alacen.run(\n",
    "        video,\n",
    "        OUT_DIR / mode,\n",
    "        TTS_ARGS,\n",
    "        num_paraphrases=NUM_PARAPHRASES,\n",
    "        merge_av=True,\n",
    "        mode=mode,\n",
    "        device=device,\n",
    "        verbose=VERBOSE,\n",
    "        clean_up=True,\n",
    "    )\n",
    "    print()"
   ]
  },
  {
   "cell_type": "markdown",
   "metadata": {},
   "source": [
    "# Mode: semi-automatic"
   ]
  },
  {
   "cell_type": "code",
   "execution_count": null,
   "metadata": {},
   "outputs": [],
   "source": [
    "mode = \"semi\"\n",
    "for i, video in enumerate(video_list, 1):\n",
    "    print(f\"Video {i}: {video}\", flush=True)\n",
    "    alacen.run(\n",
    "        video,\n",
    "        OUT_DIR / mode,\n",
    "        TTS_ARGS,\n",
    "        num_paraphrases=NUM_PARAPHRASES,\n",
    "        merge_av=True,\n",
    "        mode=mode,\n",
    "        device=device,\n",
    "        verbose=VERBOSE,\n",
    "        clean_up=True,\n",
    "    )\n",
    "    print()"
   ]
  }
 ],
 "metadata": {
  "kernelspec": {
   "display_name": "alacen",
   "language": "python",
   "name": "python3"
  },
  "language_info": {
   "codemirror_mode": {
    "name": "ipython",
    "version": 3
   },
   "file_extension": ".py",
   "mimetype": "text/x-python",
   "name": "python",
   "nbconvert_exporter": "python",
   "pygments_lexer": "ipython3",
   "version": "3.9.19"
  }
 },
 "nbformat": 4,
 "nbformat_minor": 2
}
