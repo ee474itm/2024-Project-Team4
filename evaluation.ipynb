{
 "cells": [
  {
   "cell_type": "markdown",
   "metadata": {},
   "source": [
    "# Set up"
   ]
  },
  {
   "cell_type": "code",
   "execution_count": 1,
   "metadata": {},
   "outputs": [
    {
     "name": "stderr",
     "output_type": "stream",
     "text": [
      "/mnt/home/20200884/mambaforge/envs/alacen/lib/python3.9/site-packages/tqdm/auto.py:21: TqdmWarning: IProgress not found. Please update jupyter and ipywidgets. See https://ipywidgets.readthedocs.io/en/stable/user_install.html\n",
      "  from .autonotebook import tqdm as notebook_tqdm\n",
      "Dora directory: /tmp/audiocraft_20200884\n"
     ]
    }
   ],
   "source": [
    "import os\n",
    "from pathlib import Path\n",
    "\n",
    "from natsort import natsorted\n",
    "import torch\n",
    "\n",
    "from src.alacen.alacen import ALACen\n",
    "from src.alacen.asr.whisper import Whisper\n",
    "from src.alacen.paraphrase.pegasus import PegasusAlacen\n",
    "from src.alacen.tts.voicecraft.voicecraft import VoiceCraftTTS, VoiceCraftArgs\n",
    "from src.alacen.lipsync.diff2lip.diff2lip import Diff2Lip, Diff2LipArgs\n",
    "\n",
    "device = \"cuda\" if torch.cuda.is_available() else \"cpu\"\n",
    "\n",
    "asr = Whisper()\n",
    "paraphrase = PegasusAlacen()\n",
    "tts = VoiceCraftTTS(model_name=\"330M_TTSEnhanced\")\n",
    "lipsync = Diff2Lip(Diff2LipArgs(num_gpus=3))\n",
    "\n",
    "alacen = ALACen(asr, paraphrase, tts, lipsync)"
   ]
  },
  {
   "cell_type": "markdown",
   "metadata": {},
   "source": [
    "# Configure"
   ]
  },
  {
   "cell_type": "code",
   "execution_count": 2,
   "metadata": {},
   "outputs": [],
   "source": [
    "VERBOSE = True\n",
    "VIDEO_DIR = Path(\"videos\")\n",
    "OUT_DIR = Path(\"output\")\n",
    "NUM_PARAPHRASES = 5\n",
    "TTS_ARGS = VoiceCraftArgs.constructor(padding=\"end\", num_samples=5)"
   ]
  },
  {
   "cell_type": "code",
   "execution_count": 3,
   "metadata": {},
   "outputs": [
    {
     "data": {
      "text/plain": [
       "[PosixPath('videos/vid2.mp4'), PosixPath('videos/vid2_1.mp4')]"
      ]
     },
     "execution_count": 3,
     "metadata": {},
     "output_type": "execute_result"
    }
   ],
   "source": [
    "video_list = natsorted(\n",
    "    [f for f in os.listdir(VIDEO_DIR) if os.path.isfile(VIDEO_DIR / f)]\n",
    ")\n",
    "video_list = [VIDEO_DIR / f for f in video_list]\n",
    "video_list"
   ]
  },
  {
   "cell_type": "markdown",
   "metadata": {},
   "source": [
    "# Mode: fully automatic"
   ]
  },
  {
   "cell_type": "code",
   "execution_count": 4,
   "metadata": {},
   "outputs": [
    {
     "name": "stdout",
     "output_type": "stream",
     "text": [
      "Video 1: videos/vid2.mp4\n"
     ]
    },
    {
     "name": "stderr",
     "output_type": "stream",
     "text": [
      "[2024-06-01 03:37:32,320 | alacen | DEBUG] Extracting audio from video...\n",
      "[2024-06-01 03:37:32,742 | alacen | DEBUG] Performing speech recognition...\n",
      "[2024-06-01 03:37:37,134 | alacen | DEBUG] Transcript:  If I ever find one of these lying around again, I swear to fucking God, I will stop being so polite.\n",
      "[2024-06-01 03:37:37,137 | alacen | DEBUG] Generating paraphrase...\n"
     ]
    },
    {
     "name": "stdout",
     "output_type": "stream",
     "text": [
      "Selected paraphrase: If I ever encounter one of these again, I will be compelled to reconsider my approach to life.\n"
     ]
    },
    {
     "name": "stderr",
     "output_type": "stream",
     "text": [
      "[2024-06-01 03:37:40,179 | alacen | DEBUG] Generating new audio...\n",
      "\u001b[2;36m \u001b[0m\u001b[36mDEBUG   \u001b[0m Beginning run for vid2                                                \n",
      "\u001b[2;36m \u001b[0m\u001b[36mDEBUG   \u001b[0m Using \u001b[32m\"global\"\u001b[0m profile                                                \n",
      "\u001b[2;36m \u001b[0m\u001b[36mDEBUG   \u001b[0m Using multiprocessing with \u001b[1;36m1\u001b[0m                                          \n",
      "\u001b[2;36m \u001b[0m\u001b[36mDEBUG   \u001b[0m Set up logger for MFA version: \u001b[1;36m2.2\u001b[0m.\u001b[1;36m17\u001b[0m                                 \n",
      "\u001b[2;36m \u001b[0m\u001b[36mDEBUG   \u001b[0m Cleaned previous run                                                  \n",
      "\u001b[2;36m \u001b[0m\u001b[36mDEBUG   \u001b[0m There were some differences in the current run compared to the last   \n",
      "\u001b[2;36m \u001b[0m         one. This may cause issues, run with --clean, if you hit an error.    \n",
      "\u001b[2;36m \u001b[0m\u001b[36mDEBUG   \u001b[0m Using UNKNOWN                                                         \n",
      "\u001b[2;36m \u001b[0m\u001b[36mDEBUG   \u001b[0m Loaded dictionary in \u001b[1;36m26.319\u001b[0m seconds                                   \n",
      "\u001b[2;36m \u001b[0m\u001b[32mINFO    \u001b[0m Setting up corpus information\u001b[33m...\u001b[0m                                      \n",
      "\u001b[2;36m \u001b[0m\u001b[36mDEBUG   \u001b[0m Could not load from temp                                              \n",
      "\u001b[2;36m \u001b[0m\u001b[32mINFO    \u001b[0m Loading corpus from source files\u001b[33m...\u001b[0m                                   \n"
     ]
    },
    {
     "name": "stdout",
     "output_type": "stream",
     "text": [
      "\u001b[2K\u001b[35m   0%\u001b[0m \u001b[90m━━━━━━━━━━━━━━━━━━━━━━━━━━━━━━━━━━━━\u001b[0m \u001b[32m0/100 \u001b[0m [ \u001b[33m0:00:00\u001b[0m < \u001b[36m-:--:--\u001b[0m , \u001b[31m? it/s\u001b[0m ]"
     ]
    },
    {
     "name": "stderr",
     "output_type": "stream",
     "text": [
      "\u001b[2;36m \u001b[0m\u001b[36mDEBUG   \u001b[0m Processing queue: \u001b[1;36m0.09864504800000162\u001b[0m                                 \n",
      "\u001b[2;36m \u001b[0m\u001b[36mDEBUG   \u001b[0m Parsed corpus directory with \u001b[1;36m1\u001b[0m jobs in \u001b[1;36m0.14182822600000122\u001b[0m seconds    \n",
      "\u001b[2;36m \u001b[0m\u001b[32mINFO    \u001b[0m Found \u001b[1;36m1\u001b[0m speaker across \u001b[1;36m1\u001b[0m file, average number of utterances per       \n",
      "\u001b[2;36m \u001b[0m         speaker: \u001b[1;36m1.0\u001b[0m                                                          \n",
      "\u001b[2;36m \u001b[0m\u001b[36mDEBUG   \u001b[0m Loaded corpus in \u001b[1;36m1.293\u001b[0m seconds                                        \n",
      "\u001b[2;36m \u001b[0m\u001b[32mINFO    \u001b[0m Initializing multiprocessing jobs\u001b[33m...\u001b[0m                                  \n"
     ]
    },
    {
     "name": "stdout",
     "output_type": "stream",
     "text": [
      "\u001b[2K\u001b[35m   1%\u001b[0m \u001b[90m━━━━━━━━━━━━━━━━━━━━━━━━━━━━━━━━━━━━\u001b[0m \u001b[32m1/100 \u001b[0m [ \u001b[33m0:00:01\u001b[0m < \u001b[36m-:--:--\u001b[0m , \u001b[31m? it/s\u001b[0m ]\n",
      "\u001b[?25h"
     ]
    },
    {
     "name": "stderr",
     "output_type": "stream",
     "text": [
      "\u001b[2;36m \u001b[0m\u001b[36mDEBUG   \u001b[0m Initialized jobs in \u001b[1;36m0.150\u001b[0m seconds                                     \n",
      "\u001b[2;36m \u001b[0m\u001b[32mINFO    \u001b[0m Normalizing text\u001b[33m...\u001b[0m                                                   \n"
     ]
    },
    {
     "name": "stdout",
     "output_type": "stream",
     "text": [
      "\u001b[2K\u001b[35m 100%\u001b[0m \u001b[90m━━━━━━━━━━━━━━━━━━━━━━━━━━━━━━━━━━━━━━\u001b[0m \u001b[32m1/1 \u001b[0m [ \u001b[33m0:00:01\u001b[0m < \u001b[36m0:00:00\u001b[0m , \u001b[31m? it/s\u001b[0m ]\n",
      "\u001b[?25h"
     ]
    },
    {
     "name": "stderr",
     "output_type": "stream",
     "text": [
      "\u001b[2;36m \u001b[0m\u001b[36mDEBUG   \u001b[0m Wrote lexicon information in \u001b[1;36m0.263\u001b[0m seconds                            \n",
      "\u001b[2;36m \u001b[0m\u001b[32mINFO    \u001b[0m Creating corpus split for feature generation\u001b[33m...\u001b[0m                       \n"
     ]
    },
    {
     "name": "stdout",
     "output_type": "stream",
     "text": [
      "\u001b[2K\u001b[35m 100%\u001b[0m \u001b[90m━━━━━━━━━━━━━━━━━━━━━━━━━━━━━━━━━━━━━━\u001b[0m \u001b[32m2/2 \u001b[0m [ \u001b[33m0:00:01\u001b[0m < \u001b[36m0:00:00\u001b[0m , \u001b[31m? it/s\u001b[0m ]\n",
      "\u001b[2K\u001b[35m   0%\u001b[0m \u001b[90m━━━━━━━━━━━━━━━━━━━━━━━━━━━━━━━━━━━━━━\u001b[0m \u001b[32m0/1 \u001b[0m [ \u001b[33m0:00:00\u001b[0m < \u001b[36m-:--:--\u001b[0m , \u001b[31m? it/s\u001b[0m ]"
     ]
    },
    {
     "name": "stderr",
     "output_type": "stream",
     "text": [
      "\u001b[2;36m \u001b[0m\u001b[36mDEBUG   \u001b[0m Created corpus split directory in \u001b[1;36m1.069\u001b[0m seconds                       \n",
      "\u001b[2;36m \u001b[0m\u001b[32mINFO    \u001b[0m Generating MFCCs\u001b[33m...\u001b[0m                                                   \n"
     ]
    },
    {
     "name": "stdout",
     "output_type": "stream",
     "text": [
      "\u001b[2K\u001b[35m 100%\u001b[0m \u001b[90m━━━━━━━━━━━━━━━━━━━━━━━━━━━━━━━━━━━━━━\u001b[0m \u001b[32m1/1 \u001b[0m [ \u001b[33m0:00:01\u001b[0m < \u001b[36m0:00:00\u001b[0m , \u001b[31m? it/s\u001b[0m ]\n",
      "\u001b[?25h"
     ]
    },
    {
     "name": "stderr",
     "output_type": "stream",
     "text": [
      "\u001b[2;36m \u001b[0m\u001b[36mDEBUG   \u001b[0m Generating MFCCs took \u001b[1;36m2.233\u001b[0m seconds                                   \n",
      "\u001b[2;36m \u001b[0m\u001b[32mINFO    \u001b[0m Calculating CMVN\u001b[33m...\u001b[0m                                                   \n",
      "\u001b[2;36m \u001b[0m\u001b[32mINFO    \u001b[0m Generating final features\u001b[33m...\u001b[0m                                          \n"
     ]
    },
    {
     "name": "stdout",
     "output_type": "stream",
     "text": [
      "\u001b[2K\u001b[35m 100%\u001b[0m \u001b[90m━━━━━━━━━━━━━━━━━━━━━━━━━━━━━━━━━━━━━━\u001b[0m \u001b[32m1/1 \u001b[0m [ \u001b[33m0:00:00\u001b[0m < \u001b[36m0:00:00\u001b[0m , \u001b[31m? it/s\u001b[0m ]\n",
      "\u001b[?25h"
     ]
    },
    {
     "name": "stderr",
     "output_type": "stream",
     "text": [
      "\u001b[2;36m \u001b[0m\u001b[36mDEBUG   \u001b[0m Generating final features took \u001b[1;36m1.306\u001b[0m seconds                          \n",
      "\u001b[2;36m \u001b[0m\u001b[32mINFO    \u001b[0m Creating corpus split with features\u001b[33m...\u001b[0m                                \n"
     ]
    },
    {
     "name": "stdout",
     "output_type": "stream",
     "text": [
      "\u001b[2K\u001b[35m 100%\u001b[0m \u001b[90m━━━━━━━━━━━━━━━━━━━━━━━━━━━━━━━━━━━━━━\u001b[0m \u001b[32m1/1 \u001b[0m [ \u001b[33m0:00:00\u001b[0m < \u001b[36m0:00:00\u001b[0m , \u001b[31m? it/s\u001b[0m ]\n",
      "\u001b[?25h"
     ]
    },
    {
     "name": "stderr",
     "output_type": "stream",
     "text": [
      "\u001b[2;36m \u001b[0m\u001b[36mDEBUG   \u001b[0m Generated features in \u001b[1;36m4.966\u001b[0m seconds                                   \n",
      "\u001b[2;36m \u001b[0m\u001b[36mDEBUG   \u001b[0m Setting up corpus took \u001b[1;36m38.376\u001b[0m seconds                                 \n",
      "\u001b[2;36m \u001b[0m\u001b[36mDEBUG   \u001b[0m                                                                       \n",
      "\u001b[2;36m \u001b[0m\u001b[36mDEBUG   \u001b[0m ====ACOUSTIC MODEL \u001b[33mINFO\u001b[0m====                                           \n",
      "\u001b[2;36m \u001b[0m\u001b[36mDEBUG   \u001b[0m Acoustic model root directory:                                        \n",
      "\u001b[2;36m \u001b[0m         \u001b[35m/mnt/home/20200884/Documents/MFA/extracted_models/\u001b[0m\u001b[95macoustic\u001b[0m            \n",
      "\u001b[2;36m \u001b[0m\u001b[36mDEBUG   \u001b[0m Acoustic model dirname:                                               \n",
      "\u001b[2;36m \u001b[0m         \u001b[35m/mnt/home/20200884/Documents/MFA/extracted_models/acoustic/\u001b[0m\u001b[95menglish_us_\u001b[0m\n",
      "\u001b[2;36m \u001b[0m         \u001b[95marpa_acoustic\u001b[0m                                                         \n",
      "\u001b[2;36m \u001b[0m\u001b[36mDEBUG   \u001b[0m Acoustic model meta path:                                             \n",
      "\u001b[2;36m \u001b[0m         \u001b[35m/mnt/home/20200884/Documents/MFA/extracted_models/acoustic/english_us_\u001b[0m\n",
      "\u001b[2;36m \u001b[0m         \u001b[35marpa_acoustic/\u001b[0m\u001b[95mmeta.json\u001b[0m                                               \n",
      "\u001b[2;36m \u001b[0m\u001b[36mDEBUG   \u001b[0m Acoustic model meta information:                                      \n",
      "\u001b[2;36m \u001b[0m\u001b[36mDEBUG   \u001b[0m architecture: gmm-hmm                                                 \n",
      "\u001b[2;36m \u001b[0m         dictionaries:                                                         \n",
      "\u001b[2;36m \u001b[0m           bracketed_word: \u001b[32m'\u001b[0m\u001b[32m[\u001b[0m\u001b[32mbracketed\u001b[0m\u001b[32m]\u001b[0m\u001b[32m'\u001b[0m                                       \n",
      "\u001b[2;36m \u001b[0m           clitic_marker: \u001b[32m''\u001b[0m\u001b[32m''\u001b[0m                                                 \n",
      "\u001b[2;36m \u001b[0m           default: english_us_arpa                                            \n",
      "\u001b[2;36m \u001b[0m           laughter_word: \u001b[32m'\u001b[0m\u001b[32m[\u001b[0m\u001b[32mlaughter\u001b[0m\u001b[32m]\u001b[0m\u001b[32m'\u001b[0m                                         \n",
      "\u001b[2;36m \u001b[0m           names:                                                              \n",
      "\u001b[2;36m \u001b[0m           - english_us_arpa                                                   \n",
      "\u001b[2;36m \u001b[0m           oov_word: \u001b[1m<\u001b[0m\u001b[1;95munk\u001b[0m\u001b[39m>\u001b[0m                                                     \n",
      "\u001b[2;36m \u001b[0m         \u001b[39m  position_dependent_phones: false\u001b[0m                                    \n",
      "\u001b[2;36m \u001b[0m         \u001b[39m  silence_word: <eps>\u001b[0m                                                 \n",
      "\u001b[2;36m \u001b[0m         \u001b[39m  use_g2p: false\u001b[0m                                                      \n",
      "\u001b[2;36m \u001b[0m         \u001b[39mfeatures:\u001b[0m                                                             \n",
      "\u001b[2;36m \u001b[0m         \u001b[39m  cepstral_lifter: \u001b[0m\u001b[1;36m22\u001b[0m                                                 \n",
      "\u001b[2;36m \u001b[0m         \u001b[39m  delta_pitch: \u001b[0m\u001b[1;36m0.005\u001b[0m                                                  \n",
      "\u001b[2;36m \u001b[0m         \u001b[39m  dither: \u001b[0m\u001b[1;36m1\u001b[0m                                                           \n",
      "\u001b[2;36m \u001b[0m         \u001b[39m  energy_floor: \u001b[0m\u001b[1;36m0\u001b[0m                                                     \n",
      "\u001b[2;36m \u001b[0m         \u001b[39m  feature_type: mfcc\u001b[0m                                                  \n",
      "\u001b[2;36m \u001b[0m         \u001b[39m  frame_length: \u001b[0m\u001b[1;36m25\u001b[0m                                                    \n",
      "\u001b[2;36m \u001b[0m         \u001b[39m  frame_shift: \u001b[0m\u001b[1;36m10\u001b[0m                                                     \n",
      "\u001b[2;36m \u001b[0m         \u001b[39m  high_frequency: \u001b[0m\u001b[1;36m7800\u001b[0m                                                \n",
      "\u001b[2;36m \u001b[0m         \u001b[39m  low_frequency: \u001b[0m\u001b[1;36m20\u001b[0m                                                   \n",
      "\u001b[2;36m \u001b[0m         \u001b[39m  max_f0: \u001b[0m\u001b[1;36m800\u001b[0m                                                         \n",
      "\u001b[2;36m \u001b[0m         \u001b[39m  min_f0: \u001b[0m\u001b[1;36m50\u001b[0m                                                          \n",
      "\u001b[2;36m \u001b[0m         \u001b[39m  num_coefficients: \u001b[0m\u001b[1;36m13\u001b[0m                                                \n",
      "\u001b[2;36m \u001b[0m         \u001b[39m  num_mel_bins: \u001b[0m\u001b[1;36m23\u001b[0m                                                    \n",
      "\u001b[2;36m \u001b[0m         \u001b[39m  penalty_factor: \u001b[0m\u001b[1;36m0.1\u001b[0m                                                 \n",
      "\u001b[2;36m \u001b[0m         \u001b[39m  preemphasis_coefficient: \u001b[0m\u001b[1;36m0.97\u001b[0m                                       \n",
      "\u001b[2;36m \u001b[0m         \u001b[39m  sample_frequency: \u001b[0m\u001b[1;36m16000\u001b[0m                                             \n",
      "\u001b[2;36m \u001b[0m         \u001b[39m  silence_weight: \u001b[0m\u001b[1;36m0.0\u001b[0m                                                 \n",
      "\u001b[2;36m \u001b[0m         \u001b[39m  snip_edges: false\u001b[0m                                                   \n",
      "\u001b[2;36m \u001b[0m         \u001b[39m  splice_left_context: \u001b[0m\u001b[1;36m3\u001b[0m                                              \n",
      "\u001b[2;36m \u001b[0m         \u001b[39m  splice_right_context: \u001b[0m\u001b[1;36m3\u001b[0m                                             \n",
      "\u001b[2;36m \u001b[0m         \u001b[39m  use_energy: false\u001b[0m                                                   \n",
      "\u001b[2;36m \u001b[0m         \u001b[39m  use_pitch: false\u001b[0m                                                    \n",
      "\u001b[2;36m \u001b[0m         \u001b[39m  use_voicing: false\u001b[0m                                                  \n",
      "\u001b[2;36m \u001b[0m         \u001b[39m  uses_cmvn: true\u001b[0m                                                     \n",
      "\u001b[2;36m \u001b[0m         \u001b[39m  uses_deltas: false\u001b[0m                                                  \n",
      "\u001b[2;36m \u001b[0m         \u001b[39m  uses_speaker_adaptation: true\u001b[0m                                       \n",
      "\u001b[2;36m \u001b[0m         \u001b[39m  uses_splices: true\u001b[0m                                                  \n",
      "\u001b[2;36m \u001b[0m         \u001b[39m  uses_voiced: false\u001b[0m                                                  \n",
      "\u001b[2;36m \u001b[0m         \u001b[39mfinal_non_silence_correction: \u001b[0m\u001b[1;36m0.01\u001b[0m                                    \n",
      "\u001b[2;36m \u001b[0m         \u001b[39mfinal_silence_correction: \u001b[0m\u001b[1;36m0.99\u001b[0m                                        \n",
      "\u001b[2;36m \u001b[0m         \u001b[39minitial_silence_probability: \u001b[0m\u001b[1;36m0.18\u001b[0m                                     \n",
      "\u001b[2;36m \u001b[0m         \u001b[39mlanguage: unknown\u001b[0m                                                     \n",
      "\u001b[2;36m \u001b[0m         \u001b[39moov_phone: spn\u001b[0m                                                        \n",
      "\u001b[2;36m \u001b[0m         \u001b[39moptional_silence_phone: sil\u001b[0m                                           \n",
      "\u001b[2;36m \u001b[0m         \u001b[39mphone_groups:\u001b[0m                                                         \n",
      "\u001b[2;36m \u001b[0m         \u001b[39m  AA0:\u001b[0m                                                                \n",
      "\u001b[2;36m \u001b[0m         \u001b[39m  - AA0\u001b[0m                                                               \n",
      "\u001b[2;36m \u001b[0m         \u001b[39m  AA1:\u001b[0m                                                                \n",
      "\u001b[2;36m \u001b[0m         \u001b[39m  - AA1\u001b[0m                                                               \n",
      "\u001b[2;36m \u001b[0m         \u001b[39m  AA2:\u001b[0m                                                                \n",
      "\u001b[2;36m \u001b[0m         \u001b[39m  - AA2\u001b[0m                                                               \n",
      "\u001b[2;36m \u001b[0m         \u001b[39m  AE0:\u001b[0m                                                                \n",
      "\u001b[2;36m \u001b[0m         \u001b[39m  - AE0\u001b[0m                                                               \n",
      "\u001b[2;36m \u001b[0m         \u001b[39m  AE1:\u001b[0m                                                                \n",
      "\u001b[2;36m \u001b[0m         \u001b[39m  - AE1\u001b[0m                                                               \n",
      "\u001b[2;36m \u001b[0m         \u001b[39m  AE2:\u001b[0m                                                                \n",
      "\u001b[2;36m \u001b[0m         \u001b[39m  - AE2\u001b[0m                                                               \n",
      "\u001b[2;36m \u001b[0m         \u001b[39m  AH0:\u001b[0m                                                                \n",
      "\u001b[2;36m \u001b[0m         \u001b[39m  - AH0\u001b[0m                                                               \n",
      "\u001b[2;36m \u001b[0m         \u001b[39m  AH1:\u001b[0m                                                                \n",
      "\u001b[2;36m \u001b[0m         \u001b[39m  - AH1\u001b[0m                                                               \n",
      "\u001b[2;36m \u001b[0m         \u001b[39m  AH2:\u001b[0m                                                                \n",
      "\u001b[2;36m \u001b[0m         \u001b[39m  - AH2\u001b[0m                                                               \n",
      "\u001b[2;36m \u001b[0m         \u001b[39m  AO0:\u001b[0m                                                                \n",
      "\u001b[2;36m \u001b[0m         \u001b[39m  - AO0\u001b[0m                                                               \n",
      "\u001b[2;36m \u001b[0m         \u001b[39m  AO1:\u001b[0m                                                                \n",
      "\u001b[2;36m \u001b[0m         \u001b[39m  - AO1\u001b[0m                                                               \n",
      "\u001b[2;36m \u001b[0m         \u001b[39m  AO2:\u001b[0m                                                                \n",
      "\u001b[2;36m \u001b[0m         \u001b[39m  - AO2\u001b[0m                                                               \n",
      "\u001b[2;36m \u001b[0m         \u001b[39m  AW0:\u001b[0m                                                                \n",
      "\u001b[2;36m \u001b[0m         \u001b[39m  - AW0\u001b[0m                                                               \n",
      "\u001b[2;36m \u001b[0m         \u001b[39m  AW1:\u001b[0m                                                                \n",
      "\u001b[2;36m \u001b[0m         \u001b[39m  - AW1\u001b[0m                                                               \n",
      "\u001b[2;36m \u001b[0m         \u001b[39m  AW2:\u001b[0m                                                                \n",
      "\u001b[2;36m \u001b[0m         \u001b[39m  - AW2\u001b[0m                                                               \n",
      "\u001b[2;36m \u001b[0m         \u001b[39m  AY0:\u001b[0m                                                                \n",
      "\u001b[2;36m \u001b[0m         \u001b[39m  - AY0\u001b[0m                                                               \n",
      "\u001b[2;36m \u001b[0m         \u001b[39m  AY1:\u001b[0m                                                                \n",
      "\u001b[2;36m \u001b[0m         \u001b[39m  - AY1\u001b[0m                                                               \n",
      "\u001b[2;36m \u001b[0m         \u001b[39m  AY2:\u001b[0m                                                                \n",
      "\u001b[2;36m \u001b[0m         \u001b[39m  - AY2\u001b[0m                                                               \n",
      "\u001b[2;36m \u001b[0m         \u001b[39m  B:\u001b[0m                                                                  \n",
      "\u001b[2;36m \u001b[0m         \u001b[39m  - B\u001b[0m                                                                 \n",
      "\u001b[2;36m \u001b[0m         \u001b[39m  CH:\u001b[0m                                                                 \n",
      "\u001b[2;36m \u001b[0m         \u001b[39m  - CH\u001b[0m                                                                \n",
      "\u001b[2;36m \u001b[0m         \u001b[39m  D:\u001b[0m                                                                  \n",
      "\u001b[2;36m \u001b[0m         \u001b[39m  - D\u001b[0m                                                                 \n",
      "\u001b[2;36m \u001b[0m         \u001b[39m  DH:\u001b[0m                                                                 \n",
      "\u001b[2;36m \u001b[0m         \u001b[39m  - DH\u001b[0m                                                                \n",
      "\u001b[2;36m \u001b[0m         \u001b[39m  EH0:\u001b[0m                                                                \n",
      "\u001b[2;36m \u001b[0m         \u001b[39m  - EH0\u001b[0m                                                               \n",
      "\u001b[2;36m \u001b[0m         \u001b[39m  EH1:\u001b[0m                                                                \n",
      "\u001b[2;36m \u001b[0m         \u001b[39m  - EH1\u001b[0m                                                               \n",
      "\u001b[2;36m \u001b[0m         \u001b[39m  EH2:\u001b[0m                                                                \n",
      "\u001b[2;36m \u001b[0m         \u001b[39m  - EH2\u001b[0m                                                               \n",
      "\u001b[2;36m \u001b[0m         \u001b[39m  ER0:\u001b[0m                                                                \n",
      "\u001b[2;36m \u001b[0m         \u001b[39m  - ER0\u001b[0m                                                               \n",
      "\u001b[2;36m \u001b[0m         \u001b[39m  ER1:\u001b[0m                                                                \n",
      "\u001b[2;36m \u001b[0m         \u001b[39m  - ER1\u001b[0m                                                               \n",
      "\u001b[2;36m \u001b[0m         \u001b[39m  ER2:\u001b[0m                                                                \n",
      "\u001b[2;36m \u001b[0m         \u001b[39m  - ER2\u001b[0m                                                               \n",
      "\u001b[2;36m \u001b[0m         \u001b[39m  EY0:\u001b[0m                                                                \n",
      "\u001b[2;36m \u001b[0m         \u001b[39m  - EY0\u001b[0m                                                               \n",
      "\u001b[2;36m \u001b[0m         \u001b[39m  EY1:\u001b[0m                                                                \n",
      "\u001b[2;36m \u001b[0m         \u001b[39m  - EY1\u001b[0m                                                               \n",
      "\u001b[2;36m \u001b[0m         \u001b[39m  EY2:\u001b[0m                                                                \n",
      "\u001b[2;36m \u001b[0m         \u001b[39m  - EY2\u001b[0m                                                               \n",
      "\u001b[2;36m \u001b[0m         \u001b[39m  F:\u001b[0m                                                                  \n",
      "\u001b[2;36m \u001b[0m         \u001b[39m  - F\u001b[0m                                                                 \n",
      "\u001b[2;36m \u001b[0m         \u001b[39m  G:\u001b[0m                                                                  \n",
      "\u001b[2;36m \u001b[0m         \u001b[39m  - G\u001b[0m                                                                 \n",
      "\u001b[2;36m \u001b[0m         \u001b[39m  HH:\u001b[0m                                                                 \n",
      "\u001b[2;36m \u001b[0m         \u001b[39m  - HH\u001b[0m                                                                \n",
      "\u001b[2;36m \u001b[0m         \u001b[39m  IH0:\u001b[0m                                                                \n",
      "\u001b[2;36m \u001b[0m         \u001b[39m  - IH0\u001b[0m                                                               \n",
      "\u001b[2;36m \u001b[0m         \u001b[39m  IH1:\u001b[0m                                                                \n",
      "\u001b[2;36m \u001b[0m         \u001b[39m  - IH1\u001b[0m                                                               \n",
      "\u001b[2;36m \u001b[0m         \u001b[39m  IH2:\u001b[0m                                                                \n",
      "\u001b[2;36m \u001b[0m         \u001b[39m  - IH2\u001b[0m                                                               \n",
      "\u001b[2;36m \u001b[0m         \u001b[39m  IY0:\u001b[0m                                                                \n",
      "\u001b[2;36m \u001b[0m         \u001b[39m  - IY0\u001b[0m                                                               \n",
      "\u001b[2;36m \u001b[0m         \u001b[39m  IY1:\u001b[0m                                                                \n",
      "\u001b[2;36m \u001b[0m         \u001b[39m  - IY1\u001b[0m                                                               \n",
      "\u001b[2;36m \u001b[0m         \u001b[39m  IY2:\u001b[0m                                                                \n",
      "\u001b[2;36m \u001b[0m         \u001b[39m  - IY2\u001b[0m                                                               \n",
      "\u001b[2;36m \u001b[0m         \u001b[39m  JH:\u001b[0m                                                                 \n",
      "\u001b[2;36m \u001b[0m         \u001b[39m  - JH\u001b[0m                                                                \n",
      "\u001b[2;36m \u001b[0m         \u001b[39m  K:\u001b[0m                                                                  \n",
      "\u001b[2;36m \u001b[0m         \u001b[39m  - K\u001b[0m                                                                 \n",
      "\u001b[2;36m \u001b[0m         \u001b[39m  L:\u001b[0m                                                                  \n",
      "\u001b[2;36m \u001b[0m         \u001b[39m  - L\u001b[0m                                                                 \n",
      "\u001b[2;36m \u001b[0m         \u001b[39m  M:\u001b[0m                                                                  \n",
      "\u001b[2;36m \u001b[0m         \u001b[39m  - M\u001b[0m                                                                 \n",
      "\u001b[2;36m \u001b[0m         \u001b[39m  N:\u001b[0m                                                                  \n",
      "\u001b[2;36m \u001b[0m         \u001b[39m  - N\u001b[0m                                                                 \n",
      "\u001b[2;36m \u001b[0m         \u001b[39m  NG:\u001b[0m                                                                 \n",
      "\u001b[2;36m \u001b[0m         \u001b[39m  - NG\u001b[0m                                                                \n",
      "\u001b[2;36m \u001b[0m         \u001b[39m  OW0:\u001b[0m                                                                \n",
      "\u001b[2;36m \u001b[0m         \u001b[39m  - OW0\u001b[0m                                                               \n",
      "\u001b[2;36m \u001b[0m         \u001b[39m  OW1:\u001b[0m                                                                \n",
      "\u001b[2;36m \u001b[0m         \u001b[39m  - OW1\u001b[0m                                                               \n",
      "\u001b[2;36m \u001b[0m         \u001b[39m  OW2:\u001b[0m                                                                \n",
      "\u001b[2;36m \u001b[0m         \u001b[39m  - OW2\u001b[0m                                                               \n",
      "\u001b[2;36m \u001b[0m         \u001b[39m  OY0:\u001b[0m                                                                \n",
      "\u001b[2;36m \u001b[0m         \u001b[39m  - OY0\u001b[0m                                                               \n",
      "\u001b[2;36m \u001b[0m         \u001b[39m  OY1:\u001b[0m                                                                \n",
      "\u001b[2;36m \u001b[0m         \u001b[39m  - OY1\u001b[0m                                                               \n",
      "\u001b[2;36m \u001b[0m         \u001b[39m  OY2:\u001b[0m                                                                \n",
      "\u001b[2;36m \u001b[0m         \u001b[39m  - OY2\u001b[0m                                                               \n",
      "\u001b[2;36m \u001b[0m         \u001b[39m  P:\u001b[0m                                                                  \n",
      "\u001b[2;36m \u001b[0m         \u001b[39m  - P\u001b[0m                                                                 \n",
      "\u001b[2;36m \u001b[0m         \u001b[39m  R:\u001b[0m                                                                  \n",
      "\u001b[2;36m \u001b[0m         \u001b[39m  - R\u001b[0m                                                                 \n",
      "\u001b[2;36m \u001b[0m         \u001b[39m  S:\u001b[0m                                                                  \n",
      "\u001b[2;36m \u001b[0m         \u001b[39m  - S\u001b[0m                                                                 \n",
      "\u001b[2;36m \u001b[0m         \u001b[39m  SH:\u001b[0m                                                                 \n",
      "\u001b[2;36m \u001b[0m         \u001b[39m  - SH\u001b[0m                                                                \n",
      "\u001b[2;36m \u001b[0m         \u001b[39m  T:\u001b[0m                                                                  \n",
      "\u001b[2;36m \u001b[0m         \u001b[39m  - T\u001b[0m                                                                 \n",
      "\u001b[2;36m \u001b[0m         \u001b[39m  TH:\u001b[0m                                                                 \n",
      "\u001b[2;36m \u001b[0m         \u001b[39m  - TH\u001b[0m                                                                \n",
      "\u001b[2;36m \u001b[0m         \u001b[39m  UH0:\u001b[0m                                                                \n",
      "\u001b[2;36m \u001b[0m         \u001b[39m  - UH0\u001b[0m                                                               \n",
      "\u001b[2;36m \u001b[0m         \u001b[39m  UH1:\u001b[0m                                                                \n",
      "\u001b[2;36m \u001b[0m         \u001b[39m  - UH1\u001b[0m                                                               \n",
      "\u001b[2;36m \u001b[0m         \u001b[39m  UH2:\u001b[0m                                                                \n",
      "\u001b[2;36m \u001b[0m         \u001b[39m  - UH2\u001b[0m                                                               \n",
      "\u001b[2;36m \u001b[0m         \u001b[39m  UW0:\u001b[0m                                                                \n",
      "\u001b[2;36m \u001b[0m         \u001b[39m  - UW0\u001b[0m                                                               \n",
      "\u001b[2;36m \u001b[0m         \u001b[39m  UW1:\u001b[0m                                                                \n",
      "\u001b[2;36m \u001b[0m         \u001b[39m  - UW1\u001b[0m                                                               \n",
      "\u001b[2;36m \u001b[0m         \u001b[39m  UW2:\u001b[0m                                                                \n",
      "\u001b[2;36m \u001b[0m         \u001b[39m  - UW2\u001b[0m                                                               \n",
      "\u001b[2;36m \u001b[0m         \u001b[39m  V:\u001b[0m                                                                  \n",
      "\u001b[2;36m \u001b[0m         \u001b[39m  - V\u001b[0m                                                                 \n",
      "\u001b[2;36m \u001b[0m         \u001b[39m  W:\u001b[0m                                                                  \n",
      "\u001b[2;36m \u001b[0m         \u001b[39m  - W\u001b[0m                                                                 \n",
      "\u001b[2;36m \u001b[0m         \u001b[39m  Y:\u001b[0m                                                                  \n",
      "\u001b[2;36m \u001b[0m         \u001b[39m  - Y\u001b[0m                                                                 \n",
      "\u001b[2;36m \u001b[0m         \u001b[39m  Z:\u001b[0m                                                                  \n",
      "\u001b[2;36m \u001b[0m         \u001b[39m  - Z\u001b[0m                                                                 \n",
      "\u001b[2;36m \u001b[0m         \u001b[39m  ZH:\u001b[0m                                                                 \n",
      "\u001b[2;36m \u001b[0m         \u001b[39m  - ZH\u001b[0m                                                                \n",
      "\u001b[2;36m \u001b[0m         \u001b[39mphone_mapping:\u001b[0m                                                        \n",
      "\u001b[2;36m \u001b[0m         \u001b[39m  <eps\u001b[0m\u001b[1m>\u001b[0m: \u001b[1;36m0\u001b[0m                                                            \n",
      "\u001b[2;36m \u001b[0m           AA0: \u001b[1;36m3\u001b[0m                                                              \n",
      "\u001b[2;36m \u001b[0m           AA1: \u001b[1;36m4\u001b[0m                                                              \n",
      "\u001b[2;36m \u001b[0m           AA2: \u001b[1;36m5\u001b[0m                                                              \n",
      "\u001b[2;36m \u001b[0m           AE0: \u001b[1;36m6\u001b[0m                                                              \n",
      "\u001b[2;36m \u001b[0m           AE1: \u001b[1;36m7\u001b[0m                                                              \n",
      "\u001b[2;36m \u001b[0m           AE2: \u001b[1;36m8\u001b[0m                                                              \n",
      "\u001b[2;36m \u001b[0m           AH0: \u001b[1;36m9\u001b[0m                                                              \n",
      "\u001b[2;36m \u001b[0m           AH1: \u001b[1;36m10\u001b[0m                                                             \n",
      "\u001b[2;36m \u001b[0m           AH2: \u001b[1;36m11\u001b[0m                                                             \n",
      "\u001b[2;36m \u001b[0m           AO0: \u001b[1;36m12\u001b[0m                                                             \n",
      "\u001b[2;36m \u001b[0m           AO1: \u001b[1;36m13\u001b[0m                                                             \n",
      "\u001b[2;36m \u001b[0m           AO2: \u001b[1;36m14\u001b[0m                                                             \n",
      "\u001b[2;36m \u001b[0m           AW0: \u001b[1;36m15\u001b[0m                                                             \n",
      "\u001b[2;36m \u001b[0m           AW1: \u001b[1;36m16\u001b[0m                                                             \n",
      "\u001b[2;36m \u001b[0m           AW2: \u001b[1;36m17\u001b[0m                                                             \n",
      "\u001b[2;36m \u001b[0m           AY0: \u001b[1;36m18\u001b[0m                                                             \n",
      "\u001b[2;36m \u001b[0m           AY1: \u001b[1;36m19\u001b[0m                                                             \n",
      "\u001b[2;36m \u001b[0m           AY2: \u001b[1;36m20\u001b[0m                                                             \n",
      "\u001b[2;36m \u001b[0m           B: \u001b[1;36m21\u001b[0m                                                               \n",
      "\u001b[2;36m \u001b[0m           CH: \u001b[1;36m22\u001b[0m                                                              \n",
      "\u001b[2;36m \u001b[0m           D: \u001b[1;36m23\u001b[0m                                                               \n",
      "\u001b[2;36m \u001b[0m           DH: \u001b[1;36m24\u001b[0m                                                              \n",
      "\u001b[2;36m \u001b[0m           EH0: \u001b[1;36m25\u001b[0m                                                             \n",
      "\u001b[2;36m \u001b[0m           EH1: \u001b[1;36m26\u001b[0m                                                             \n",
      "\u001b[2;36m \u001b[0m           EH2: \u001b[1;36m27\u001b[0m                                                             \n",
      "\u001b[2;36m \u001b[0m           ER0: \u001b[1;36m28\u001b[0m                                                             \n",
      "\u001b[2;36m \u001b[0m           ER1: \u001b[1;36m29\u001b[0m                                                             \n",
      "\u001b[2;36m \u001b[0m           ER2: \u001b[1;36m30\u001b[0m                                                             \n",
      "\u001b[2;36m \u001b[0m           EY0: \u001b[1;36m31\u001b[0m                                                             \n",
      "\u001b[2;36m \u001b[0m           EY1: \u001b[1;36m32\u001b[0m                                                             \n",
      "\u001b[2;36m \u001b[0m           EY2: \u001b[1;36m33\u001b[0m                                                             \n",
      "\u001b[2;36m \u001b[0m           F: \u001b[1;36m34\u001b[0m                                                               \n",
      "\u001b[2;36m \u001b[0m           G: \u001b[1;36m35\u001b[0m                                                               \n",
      "\u001b[2;36m \u001b[0m           HH: \u001b[1;36m36\u001b[0m                                                              \n",
      "\u001b[2;36m \u001b[0m           IH0: \u001b[1;36m37\u001b[0m                                                             \n",
      "\u001b[2;36m \u001b[0m           IH1: \u001b[1;36m38\u001b[0m                                                             \n",
      "\u001b[2;36m \u001b[0m           IH2: \u001b[1;36m39\u001b[0m                                                             \n",
      "\u001b[2;36m \u001b[0m           IY0: \u001b[1;36m40\u001b[0m                                                             \n",
      "\u001b[2;36m \u001b[0m           IY1: \u001b[1;36m41\u001b[0m                                                             \n",
      "\u001b[2;36m \u001b[0m           IY2: \u001b[1;36m42\u001b[0m                                                             \n",
      "\u001b[2;36m \u001b[0m           JH: \u001b[1;36m43\u001b[0m                                                              \n",
      "\u001b[2;36m \u001b[0m           K: \u001b[1;36m44\u001b[0m                                                               \n",
      "\u001b[2;36m \u001b[0m           L: \u001b[1;36m45\u001b[0m                                                               \n",
      "\u001b[2;36m \u001b[0m           M: \u001b[1;36m46\u001b[0m                                                               \n",
      "\u001b[2;36m \u001b[0m           N: \u001b[1;36m47\u001b[0m                                                               \n",
      "\u001b[2;36m \u001b[0m           NG: \u001b[1;36m48\u001b[0m                                                              \n",
      "\u001b[2;36m \u001b[0m           OW0: \u001b[1;36m49\u001b[0m                                                             \n",
      "\u001b[2;36m \u001b[0m           OW1: \u001b[1;36m50\u001b[0m                                                             \n",
      "\u001b[2;36m \u001b[0m           OW2: \u001b[1;36m51\u001b[0m                                                             \n",
      "\u001b[2;36m \u001b[0m           OY0: \u001b[1;36m52\u001b[0m                                                             \n",
      "\u001b[2;36m \u001b[0m           OY1: \u001b[1;36m53\u001b[0m                                                             \n",
      "\u001b[2;36m \u001b[0m           OY2: \u001b[1;36m54\u001b[0m                                                             \n",
      "\u001b[2;36m \u001b[0m           P: \u001b[1;36m55\u001b[0m                                                               \n",
      "\u001b[2;36m \u001b[0m           R: \u001b[1;36m56\u001b[0m                                                               \n",
      "\u001b[2;36m \u001b[0m           S: \u001b[1;36m57\u001b[0m                                                               \n",
      "\u001b[2;36m \u001b[0m           SH: \u001b[1;36m58\u001b[0m                                                              \n",
      "\u001b[2;36m \u001b[0m           T: \u001b[1;36m59\u001b[0m                                                               \n",
      "\u001b[2;36m \u001b[0m           TH: \u001b[1;36m60\u001b[0m                                                              \n",
      "\u001b[2;36m \u001b[0m           UH0: \u001b[1;36m61\u001b[0m                                                             \n",
      "\u001b[2;36m \u001b[0m           UH1: \u001b[1;36m62\u001b[0m                                                             \n",
      "\u001b[2;36m \u001b[0m           UH2: \u001b[1;36m63\u001b[0m                                                             \n",
      "\u001b[2;36m \u001b[0m           UW0: \u001b[1;36m64\u001b[0m                                                             \n",
      "\u001b[2;36m \u001b[0m           UW1: \u001b[1;36m65\u001b[0m                                                             \n",
      "\u001b[2;36m \u001b[0m           UW2: \u001b[1;36m66\u001b[0m                                                             \n",
      "\u001b[2;36m \u001b[0m           V: \u001b[1;36m67\u001b[0m                                                               \n",
      "\u001b[2;36m \u001b[0m           W: \u001b[1;36m68\u001b[0m                                                               \n",
      "\u001b[2;36m \u001b[0m           Y: \u001b[1;36m69\u001b[0m                                                               \n",
      "\u001b[2;36m \u001b[0m           Z: \u001b[1;36m70\u001b[0m                                                               \n",
      "\u001b[2;36m \u001b[0m           ZH: \u001b[1;36m71\u001b[0m                                                              \n",
      "\u001b[2;36m \u001b[0m           sil: \u001b[1;36m1\u001b[0m                                                              \n",
      "\u001b[2;36m \u001b[0m           spn: \u001b[1;36m2\u001b[0m                                                              \n",
      "\u001b[2;36m \u001b[0m         phone_set_type: UNKNOWN                                               \n",
      "\u001b[2;36m \u001b[0m         phone_type: triphone                                                  \n",
      "\u001b[2;36m \u001b[0m         phones: !!set                                                         \n",
      "\u001b[2;36m \u001b[0m           AA0: null                                                           \n",
      "\u001b[2;36m \u001b[0m           AA1: null                                                           \n",
      "\u001b[2;36m \u001b[0m           AA2: null                                                           \n",
      "\u001b[2;36m \u001b[0m           AE0: null                                                           \n",
      "\u001b[2;36m \u001b[0m           AE1: null                                                           \n",
      "\u001b[2;36m \u001b[0m           AE2: null                                                           \n",
      "\u001b[2;36m \u001b[0m           AH0: null                                                           \n",
      "\u001b[2;36m \u001b[0m           AH1: null                                                           \n",
      "\u001b[2;36m \u001b[0m           AH2: null                                                           \n",
      "\u001b[2;36m \u001b[0m           AO0: null                                                           \n",
      "\u001b[2;36m \u001b[0m           AO1: null                                                           \n",
      "\u001b[2;36m \u001b[0m           AO2: null                                                           \n",
      "\u001b[2;36m \u001b[0m           AW0: null                                                           \n",
      "\u001b[2;36m \u001b[0m           AW1: null                                                           \n",
      "\u001b[2;36m \u001b[0m           AW2: null                                                           \n",
      "\u001b[2;36m \u001b[0m           AY0: null                                                           \n",
      "\u001b[2;36m \u001b[0m           AY1: null                                                           \n",
      "\u001b[2;36m \u001b[0m           AY2: null                                                           \n",
      "\u001b[2;36m \u001b[0m           B: null                                                             \n",
      "\u001b[2;36m \u001b[0m           CH: null                                                            \n",
      "\u001b[2;36m \u001b[0m           D: null                                                             \n",
      "\u001b[2;36m \u001b[0m           DH: null                                                            \n",
      "\u001b[2;36m \u001b[0m           EH0: null                                                           \n",
      "\u001b[2;36m \u001b[0m           EH1: null                                                           \n",
      "\u001b[2;36m \u001b[0m           EH2: null                                                           \n",
      "\u001b[2;36m \u001b[0m           ER0: null                                                           \n",
      "\u001b[2;36m \u001b[0m           ER1: null                                                           \n",
      "\u001b[2;36m \u001b[0m           ER2: null                                                           \n",
      "\u001b[2;36m \u001b[0m           EY0: null                                                           \n",
      "\u001b[2;36m \u001b[0m           EY1: null                                                           \n",
      "\u001b[2;36m \u001b[0m           EY2: null                                                           \n",
      "\u001b[2;36m \u001b[0m           F: null                                                             \n",
      "\u001b[2;36m \u001b[0m           G: null                                                             \n",
      "\u001b[2;36m \u001b[0m           HH: null                                                            \n",
      "\u001b[2;36m \u001b[0m           IH0: null                                                           \n",
      "\u001b[2;36m \u001b[0m           IH1: null                                                           \n",
      "\u001b[2;36m \u001b[0m           IH2: null                                                           \n",
      "\u001b[2;36m \u001b[0m           IY0: null                                                           \n",
      "\u001b[2;36m \u001b[0m           IY1: null                                                           \n",
      "\u001b[2;36m \u001b[0m           IY2: null                                                           \n",
      "\u001b[2;36m \u001b[0m           JH: null                                                            \n",
      "\u001b[2;36m \u001b[0m           K: null                                                             \n",
      "\u001b[2;36m \u001b[0m           L: null                                                             \n",
      "\u001b[2;36m \u001b[0m           M: null                                                             \n",
      "\u001b[2;36m \u001b[0m           N: null                                                             \n",
      "\u001b[2;36m \u001b[0m           NG: null                                                            \n",
      "\u001b[2;36m \u001b[0m           OW0: null                                                           \n",
      "\u001b[2;36m \u001b[0m           OW1: null                                                           \n",
      "\u001b[2;36m \u001b[0m           OW2: null                                                           \n",
      "\u001b[2;36m \u001b[0m           OY0: null                                                           \n",
      "\u001b[2;36m \u001b[0m           OY1: null                                                           \n",
      "\u001b[2;36m \u001b[0m           OY2: null                                                           \n",
      "\u001b[2;36m \u001b[0m           P: null                                                             \n",
      "\u001b[2;36m \u001b[0m           R: null                                                             \n",
      "\u001b[2;36m \u001b[0m           S: null                                                             \n",
      "\u001b[2;36m \u001b[0m           SH: null                                                            \n",
      "\u001b[2;36m \u001b[0m           T: null                                                             \n",
      "\u001b[2;36m \u001b[0m           TH: null                                                            \n",
      "\u001b[2;36m \u001b[0m           UH0: null                                                           \n",
      "\u001b[2;36m \u001b[0m           UH1: null                                                           \n",
      "\u001b[2;36m \u001b[0m           UH2: null                                                           \n",
      "\u001b[2;36m \u001b[0m           UW0: null                                                           \n",
      "\u001b[2;36m \u001b[0m           UW1: null                                                           \n",
      "\u001b[2;36m \u001b[0m           UW2: null                                                           \n",
      "\u001b[2;36m \u001b[0m           V: null                                                             \n",
      "\u001b[2;36m \u001b[0m           W: null                                                             \n",
      "\u001b[2;36m \u001b[0m           Y: null                                                             \n",
      "\u001b[2;36m \u001b[0m           Z: null                                                             \n",
      "\u001b[2;36m \u001b[0m           ZH: null                                                            \n",
      "\u001b[2;36m \u001b[0m         silence_probability: \u001b[1;36m0.18\u001b[0m                                             \n",
      "\u001b[2;36m \u001b[0m         train_date: \u001b[32m'2024-02-10 15:17:19.181270'\u001b[0m                              \n",
      "\u001b[2;36m \u001b[0m         training:                                                             \n",
      "\u001b[2;36m \u001b[0m           audio_duration: \u001b[1;36m3536308.477162502\u001b[0m                                   \n",
      "\u001b[2;36m \u001b[0m           average_log_likelihood: \u001b[1;36m-0.050285424064008426\u001b[0m                       \n",
      "\u001b[2;36m \u001b[0m           num_oovs: \u001b[1;36m0\u001b[0m                                                         \n",
      "\u001b[2;36m \u001b[0m           num_speakers: \u001b[1;36m2485\u001b[0m                                                  \n",
      "\u001b[2;36m \u001b[0m           num_utterances: \u001b[1;36m292367\u001b[0m                                              \n",
      "\u001b[2;36m \u001b[0m         version: \u001b[1;36m3.0\u001b[0m.0a2.dev0+g940e907.d20230824                              \n",
      "\u001b[2;36m \u001b[0m                                                                               \n",
      "\u001b[2;36m \u001b[0m\u001b[36mDEBUG   \u001b[0m                                                                       \n",
      "\u001b[2;36m \u001b[0m\u001b[36mDEBUG   \u001b[0m Setup for alignment in \u001b[1;36m38.546\u001b[0m seconds                                 \n",
      "\u001b[2;36m \u001b[0m\u001b[32mINFO    \u001b[0m Compiling training graphs\u001b[33m...\u001b[0m                                          \n"
     ]
    },
    {
     "name": "stdout",
     "output_type": "stream",
     "text": [
      "\u001b[2K\u001b[35m 100%\u001b[0m \u001b[90m━━━━━━━━━━━━━━━━━━━━━━━━━━━━━━━━━━━━━━\u001b[0m \u001b[32m1/1 \u001b[0m [ \u001b[33m0:00:00\u001b[0m < \u001b[36m0:00:00\u001b[0m , \u001b[31m? it/s\u001b[0m ]\n",
      "\u001b[2K\u001b[35m   0%\u001b[0m \u001b[90m━━━━━━━━━━━━━━━━━━━━━━━━━━━━━━━━━━━━━━\u001b[0m \u001b[32m0/1 \u001b[0m [ \u001b[33m0:00:00\u001b[0m < \u001b[36m-:--:--\u001b[0m , \u001b[31m? it/s\u001b[0m ]"
     ]
    },
    {
     "name": "stderr",
     "output_type": "stream",
     "text": [
      "\u001b[2;36m \u001b[0m\u001b[36mDEBUG   \u001b[0m Compiling training graphs took \u001b[1;36m1.383\u001b[0m seconds                          \n",
      "\u001b[2;36m \u001b[0m\u001b[32mINFO    \u001b[0m Performing first-pass alignment\u001b[33m...\u001b[0m                                    \n",
      "\u001b[2;36m \u001b[0m\u001b[32mINFO    \u001b[0m Generating alignments\u001b[33m...\u001b[0m                                              \n"
     ]
    },
    {
     "name": "stdout",
     "output_type": "stream",
     "text": [
      "\u001b[2K\u001b[35m 100%\u001b[0m \u001b[90m━━━━━━━━━━━━━━━━━━━━━━━━━━━━━━━━━━━━━━\u001b[0m \u001b[32m1/1 \u001b[0m [ \u001b[33m0:00:00\u001b[0m < \u001b[36m0:00:00\u001b[0m , \u001b[31m? it/s\u001b[0m ]\n",
      "\u001b[?25h"
     ]
    },
    {
     "name": "stderr",
     "output_type": "stream",
     "text": [
      "\u001b[2;36m \u001b[0m\u001b[36mDEBUG   \u001b[0m Alignment round took \u001b[1;36m1.818\u001b[0m seconds                                    \n",
      "\u001b[2;36m \u001b[0m\u001b[32mINFO    \u001b[0m Calculating fMLLR for speaker adaptation\u001b[33m...\u001b[0m                           \n"
     ]
    },
    {
     "name": "stdout",
     "output_type": "stream",
     "text": [
      "\u001b[2K\u001b[35m 100%\u001b[0m \u001b[90m━━━━━━━━━━━━━━━━━━━━━━━━━━━━━━━━━━━━━━\u001b[0m \u001b[32m1/1 \u001b[0m [ \u001b[33m0:00:00\u001b[0m < \u001b[36m0:00:00\u001b[0m , \u001b[31m? it/s\u001b[0m ]\n",
      "\u001b[?25h"
     ]
    },
    {
     "name": "stderr",
     "output_type": "stream",
     "text": [
      "\u001b[2;36m \u001b[0m\u001b[36mDEBUG   \u001b[0m Fmllr calculation took \u001b[1;36m1.773\u001b[0m seconds                                  \n",
      "\u001b[2;36m \u001b[0m\u001b[32mINFO    \u001b[0m Performing second-pass alignment\u001b[33m...\u001b[0m                                   \n",
      "\u001b[2;36m \u001b[0m\u001b[32mINFO    \u001b[0m Generating alignments\u001b[33m...\u001b[0m                                              \n"
     ]
    },
    {
     "name": "stdout",
     "output_type": "stream",
     "text": [
      "\u001b[2K\u001b[35m 100%\u001b[0m \u001b[90m━━━━━━━━━━━━━━━━━━━━━━━━━━━━━━━━━━━━━━\u001b[0m \u001b[32m1/1 \u001b[0m [ \u001b[33m0:00:00\u001b[0m < \u001b[36m0:00:00\u001b[0m , \u001b[31m? it/s\u001b[0m ]\n",
      "\u001b[2K\u001b[35m   0%\u001b[0m \u001b[90m━━━━━━━━━━━━━━━━━━━━━━━━━━━━━━━━━━━━━━\u001b[0m \u001b[32m0/1 \u001b[0m [ \u001b[33m0:00:00\u001b[0m < \u001b[36m-:--:--\u001b[0m , \u001b[31m? it/s\u001b[0m ]"
     ]
    },
    {
     "name": "stderr",
     "output_type": "stream",
     "text": [
      "\u001b[2;36m \u001b[0m\u001b[36mDEBUG   \u001b[0m Alignment round took \u001b[1;36m1.862\u001b[0m seconds                                    \n",
      "\u001b[2;36m \u001b[0m\u001b[32mINFO    \u001b[0m Collecting phone and word alignments from alignment lattices\u001b[33m...\u001b[0m       \n"
     ]
    },
    {
     "name": "stdout",
     "output_type": "stream",
     "text": [
      "\u001b[2K\u001b[35m 100%\u001b[0m \u001b[90m━━━━━━━━━━━━━━━━━━━━━━━━━━━━━━━━━━━━━━\u001b[0m \u001b[32m1/1 \u001b[0m [ \u001b[33m0:00:02\u001b[0m < \u001b[36m0:00:00\u001b[0m , \u001b[31m? it/s\u001b[0m ]\n",
      "\u001b[?25h"
     ]
    },
    {
     "name": "stderr",
     "output_type": "stream",
     "text": [
      "\u001b[2;36m \u001b[0m\u001b[36mDEBUG   \u001b[0m For job \u001b[1;36m0\u001b[0m:                                                            \n",
      "\u001b[2;36m \u001b[0m\u001b[36mDEBUG   \u001b[0m \u001b[1;36m0\u001b[0m beam too narrow                                                     \n",
      "\u001b[2;36m \u001b[0m\u001b[36mDEBUG   \u001b[0m \u001b[1;36m652\u001b[0m total frames                                                      \n",
      "\u001b[2;36m \u001b[0m\u001b[36mDEBUG   \u001b[0m \u001b[1;36m-50.258\u001b[0m average log-likelihood                                        \n",
      "\u001b[2;36m \u001b[0m\u001b[36mDEBUG   \u001b[0m Average per frame likelihood for alignment: \u001b[1;36m-50.258\u001b[0m                   \n",
      "\u001b[2;36m \u001b[0m\u001b[36mDEBUG   \u001b[0m Compiling information took \u001b[1;36m1.074\u001b[0m seconds                              \n",
      "\u001b[2;36m \u001b[0m\u001b[36mDEBUG   \u001b[0m Generated alignments in \u001b[1;36m12.398\u001b[0m seconds                                \n",
      "\u001b[2;36m \u001b[0m\u001b[33mWARNING \u001b[0m Alignment analysis not available without using postgresql             \n",
      "\u001b[2;36m \u001b[0m\u001b[32mINFO    \u001b[0m Exporting alignment TextGrids to videos/vid2/mfa_alignments\u001b[33m...\u001b[0m        \n",
      "\u001b[2;36m \u001b[0m\u001b[36mDEBUG   \u001b[0m Not using multiprocessing for TextGrid export                         \n",
      "\u001b[2;36m \u001b[0m\u001b[32mINFO    \u001b[0m Finished exporting TextGrids to videos/vid2/mfa_alignments!           \n",
      "\u001b[2;36m \u001b[0m\u001b[36mDEBUG   \u001b[0m Exported TextGrids in a total of \u001b[1;36m0.039\u001b[0m seconds                        \n",
      "\u001b[2;36m \u001b[0m\u001b[32mINFO    \u001b[0m Done! Everything took \u001b[1;36m57.328\u001b[0m seconds                                  \n"
     ]
    },
    {
     "name": "stdout",
     "output_type": "stream",
     "text": [
      "\u001b[2K\u001b[35m 100%\u001b[0m \u001b[90m━━━━━━━━━━━━━━━━━━━━━━━━━━━━━━━━━━━━━━\u001b[0m \u001b[32m1/1 \u001b[0m [ \u001b[33m0:00:00\u001b[0m < \u001b[36m0:00:00\u001b[0m , \u001b[31m? it/s\u001b[0m ]\n",
      "\u001b[?25h"
     ]
    },
    {
     "name": "stderr",
     "output_type": "stream",
     "text": [
      "WARNING:phonemizer:words count mismatch on 400.0% of the lines (4/1)\n",
      "WARNING:phonemizer:words count mismatch on 400.0% of the lines (4/1)\n",
      "WARNING:phonemizer:words count mismatch on 400.0% of the lines (4/1)\n",
      "WARNING:phonemizer:words count mismatch on 400.0% of the lines (4/1)\n"
     ]
    },
    {
     "name": "stdout",
     "output_type": "stream",
     "text": [
      "Generated audio file saved to 'output/auto/vid2_gen_1.wav'\n"
     ]
    },
    {
     "name": "stderr",
     "output_type": "stream",
     "text": [
      "[2024-06-01 03:39:27,069 | alacen | DEBUG] Generating lip-synced video...\n",
      "DEBUG:alacen:Generating lip-synced video...\n"
     ]
    },
    {
     "name": "stdout",
     "output_type": "stream",
     "text": [
      "MPI.COMM_WORLD.Get_rank() 2\n",
      "os.environ[\"CUDA_VISIBLE_DEVICES\"] 2\n",
      "MPI.COMM_WORLD.Get_rank() 0\n",
      "os.environ[\"CUDA_VISIBLE_DEVICES\"] 0\n",
      "MPI.COMM_WORLD.Get_rank() 1\n",
      "os.environ[\"CUDA_VISIBLE_DEVICES\"] 1\n",
      "Recovering from OOM error; New batch size: 32\n",
      "Recovering from OOM error; New batch size: 32\n",
      "Recovering from OOM error; New batch size: 32\n",
      "Recovering from OOM error; New batch size: 16\n",
      "Recovering from OOM error; New batch size: 16\n",
      "Recovering from OOM error; New batch size: 16\n",
      "Recovering from OOM error; New batch size: 8\n",
      "Time taken for sampling,  67.95308685302734 ,time without all  gather,  67.10107278823853 ,frames/gpu,  160 ,total frames,  160\n",
      "(104397,) (160, 540, 960, 3)\n",
      "(102400,) (160, 540, 960, 3)\n"
     ]
    },
    {
     "name": "stderr",
     "output_type": "stream",
     "text": [
      "[2024-06-01 03:44:32,459 | alacen | DEBUG] Merging generated audio and video...\n",
      "DEBUG:alacen:Merging generated audio and video...\n",
      "[2024-06-01 03:44:32,882 | alacen | DEBUG] DONE\n",
      "DEBUG:alacen:DONE\n"
     ]
    },
    {
     "name": "stdout",
     "output_type": "stream",
     "text": [
      "\n",
      "Video 2: videos/vid2_1.mp4\n"
     ]
    },
    {
     "name": "stderr",
     "output_type": "stream",
     "text": [
      "[2024-06-01 03:44:32,890 | alacen | DEBUG] Extracting audio from video...\n",
      "DEBUG:alacen:Extracting audio from video...\n",
      "[2024-06-01 03:44:33,265 | alacen | DEBUG] Performing speech recognition...\n",
      "DEBUG:alacen:Performing speech recognition...\n",
      "[2024-06-01 03:44:35,449 | alacen | DEBUG] Transcript:  If I ever find one of these lying around again, I swear to fucking God, I will stop being so polite.\n",
      "DEBUG:alacen:Transcript:  If I ever find one of these lying around again, I swear to fucking God, I will stop being so polite.\n",
      "[2024-06-01 03:44:35,453 | alacen | DEBUG] Generating paraphrase...\n",
      "DEBUG:alacen:Generating paraphrase...\n"
     ]
    },
    {
     "name": "stdout",
     "output_type": "stream",
     "text": [
      "Selected paraphrase: If I ever find one of these lying around again, I must respectfully decline to engage in such behavior.\n"
     ]
    },
    {
     "name": "stderr",
     "output_type": "stream",
     "text": [
      "[2024-06-01 03:44:38,326 | alacen | DEBUG] Generating new audio...\n",
      "DEBUG:alacen:Generating new audio...\n",
      "\u001b[2;36m \u001b[0m\u001b[36mDEBUG   \u001b[0m Beginning run for vid2_1                                              \n",
      "\u001b[2;36m \u001b[0m\u001b[36mDEBUG   \u001b[0m Using \u001b[32m\"global\"\u001b[0m profile                                                \n",
      "\u001b[2;36m \u001b[0m\u001b[36mDEBUG   \u001b[0m Using multiprocessing with \u001b[1;36m1\u001b[0m                                          \n",
      "\u001b[2;36m \u001b[0m\u001b[36mDEBUG   \u001b[0m Set up logger for MFA version: \u001b[1;36m2.2\u001b[0m.\u001b[1;36m17\u001b[0m                                 \n",
      "\u001b[2;36m \u001b[0m\u001b[36mDEBUG   \u001b[0m Cleaned previous run                                                  \n",
      "\u001b[2;36m \u001b[0m\u001b[36mDEBUG   \u001b[0m There were some differences in the current run compared to the last   \n",
      "\u001b[2;36m \u001b[0m         one. This may cause issues, run with --clean, if you hit an error.    \n",
      "\u001b[2;36m \u001b[0m\u001b[36mDEBUG   \u001b[0m Using UNKNOWN                                                         \n",
      "\u001b[2;36m \u001b[0m\u001b[36mDEBUG   \u001b[0m Loaded dictionary in \u001b[1;36m26.258\u001b[0m seconds                                   \n",
      "\u001b[2;36m \u001b[0m\u001b[32mINFO    \u001b[0m Setting up corpus information\u001b[33m...\u001b[0m                                      \n",
      "\u001b[2;36m \u001b[0m\u001b[36mDEBUG   \u001b[0m Could not load from temp                                              \n",
      "\u001b[2;36m \u001b[0m\u001b[32mINFO    \u001b[0m Loading corpus from source files\u001b[33m...\u001b[0m                                   \n"
     ]
    },
    {
     "name": "stdout",
     "output_type": "stream",
     "text": [
      "\u001b[2K\u001b[35m   0%\u001b[0m \u001b[90m━━━━━━━━━━━━━━━━━━━━━━━━━━━━━━━━━━━━\u001b[0m \u001b[32m0/100 \u001b[0m [ \u001b[33m0:00:00\u001b[0m < \u001b[36m-:--:--\u001b[0m , \u001b[31m? it/s\u001b[0m ]"
     ]
    },
    {
     "name": "stderr",
     "output_type": "stream",
     "text": [
      "\u001b[2;36m \u001b[0m\u001b[36mDEBUG   \u001b[0m Processing queue: \u001b[1;36m0.09287748599999901\u001b[0m                                 \n",
      "\u001b[2;36m \u001b[0m\u001b[36mDEBUG   \u001b[0m Parsed corpus directory with \u001b[1;36m1\u001b[0m jobs in \u001b[1;36m0.13902382299999516\u001b[0m seconds    \n",
      "\u001b[2;36m \u001b[0m\u001b[32mINFO    \u001b[0m Found \u001b[1;36m1\u001b[0m speaker across \u001b[1;36m1\u001b[0m file, average number of utterances per       \n",
      "\u001b[2;36m \u001b[0m         speaker: \u001b[1;36m1.0\u001b[0m                                                          \n",
      "\u001b[2;36m \u001b[0m\u001b[36mDEBUG   \u001b[0m Loaded corpus in \u001b[1;36m1.292\u001b[0m seconds                                        \n",
      "\u001b[2;36m \u001b[0m\u001b[32mINFO    \u001b[0m Initializing multiprocessing jobs\u001b[33m...\u001b[0m                                  \n"
     ]
    },
    {
     "name": "stdout",
     "output_type": "stream",
     "text": [
      "\u001b[2K\u001b[35m   1%\u001b[0m \u001b[90m━━━━━━━━━━━━━━━━━━━━━━━━━━━━━━━━━━━━\u001b[0m \u001b[32m1/100 \u001b[0m [ \u001b[33m0:00:01\u001b[0m < \u001b[36m-:--:--\u001b[0m , \u001b[31m? it/s\u001b[0m ]\n",
      "\u001b[?25h"
     ]
    },
    {
     "name": "stderr",
     "output_type": "stream",
     "text": [
      "\u001b[2;36m \u001b[0m\u001b[36mDEBUG   \u001b[0m Initialized jobs in \u001b[1;36m0.129\u001b[0m seconds                                     \n",
      "\u001b[2;36m \u001b[0m\u001b[32mINFO    \u001b[0m Normalizing text\u001b[33m...\u001b[0m                                                   \n"
     ]
    },
    {
     "name": "stdout",
     "output_type": "stream",
     "text": [
      "\u001b[2K\u001b[35m 100%\u001b[0m \u001b[90m━━━━━━━━━━━━━━━━━━━━━━━━━━━━━━━━━━━━━━\u001b[0m \u001b[32m1/1 \u001b[0m [ \u001b[33m0:00:01\u001b[0m < \u001b[36m0:00:00\u001b[0m , \u001b[31m? it/s\u001b[0m ]\n",
      "\u001b[?25h"
     ]
    },
    {
     "name": "stderr",
     "output_type": "stream",
     "text": [
      "\u001b[2;36m \u001b[0m\u001b[36mDEBUG   \u001b[0m Wrote lexicon information in \u001b[1;36m0.265\u001b[0m seconds                            \n",
      "\u001b[2;36m \u001b[0m\u001b[32mINFO    \u001b[0m Creating corpus split for feature generation\u001b[33m...\u001b[0m                       \n"
     ]
    },
    {
     "name": "stdout",
     "output_type": "stream",
     "text": [
      "\u001b[2K\u001b[35m 100%\u001b[0m \u001b[90m━━━━━━━━━━━━━━━━━━━━━━━━━━━━━━━━━━━━━━\u001b[0m \u001b[32m2/2 \u001b[0m [ \u001b[33m0:00:01\u001b[0m < \u001b[36m0:00:00\u001b[0m , \u001b[31m? it/s\u001b[0m ]\n",
      "\u001b[2K\u001b[35m   0%\u001b[0m \u001b[90m━━━━━━━━━━━━━━━━━━━━━━━━━━━━━━━━━━━━━━\u001b[0m \u001b[32m0/1 \u001b[0m [ \u001b[33m0:00:00\u001b[0m < \u001b[36m-:--:--\u001b[0m , \u001b[31m? it/s\u001b[0m ]"
     ]
    },
    {
     "name": "stderr",
     "output_type": "stream",
     "text": [
      "\u001b[2;36m \u001b[0m\u001b[36mDEBUG   \u001b[0m Created corpus split directory in \u001b[1;36m1.078\u001b[0m seconds                       \n",
      "\u001b[2;36m \u001b[0m\u001b[32mINFO    \u001b[0m Generating MFCCs\u001b[33m...\u001b[0m                                                   \n"
     ]
    },
    {
     "name": "stdout",
     "output_type": "stream",
     "text": [
      "\u001b[2K\u001b[35m 100%\u001b[0m \u001b[90m━━━━━━━━━━━━━━━━━━━━━━━━━━━━━━━━━━━━━━\u001b[0m \u001b[32m1/1 \u001b[0m [ \u001b[33m0:00:01\u001b[0m < \u001b[36m0:00:00\u001b[0m , \u001b[31m? it/s\u001b[0m ]\n",
      "\u001b[?25h"
     ]
    },
    {
     "name": "stderr",
     "output_type": "stream",
     "text": [
      "\u001b[2;36m \u001b[0m\u001b[36mDEBUG   \u001b[0m Generating MFCCs took \u001b[1;36m2.197\u001b[0m seconds                                   \n",
      "\u001b[2;36m \u001b[0m\u001b[32mINFO    \u001b[0m Calculating CMVN\u001b[33m...\u001b[0m                                                   \n",
      "\u001b[2;36m \u001b[0m\u001b[32mINFO    \u001b[0m Generating final features\u001b[33m...\u001b[0m                                          \n"
     ]
    },
    {
     "name": "stdout",
     "output_type": "stream",
     "text": [
      "\u001b[2K\u001b[35m 100%\u001b[0m \u001b[90m━━━━━━━━━━━━━━━━━━━━━━━━━━━━━━━━━━━━━━\u001b[0m \u001b[32m1/1 \u001b[0m [ \u001b[33m0:00:00\u001b[0m < \u001b[36m0:00:00\u001b[0m , \u001b[31m? it/s\u001b[0m ]\n",
      "\u001b[?25h"
     ]
    },
    {
     "name": "stderr",
     "output_type": "stream",
     "text": [
      "\u001b[2;36m \u001b[0m\u001b[36mDEBUG   \u001b[0m Generating final features took \u001b[1;36m1.332\u001b[0m seconds                          \n",
      "\u001b[2;36m \u001b[0m\u001b[32mINFO    \u001b[0m Creating corpus split with features\u001b[33m...\u001b[0m                                \n"
     ]
    },
    {
     "name": "stdout",
     "output_type": "stream",
     "text": [
      "\u001b[2K\u001b[35m 100%\u001b[0m \u001b[90m━━━━━━━━━━━━━━━━━━━━━━━━━━━━━━━━━━━━━━\u001b[0m \u001b[32m1/1 \u001b[0m [ \u001b[33m0:00:00\u001b[0m < \u001b[36m0:00:00\u001b[0m , \u001b[31m? it/s\u001b[0m ]\n",
      "\u001b[?25h"
     ]
    },
    {
     "name": "stderr",
     "output_type": "stream",
     "text": [
      "\u001b[2;36m \u001b[0m\u001b[36mDEBUG   \u001b[0m Generated features in \u001b[1;36m4.930\u001b[0m seconds                                   \n",
      "\u001b[2;36m \u001b[0m\u001b[36mDEBUG   \u001b[0m Setting up corpus took \u001b[1;36m38.276\u001b[0m seconds                                 \n",
      "\u001b[2;36m \u001b[0m\u001b[36mDEBUG   \u001b[0m                                                                       \n",
      "\u001b[2;36m \u001b[0m\u001b[36mDEBUG   \u001b[0m ====ACOUSTIC MODEL \u001b[33mINFO\u001b[0m====                                           \n",
      "\u001b[2;36m \u001b[0m\u001b[36mDEBUG   \u001b[0m Acoustic model root directory:                                        \n",
      "\u001b[2;36m \u001b[0m         \u001b[35m/mnt/home/20200884/Documents/MFA/extracted_models/\u001b[0m\u001b[95macoustic\u001b[0m            \n",
      "\u001b[2;36m \u001b[0m\u001b[36mDEBUG   \u001b[0m Acoustic model dirname:                                               \n",
      "\u001b[2;36m \u001b[0m         \u001b[35m/mnt/home/20200884/Documents/MFA/extracted_models/acoustic/\u001b[0m\u001b[95menglish_us_\u001b[0m\n",
      "\u001b[2;36m \u001b[0m         \u001b[95marpa_acoustic\u001b[0m                                                         \n",
      "\u001b[2;36m \u001b[0m\u001b[36mDEBUG   \u001b[0m Acoustic model meta path:                                             \n",
      "\u001b[2;36m \u001b[0m         \u001b[35m/mnt/home/20200884/Documents/MFA/extracted_models/acoustic/english_us_\u001b[0m\n",
      "\u001b[2;36m \u001b[0m         \u001b[35marpa_acoustic/\u001b[0m\u001b[95mmeta.json\u001b[0m                                               \n",
      "\u001b[2;36m \u001b[0m\u001b[36mDEBUG   \u001b[0m Acoustic model meta information:                                      \n",
      "\u001b[2;36m \u001b[0m\u001b[36mDEBUG   \u001b[0m architecture: gmm-hmm                                                 \n",
      "\u001b[2;36m \u001b[0m         dictionaries:                                                         \n",
      "\u001b[2;36m \u001b[0m           bracketed_word: \u001b[32m'\u001b[0m\u001b[32m[\u001b[0m\u001b[32mbracketed\u001b[0m\u001b[32m]\u001b[0m\u001b[32m'\u001b[0m                                       \n",
      "\u001b[2;36m \u001b[0m           clitic_marker: \u001b[32m''\u001b[0m\u001b[32m''\u001b[0m                                                 \n",
      "\u001b[2;36m \u001b[0m           default: english_us_arpa                                            \n",
      "\u001b[2;36m \u001b[0m           laughter_word: \u001b[32m'\u001b[0m\u001b[32m[\u001b[0m\u001b[32mlaughter\u001b[0m\u001b[32m]\u001b[0m\u001b[32m'\u001b[0m                                         \n",
      "\u001b[2;36m \u001b[0m           names:                                                              \n",
      "\u001b[2;36m \u001b[0m           - english_us_arpa                                                   \n",
      "\u001b[2;36m \u001b[0m           oov_word: \u001b[1m<\u001b[0m\u001b[1;95munk\u001b[0m\u001b[39m>\u001b[0m                                                     \n",
      "\u001b[2;36m \u001b[0m         \u001b[39m  position_dependent_phones: false\u001b[0m                                    \n",
      "\u001b[2;36m \u001b[0m         \u001b[39m  silence_word: <eps>\u001b[0m                                                 \n",
      "\u001b[2;36m \u001b[0m         \u001b[39m  use_g2p: false\u001b[0m                                                      \n",
      "\u001b[2;36m \u001b[0m         \u001b[39mfeatures:\u001b[0m                                                             \n",
      "\u001b[2;36m \u001b[0m         \u001b[39m  cepstral_lifter: \u001b[0m\u001b[1;36m22\u001b[0m                                                 \n",
      "\u001b[2;36m \u001b[0m         \u001b[39m  delta_pitch: \u001b[0m\u001b[1;36m0.005\u001b[0m                                                  \n",
      "\u001b[2;36m \u001b[0m         \u001b[39m  dither: \u001b[0m\u001b[1;36m1\u001b[0m                                                           \n",
      "\u001b[2;36m \u001b[0m         \u001b[39m  energy_floor: \u001b[0m\u001b[1;36m0\u001b[0m                                                     \n",
      "\u001b[2;36m \u001b[0m         \u001b[39m  feature_type: mfcc\u001b[0m                                                  \n",
      "\u001b[2;36m \u001b[0m         \u001b[39m  frame_length: \u001b[0m\u001b[1;36m25\u001b[0m                                                    \n",
      "\u001b[2;36m \u001b[0m         \u001b[39m  frame_shift: \u001b[0m\u001b[1;36m10\u001b[0m                                                     \n",
      "\u001b[2;36m \u001b[0m         \u001b[39m  high_frequency: \u001b[0m\u001b[1;36m7800\u001b[0m                                                \n",
      "\u001b[2;36m \u001b[0m         \u001b[39m  low_frequency: \u001b[0m\u001b[1;36m20\u001b[0m                                                   \n",
      "\u001b[2;36m \u001b[0m         \u001b[39m  max_f0: \u001b[0m\u001b[1;36m800\u001b[0m                                                         \n",
      "\u001b[2;36m \u001b[0m         \u001b[39m  min_f0: \u001b[0m\u001b[1;36m50\u001b[0m                                                          \n",
      "\u001b[2;36m \u001b[0m         \u001b[39m  num_coefficients: \u001b[0m\u001b[1;36m13\u001b[0m                                                \n",
      "\u001b[2;36m \u001b[0m         \u001b[39m  num_mel_bins: \u001b[0m\u001b[1;36m23\u001b[0m                                                    \n",
      "\u001b[2;36m \u001b[0m         \u001b[39m  penalty_factor: \u001b[0m\u001b[1;36m0.1\u001b[0m                                                 \n",
      "\u001b[2;36m \u001b[0m         \u001b[39m  preemphasis_coefficient: \u001b[0m\u001b[1;36m0.97\u001b[0m                                       \n",
      "\u001b[2;36m \u001b[0m         \u001b[39m  sample_frequency: \u001b[0m\u001b[1;36m16000\u001b[0m                                             \n",
      "\u001b[2;36m \u001b[0m         \u001b[39m  silence_weight: \u001b[0m\u001b[1;36m0.0\u001b[0m                                                 \n",
      "\u001b[2;36m \u001b[0m         \u001b[39m  snip_edges: false\u001b[0m                                                   \n",
      "\u001b[2;36m \u001b[0m         \u001b[39m  splice_left_context: \u001b[0m\u001b[1;36m3\u001b[0m                                              \n",
      "\u001b[2;36m \u001b[0m         \u001b[39m  splice_right_context: \u001b[0m\u001b[1;36m3\u001b[0m                                             \n",
      "\u001b[2;36m \u001b[0m         \u001b[39m  use_energy: false\u001b[0m                                                   \n",
      "\u001b[2;36m \u001b[0m         \u001b[39m  use_pitch: false\u001b[0m                                                    \n",
      "\u001b[2;36m \u001b[0m         \u001b[39m  use_voicing: false\u001b[0m                                                  \n",
      "\u001b[2;36m \u001b[0m         \u001b[39m  uses_cmvn: true\u001b[0m                                                     \n",
      "\u001b[2;36m \u001b[0m         \u001b[39m  uses_deltas: false\u001b[0m                                                  \n",
      "\u001b[2;36m \u001b[0m         \u001b[39m  uses_speaker_adaptation: true\u001b[0m                                       \n",
      "\u001b[2;36m \u001b[0m         \u001b[39m  uses_splices: true\u001b[0m                                                  \n",
      "\u001b[2;36m \u001b[0m         \u001b[39m  uses_voiced: false\u001b[0m                                                  \n",
      "\u001b[2;36m \u001b[0m         \u001b[39mfinal_non_silence_correction: \u001b[0m\u001b[1;36m0.01\u001b[0m                                    \n",
      "\u001b[2;36m \u001b[0m         \u001b[39mfinal_silence_correction: \u001b[0m\u001b[1;36m0.99\u001b[0m                                        \n",
      "\u001b[2;36m \u001b[0m         \u001b[39minitial_silence_probability: \u001b[0m\u001b[1;36m0.18\u001b[0m                                     \n",
      "\u001b[2;36m \u001b[0m         \u001b[39mlanguage: unknown\u001b[0m                                                     \n",
      "\u001b[2;36m \u001b[0m         \u001b[39moov_phone: spn\u001b[0m                                                        \n",
      "\u001b[2;36m \u001b[0m         \u001b[39moptional_silence_phone: sil\u001b[0m                                           \n",
      "\u001b[2;36m \u001b[0m         \u001b[39mphone_groups:\u001b[0m                                                         \n",
      "\u001b[2;36m \u001b[0m         \u001b[39m  AA0:\u001b[0m                                                                \n",
      "\u001b[2;36m \u001b[0m         \u001b[39m  - AA0\u001b[0m                                                               \n",
      "\u001b[2;36m \u001b[0m         \u001b[39m  AA1:\u001b[0m                                                                \n",
      "\u001b[2;36m \u001b[0m         \u001b[39m  - AA1\u001b[0m                                                               \n",
      "\u001b[2;36m \u001b[0m         \u001b[39m  AA2:\u001b[0m                                                                \n",
      "\u001b[2;36m \u001b[0m         \u001b[39m  - AA2\u001b[0m                                                               \n",
      "\u001b[2;36m \u001b[0m         \u001b[39m  AE0:\u001b[0m                                                                \n",
      "\u001b[2;36m \u001b[0m         \u001b[39m  - AE0\u001b[0m                                                               \n",
      "\u001b[2;36m \u001b[0m         \u001b[39m  AE1:\u001b[0m                                                                \n",
      "\u001b[2;36m \u001b[0m         \u001b[39m  - AE1\u001b[0m                                                               \n",
      "\u001b[2;36m \u001b[0m         \u001b[39m  AE2:\u001b[0m                                                                \n",
      "\u001b[2;36m \u001b[0m         \u001b[39m  - AE2\u001b[0m                                                               \n",
      "\u001b[2;36m \u001b[0m         \u001b[39m  AH0:\u001b[0m                                                                \n",
      "\u001b[2;36m \u001b[0m         \u001b[39m  - AH0\u001b[0m                                                               \n",
      "\u001b[2;36m \u001b[0m         \u001b[39m  AH1:\u001b[0m                                                                \n",
      "\u001b[2;36m \u001b[0m         \u001b[39m  - AH1\u001b[0m                                                               \n",
      "\u001b[2;36m \u001b[0m         \u001b[39m  AH2:\u001b[0m                                                                \n",
      "\u001b[2;36m \u001b[0m         \u001b[39m  - AH2\u001b[0m                                                               \n",
      "\u001b[2;36m \u001b[0m         \u001b[39m  AO0:\u001b[0m                                                                \n",
      "\u001b[2;36m \u001b[0m         \u001b[39m  - AO0\u001b[0m                                                               \n",
      "\u001b[2;36m \u001b[0m         \u001b[39m  AO1:\u001b[0m                                                                \n",
      "\u001b[2;36m \u001b[0m         \u001b[39m  - AO1\u001b[0m                                                               \n",
      "\u001b[2;36m \u001b[0m         \u001b[39m  AO2:\u001b[0m                                                                \n",
      "\u001b[2;36m \u001b[0m         \u001b[39m  - AO2\u001b[0m                                                               \n",
      "\u001b[2;36m \u001b[0m         \u001b[39m  AW0:\u001b[0m                                                                \n",
      "\u001b[2;36m \u001b[0m         \u001b[39m  - AW0\u001b[0m                                                               \n",
      "\u001b[2;36m \u001b[0m         \u001b[39m  AW1:\u001b[0m                                                                \n",
      "\u001b[2;36m \u001b[0m         \u001b[39m  - AW1\u001b[0m                                                               \n",
      "\u001b[2;36m \u001b[0m         \u001b[39m  AW2:\u001b[0m                                                                \n",
      "\u001b[2;36m \u001b[0m         \u001b[39m  - AW2\u001b[0m                                                               \n",
      "\u001b[2;36m \u001b[0m         \u001b[39m  AY0:\u001b[0m                                                                \n",
      "\u001b[2;36m \u001b[0m         \u001b[39m  - AY0\u001b[0m                                                               \n",
      "\u001b[2;36m \u001b[0m         \u001b[39m  AY1:\u001b[0m                                                                \n",
      "\u001b[2;36m \u001b[0m         \u001b[39m  - AY1\u001b[0m                                                               \n",
      "\u001b[2;36m \u001b[0m         \u001b[39m  AY2:\u001b[0m                                                                \n",
      "\u001b[2;36m \u001b[0m         \u001b[39m  - AY2\u001b[0m                                                               \n",
      "\u001b[2;36m \u001b[0m         \u001b[39m  B:\u001b[0m                                                                  \n",
      "\u001b[2;36m \u001b[0m         \u001b[39m  - B\u001b[0m                                                                 \n",
      "\u001b[2;36m \u001b[0m         \u001b[39m  CH:\u001b[0m                                                                 \n",
      "\u001b[2;36m \u001b[0m         \u001b[39m  - CH\u001b[0m                                                                \n",
      "\u001b[2;36m \u001b[0m         \u001b[39m  D:\u001b[0m                                                                  \n",
      "\u001b[2;36m \u001b[0m         \u001b[39m  - D\u001b[0m                                                                 \n",
      "\u001b[2;36m \u001b[0m         \u001b[39m  DH:\u001b[0m                                                                 \n",
      "\u001b[2;36m \u001b[0m         \u001b[39m  - DH\u001b[0m                                                                \n",
      "\u001b[2;36m \u001b[0m         \u001b[39m  EH0:\u001b[0m                                                                \n",
      "\u001b[2;36m \u001b[0m         \u001b[39m  - EH0\u001b[0m                                                               \n",
      "\u001b[2;36m \u001b[0m         \u001b[39m  EH1:\u001b[0m                                                                \n",
      "\u001b[2;36m \u001b[0m         \u001b[39m  - EH1\u001b[0m                                                               \n",
      "\u001b[2;36m \u001b[0m         \u001b[39m  EH2:\u001b[0m                                                                \n",
      "\u001b[2;36m \u001b[0m         \u001b[39m  - EH2\u001b[0m                                                               \n",
      "\u001b[2;36m \u001b[0m         \u001b[39m  ER0:\u001b[0m                                                                \n",
      "\u001b[2;36m \u001b[0m         \u001b[39m  - ER0\u001b[0m                                                               \n",
      "\u001b[2;36m \u001b[0m         \u001b[39m  ER1:\u001b[0m                                                                \n",
      "\u001b[2;36m \u001b[0m         \u001b[39m  - ER1\u001b[0m                                                               \n",
      "\u001b[2;36m \u001b[0m         \u001b[39m  ER2:\u001b[0m                                                                \n",
      "\u001b[2;36m \u001b[0m         \u001b[39m  - ER2\u001b[0m                                                               \n",
      "\u001b[2;36m \u001b[0m         \u001b[39m  EY0:\u001b[0m                                                                \n",
      "\u001b[2;36m \u001b[0m         \u001b[39m  - EY0\u001b[0m                                                               \n",
      "\u001b[2;36m \u001b[0m         \u001b[39m  EY1:\u001b[0m                                                                \n",
      "\u001b[2;36m \u001b[0m         \u001b[39m  - EY1\u001b[0m                                                               \n",
      "\u001b[2;36m \u001b[0m         \u001b[39m  EY2:\u001b[0m                                                                \n",
      "\u001b[2;36m \u001b[0m         \u001b[39m  - EY2\u001b[0m                                                               \n",
      "\u001b[2;36m \u001b[0m         \u001b[39m  F:\u001b[0m                                                                  \n",
      "\u001b[2;36m \u001b[0m         \u001b[39m  - F\u001b[0m                                                                 \n",
      "\u001b[2;36m \u001b[0m         \u001b[39m  G:\u001b[0m                                                                  \n",
      "\u001b[2;36m \u001b[0m         \u001b[39m  - G\u001b[0m                                                                 \n",
      "\u001b[2;36m \u001b[0m         \u001b[39m  HH:\u001b[0m                                                                 \n",
      "\u001b[2;36m \u001b[0m         \u001b[39m  - HH\u001b[0m                                                                \n",
      "\u001b[2;36m \u001b[0m         \u001b[39m  IH0:\u001b[0m                                                                \n",
      "\u001b[2;36m \u001b[0m         \u001b[39m  - IH0\u001b[0m                                                               \n",
      "\u001b[2;36m \u001b[0m         \u001b[39m  IH1:\u001b[0m                                                                \n",
      "\u001b[2;36m \u001b[0m         \u001b[39m  - IH1\u001b[0m                                                               \n",
      "\u001b[2;36m \u001b[0m         \u001b[39m  IH2:\u001b[0m                                                                \n",
      "\u001b[2;36m \u001b[0m         \u001b[39m  - IH2\u001b[0m                                                               \n",
      "\u001b[2;36m \u001b[0m         \u001b[39m  IY0:\u001b[0m                                                                \n",
      "\u001b[2;36m \u001b[0m         \u001b[39m  - IY0\u001b[0m                                                               \n",
      "\u001b[2;36m \u001b[0m         \u001b[39m  IY1:\u001b[0m                                                                \n",
      "\u001b[2;36m \u001b[0m         \u001b[39m  - IY1\u001b[0m                                                               \n",
      "\u001b[2;36m \u001b[0m         \u001b[39m  IY2:\u001b[0m                                                                \n",
      "\u001b[2;36m \u001b[0m         \u001b[39m  - IY2\u001b[0m                                                               \n",
      "\u001b[2;36m \u001b[0m         \u001b[39m  JH:\u001b[0m                                                                 \n",
      "\u001b[2;36m \u001b[0m         \u001b[39m  - JH\u001b[0m                                                                \n",
      "\u001b[2;36m \u001b[0m         \u001b[39m  K:\u001b[0m                                                                  \n",
      "\u001b[2;36m \u001b[0m         \u001b[39m  - K\u001b[0m                                                                 \n",
      "\u001b[2;36m \u001b[0m         \u001b[39m  L:\u001b[0m                                                                  \n",
      "\u001b[2;36m \u001b[0m         \u001b[39m  - L\u001b[0m                                                                 \n",
      "\u001b[2;36m \u001b[0m         \u001b[39m  M:\u001b[0m                                                                  \n",
      "\u001b[2;36m \u001b[0m         \u001b[39m  - M\u001b[0m                                                                 \n",
      "\u001b[2;36m \u001b[0m         \u001b[39m  N:\u001b[0m                                                                  \n",
      "\u001b[2;36m \u001b[0m         \u001b[39m  - N\u001b[0m                                                                 \n",
      "\u001b[2;36m \u001b[0m         \u001b[39m  NG:\u001b[0m                                                                 \n",
      "\u001b[2;36m \u001b[0m         \u001b[39m  - NG\u001b[0m                                                                \n",
      "\u001b[2;36m \u001b[0m         \u001b[39m  OW0:\u001b[0m                                                                \n",
      "\u001b[2;36m \u001b[0m         \u001b[39m  - OW0\u001b[0m                                                               \n",
      "\u001b[2;36m \u001b[0m         \u001b[39m  OW1:\u001b[0m                                                                \n",
      "\u001b[2;36m \u001b[0m         \u001b[39m  - OW1\u001b[0m                                                               \n",
      "\u001b[2;36m \u001b[0m         \u001b[39m  OW2:\u001b[0m                                                                \n",
      "\u001b[2;36m \u001b[0m         \u001b[39m  - OW2\u001b[0m                                                               \n",
      "\u001b[2;36m \u001b[0m         \u001b[39m  OY0:\u001b[0m                                                                \n",
      "\u001b[2;36m \u001b[0m         \u001b[39m  - OY0\u001b[0m                                                               \n",
      "\u001b[2;36m \u001b[0m         \u001b[39m  OY1:\u001b[0m                                                                \n",
      "\u001b[2;36m \u001b[0m         \u001b[39m  - OY1\u001b[0m                                                               \n",
      "\u001b[2;36m \u001b[0m         \u001b[39m  OY2:\u001b[0m                                                                \n",
      "\u001b[2;36m \u001b[0m         \u001b[39m  - OY2\u001b[0m                                                               \n",
      "\u001b[2;36m \u001b[0m         \u001b[39m  P:\u001b[0m                                                                  \n",
      "\u001b[2;36m \u001b[0m         \u001b[39m  - P\u001b[0m                                                                 \n",
      "\u001b[2;36m \u001b[0m         \u001b[39m  R:\u001b[0m                                                                  \n",
      "\u001b[2;36m \u001b[0m         \u001b[39m  - R\u001b[0m                                                                 \n",
      "\u001b[2;36m \u001b[0m         \u001b[39m  S:\u001b[0m                                                                  \n",
      "\u001b[2;36m \u001b[0m         \u001b[39m  - S\u001b[0m                                                                 \n",
      "\u001b[2;36m \u001b[0m         \u001b[39m  SH:\u001b[0m                                                                 \n",
      "\u001b[2;36m \u001b[0m         \u001b[39m  - SH\u001b[0m                                                                \n",
      "\u001b[2;36m \u001b[0m         \u001b[39m  T:\u001b[0m                                                                  \n",
      "\u001b[2;36m \u001b[0m         \u001b[39m  - T\u001b[0m                                                                 \n",
      "\u001b[2;36m \u001b[0m         \u001b[39m  TH:\u001b[0m                                                                 \n",
      "\u001b[2;36m \u001b[0m         \u001b[39m  - TH\u001b[0m                                                                \n",
      "\u001b[2;36m \u001b[0m         \u001b[39m  UH0:\u001b[0m                                                                \n",
      "\u001b[2;36m \u001b[0m         \u001b[39m  - UH0\u001b[0m                                                               \n",
      "\u001b[2;36m \u001b[0m         \u001b[39m  UH1:\u001b[0m                                                                \n",
      "\u001b[2;36m \u001b[0m         \u001b[39m  - UH1\u001b[0m                                                               \n",
      "\u001b[2;36m \u001b[0m         \u001b[39m  UH2:\u001b[0m                                                                \n",
      "\u001b[2;36m \u001b[0m         \u001b[39m  - UH2\u001b[0m                                                               \n",
      "\u001b[2;36m \u001b[0m         \u001b[39m  UW0:\u001b[0m                                                                \n",
      "\u001b[2;36m \u001b[0m         \u001b[39m  - UW0\u001b[0m                                                               \n",
      "\u001b[2;36m \u001b[0m         \u001b[39m  UW1:\u001b[0m                                                                \n",
      "\u001b[2;36m \u001b[0m         \u001b[39m  - UW1\u001b[0m                                                               \n",
      "\u001b[2;36m \u001b[0m         \u001b[39m  UW2:\u001b[0m                                                                \n",
      "\u001b[2;36m \u001b[0m         \u001b[39m  - UW2\u001b[0m                                                               \n",
      "\u001b[2;36m \u001b[0m         \u001b[39m  V:\u001b[0m                                                                  \n",
      "\u001b[2;36m \u001b[0m         \u001b[39m  - V\u001b[0m                                                                 \n",
      "\u001b[2;36m \u001b[0m         \u001b[39m  W:\u001b[0m                                                                  \n",
      "\u001b[2;36m \u001b[0m         \u001b[39m  - W\u001b[0m                                                                 \n",
      "\u001b[2;36m \u001b[0m         \u001b[39m  Y:\u001b[0m                                                                  \n",
      "\u001b[2;36m \u001b[0m         \u001b[39m  - Y\u001b[0m                                                                 \n",
      "\u001b[2;36m \u001b[0m         \u001b[39m  Z:\u001b[0m                                                                  \n",
      "\u001b[2;36m \u001b[0m         \u001b[39m  - Z\u001b[0m                                                                 \n",
      "\u001b[2;36m \u001b[0m         \u001b[39m  ZH:\u001b[0m                                                                 \n",
      "\u001b[2;36m \u001b[0m         \u001b[39m  - ZH\u001b[0m                                                                \n",
      "\u001b[2;36m \u001b[0m         \u001b[39mphone_mapping:\u001b[0m                                                        \n",
      "\u001b[2;36m \u001b[0m         \u001b[39m  <eps\u001b[0m\u001b[1m>\u001b[0m: \u001b[1;36m0\u001b[0m                                                            \n",
      "\u001b[2;36m \u001b[0m           AA0: \u001b[1;36m3\u001b[0m                                                              \n",
      "\u001b[2;36m \u001b[0m           AA1: \u001b[1;36m4\u001b[0m                                                              \n",
      "\u001b[2;36m \u001b[0m           AA2: \u001b[1;36m5\u001b[0m                                                              \n",
      "\u001b[2;36m \u001b[0m           AE0: \u001b[1;36m6\u001b[0m                                                              \n",
      "\u001b[2;36m \u001b[0m           AE1: \u001b[1;36m7\u001b[0m                                                              \n",
      "\u001b[2;36m \u001b[0m           AE2: \u001b[1;36m8\u001b[0m                                                              \n",
      "\u001b[2;36m \u001b[0m           AH0: \u001b[1;36m9\u001b[0m                                                              \n",
      "\u001b[2;36m \u001b[0m           AH1: \u001b[1;36m10\u001b[0m                                                             \n",
      "\u001b[2;36m \u001b[0m           AH2: \u001b[1;36m11\u001b[0m                                                             \n",
      "\u001b[2;36m \u001b[0m           AO0: \u001b[1;36m12\u001b[0m                                                             \n",
      "\u001b[2;36m \u001b[0m           AO1: \u001b[1;36m13\u001b[0m                                                             \n",
      "\u001b[2;36m \u001b[0m           AO2: \u001b[1;36m14\u001b[0m                                                             \n",
      "\u001b[2;36m \u001b[0m           AW0: \u001b[1;36m15\u001b[0m                                                             \n",
      "\u001b[2;36m \u001b[0m           AW1: \u001b[1;36m16\u001b[0m                                                             \n",
      "\u001b[2;36m \u001b[0m           AW2: \u001b[1;36m17\u001b[0m                                                             \n",
      "\u001b[2;36m \u001b[0m           AY0: \u001b[1;36m18\u001b[0m                                                             \n",
      "\u001b[2;36m \u001b[0m           AY1: \u001b[1;36m19\u001b[0m                                                             \n",
      "\u001b[2;36m \u001b[0m           AY2: \u001b[1;36m20\u001b[0m                                                             \n",
      "\u001b[2;36m \u001b[0m           B: \u001b[1;36m21\u001b[0m                                                               \n",
      "\u001b[2;36m \u001b[0m           CH: \u001b[1;36m22\u001b[0m                                                              \n",
      "\u001b[2;36m \u001b[0m           D: \u001b[1;36m23\u001b[0m                                                               \n",
      "\u001b[2;36m \u001b[0m           DH: \u001b[1;36m24\u001b[0m                                                              \n",
      "\u001b[2;36m \u001b[0m           EH0: \u001b[1;36m25\u001b[0m                                                             \n",
      "\u001b[2;36m \u001b[0m           EH1: \u001b[1;36m26\u001b[0m                                                             \n",
      "\u001b[2;36m \u001b[0m           EH2: \u001b[1;36m27\u001b[0m                                                             \n",
      "\u001b[2;36m \u001b[0m           ER0: \u001b[1;36m28\u001b[0m                                                             \n",
      "\u001b[2;36m \u001b[0m           ER1: \u001b[1;36m29\u001b[0m                                                             \n",
      "\u001b[2;36m \u001b[0m           ER2: \u001b[1;36m30\u001b[0m                                                             \n",
      "\u001b[2;36m \u001b[0m           EY0: \u001b[1;36m31\u001b[0m                                                             \n",
      "\u001b[2;36m \u001b[0m           EY1: \u001b[1;36m32\u001b[0m                                                             \n",
      "\u001b[2;36m \u001b[0m           EY2: \u001b[1;36m33\u001b[0m                                                             \n",
      "\u001b[2;36m \u001b[0m           F: \u001b[1;36m34\u001b[0m                                                               \n",
      "\u001b[2;36m \u001b[0m           G: \u001b[1;36m35\u001b[0m                                                               \n",
      "\u001b[2;36m \u001b[0m           HH: \u001b[1;36m36\u001b[0m                                                              \n",
      "\u001b[2;36m \u001b[0m           IH0: \u001b[1;36m37\u001b[0m                                                             \n",
      "\u001b[2;36m \u001b[0m           IH1: \u001b[1;36m38\u001b[0m                                                             \n",
      "\u001b[2;36m \u001b[0m           IH2: \u001b[1;36m39\u001b[0m                                                             \n",
      "\u001b[2;36m \u001b[0m           IY0: \u001b[1;36m40\u001b[0m                                                             \n",
      "\u001b[2;36m \u001b[0m           IY1: \u001b[1;36m41\u001b[0m                                                             \n",
      "\u001b[2;36m \u001b[0m           IY2: \u001b[1;36m42\u001b[0m                                                             \n",
      "\u001b[2;36m \u001b[0m           JH: \u001b[1;36m43\u001b[0m                                                              \n",
      "\u001b[2;36m \u001b[0m           K: \u001b[1;36m44\u001b[0m                                                               \n",
      "\u001b[2;36m \u001b[0m           L: \u001b[1;36m45\u001b[0m                                                               \n",
      "\u001b[2;36m \u001b[0m           M: \u001b[1;36m46\u001b[0m                                                               \n",
      "\u001b[2;36m \u001b[0m           N: \u001b[1;36m47\u001b[0m                                                               \n",
      "\u001b[2;36m \u001b[0m           NG: \u001b[1;36m48\u001b[0m                                                              \n",
      "\u001b[2;36m \u001b[0m           OW0: \u001b[1;36m49\u001b[0m                                                             \n",
      "\u001b[2;36m \u001b[0m           OW1: \u001b[1;36m50\u001b[0m                                                             \n",
      "\u001b[2;36m \u001b[0m           OW2: \u001b[1;36m51\u001b[0m                                                             \n",
      "\u001b[2;36m \u001b[0m           OY0: \u001b[1;36m52\u001b[0m                                                             \n",
      "\u001b[2;36m \u001b[0m           OY1: \u001b[1;36m53\u001b[0m                                                             \n",
      "\u001b[2;36m \u001b[0m           OY2: \u001b[1;36m54\u001b[0m                                                             \n",
      "\u001b[2;36m \u001b[0m           P: \u001b[1;36m55\u001b[0m                                                               \n",
      "\u001b[2;36m \u001b[0m           R: \u001b[1;36m56\u001b[0m                                                               \n",
      "\u001b[2;36m \u001b[0m           S: \u001b[1;36m57\u001b[0m                                                               \n",
      "\u001b[2;36m \u001b[0m           SH: \u001b[1;36m58\u001b[0m                                                              \n",
      "\u001b[2;36m \u001b[0m           T: \u001b[1;36m59\u001b[0m                                                               \n",
      "\u001b[2;36m \u001b[0m           TH: \u001b[1;36m60\u001b[0m                                                              \n",
      "\u001b[2;36m \u001b[0m           UH0: \u001b[1;36m61\u001b[0m                                                             \n",
      "\u001b[2;36m \u001b[0m           UH1: \u001b[1;36m62\u001b[0m                                                             \n",
      "\u001b[2;36m \u001b[0m           UH2: \u001b[1;36m63\u001b[0m                                                             \n",
      "\u001b[2;36m \u001b[0m           UW0: \u001b[1;36m64\u001b[0m                                                             \n",
      "\u001b[2;36m \u001b[0m           UW1: \u001b[1;36m65\u001b[0m                                                             \n",
      "\u001b[2;36m \u001b[0m           UW2: \u001b[1;36m66\u001b[0m                                                             \n",
      "\u001b[2;36m \u001b[0m           V: \u001b[1;36m67\u001b[0m                                                               \n",
      "\u001b[2;36m \u001b[0m           W: \u001b[1;36m68\u001b[0m                                                               \n",
      "\u001b[2;36m \u001b[0m           Y: \u001b[1;36m69\u001b[0m                                                               \n",
      "\u001b[2;36m \u001b[0m           Z: \u001b[1;36m70\u001b[0m                                                               \n",
      "\u001b[2;36m \u001b[0m           ZH: \u001b[1;36m71\u001b[0m                                                              \n",
      "\u001b[2;36m \u001b[0m           sil: \u001b[1;36m1\u001b[0m                                                              \n",
      "\u001b[2;36m \u001b[0m           spn: \u001b[1;36m2\u001b[0m                                                              \n",
      "\u001b[2;36m \u001b[0m         phone_set_type: UNKNOWN                                               \n",
      "\u001b[2;36m \u001b[0m         phone_type: triphone                                                  \n",
      "\u001b[2;36m \u001b[0m         phones: !!set                                                         \n",
      "\u001b[2;36m \u001b[0m           AA0: null                                                           \n",
      "\u001b[2;36m \u001b[0m           AA1: null                                                           \n",
      "\u001b[2;36m \u001b[0m           AA2: null                                                           \n",
      "\u001b[2;36m \u001b[0m           AE0: null                                                           \n",
      "\u001b[2;36m \u001b[0m           AE1: null                                                           \n",
      "\u001b[2;36m \u001b[0m           AE2: null                                                           \n",
      "\u001b[2;36m \u001b[0m           AH0: null                                                           \n",
      "\u001b[2;36m \u001b[0m           AH1: null                                                           \n",
      "\u001b[2;36m \u001b[0m           AH2: null                                                           \n",
      "\u001b[2;36m \u001b[0m           AO0: null                                                           \n",
      "\u001b[2;36m \u001b[0m           AO1: null                                                           \n",
      "\u001b[2;36m \u001b[0m           AO2: null                                                           \n",
      "\u001b[2;36m \u001b[0m           AW0: null                                                           \n",
      "\u001b[2;36m \u001b[0m           AW1: null                                                           \n",
      "\u001b[2;36m \u001b[0m           AW2: null                                                           \n",
      "\u001b[2;36m \u001b[0m           AY0: null                                                           \n",
      "\u001b[2;36m \u001b[0m           AY1: null                                                           \n",
      "\u001b[2;36m \u001b[0m           AY2: null                                                           \n",
      "\u001b[2;36m \u001b[0m           B: null                                                             \n",
      "\u001b[2;36m \u001b[0m           CH: null                                                            \n",
      "\u001b[2;36m \u001b[0m           D: null                                                             \n",
      "\u001b[2;36m \u001b[0m           DH: null                                                            \n",
      "\u001b[2;36m \u001b[0m           EH0: null                                                           \n",
      "\u001b[2;36m \u001b[0m           EH1: null                                                           \n",
      "\u001b[2;36m \u001b[0m           EH2: null                                                           \n",
      "\u001b[2;36m \u001b[0m           ER0: null                                                           \n",
      "\u001b[2;36m \u001b[0m           ER1: null                                                           \n",
      "\u001b[2;36m \u001b[0m           ER2: null                                                           \n",
      "\u001b[2;36m \u001b[0m           EY0: null                                                           \n",
      "\u001b[2;36m \u001b[0m           EY1: null                                                           \n",
      "\u001b[2;36m \u001b[0m           EY2: null                                                           \n",
      "\u001b[2;36m \u001b[0m           F: null                                                             \n",
      "\u001b[2;36m \u001b[0m           G: null                                                             \n",
      "\u001b[2;36m \u001b[0m           HH: null                                                            \n",
      "\u001b[2;36m \u001b[0m           IH0: null                                                           \n",
      "\u001b[2;36m \u001b[0m           IH1: null                                                           \n",
      "\u001b[2;36m \u001b[0m           IH2: null                                                           \n",
      "\u001b[2;36m \u001b[0m           IY0: null                                                           \n",
      "\u001b[2;36m \u001b[0m           IY1: null                                                           \n",
      "\u001b[2;36m \u001b[0m           IY2: null                                                           \n",
      "\u001b[2;36m \u001b[0m           JH: null                                                            \n",
      "\u001b[2;36m \u001b[0m           K: null                                                             \n",
      "\u001b[2;36m \u001b[0m           L: null                                                             \n",
      "\u001b[2;36m \u001b[0m           M: null                                                             \n",
      "\u001b[2;36m \u001b[0m           N: null                                                             \n",
      "\u001b[2;36m \u001b[0m           NG: null                                                            \n",
      "\u001b[2;36m \u001b[0m           OW0: null                                                           \n",
      "\u001b[2;36m \u001b[0m           OW1: null                                                           \n",
      "\u001b[2;36m \u001b[0m           OW2: null                                                           \n",
      "\u001b[2;36m \u001b[0m           OY0: null                                                           \n",
      "\u001b[2;36m \u001b[0m           OY1: null                                                           \n",
      "\u001b[2;36m \u001b[0m           OY2: null                                                           \n",
      "\u001b[2;36m \u001b[0m           P: null                                                             \n",
      "\u001b[2;36m \u001b[0m           R: null                                                             \n",
      "\u001b[2;36m \u001b[0m           S: null                                                             \n",
      "\u001b[2;36m \u001b[0m           SH: null                                                            \n",
      "\u001b[2;36m \u001b[0m           T: null                                                             \n",
      "\u001b[2;36m \u001b[0m           TH: null                                                            \n",
      "\u001b[2;36m \u001b[0m           UH0: null                                                           \n",
      "\u001b[2;36m \u001b[0m           UH1: null                                                           \n",
      "\u001b[2;36m \u001b[0m           UH2: null                                                           \n",
      "\u001b[2;36m \u001b[0m           UW0: null                                                           \n",
      "\u001b[2;36m \u001b[0m           UW1: null                                                           \n",
      "\u001b[2;36m \u001b[0m           UW2: null                                                           \n",
      "\u001b[2;36m \u001b[0m           V: null                                                             \n",
      "\u001b[2;36m \u001b[0m           W: null                                                             \n",
      "\u001b[2;36m \u001b[0m           Y: null                                                             \n",
      "\u001b[2;36m \u001b[0m           Z: null                                                             \n",
      "\u001b[2;36m \u001b[0m           ZH: null                                                            \n",
      "\u001b[2;36m \u001b[0m         silence_probability: \u001b[1;36m0.18\u001b[0m                                             \n",
      "\u001b[2;36m \u001b[0m         train_date: \u001b[32m'2024-02-10 15:17:19.181270'\u001b[0m                              \n",
      "\u001b[2;36m \u001b[0m         training:                                                             \n",
      "\u001b[2;36m \u001b[0m           audio_duration: \u001b[1;36m3536308.477162502\u001b[0m                                   \n",
      "\u001b[2;36m \u001b[0m           average_log_likelihood: \u001b[1;36m-0.050285424064008426\u001b[0m                       \n",
      "\u001b[2;36m \u001b[0m           num_oovs: \u001b[1;36m0\u001b[0m                                                         \n",
      "\u001b[2;36m \u001b[0m           num_speakers: \u001b[1;36m2485\u001b[0m                                                  \n",
      "\u001b[2;36m \u001b[0m           num_utterances: \u001b[1;36m292367\u001b[0m                                              \n",
      "\u001b[2;36m \u001b[0m         version: \u001b[1;36m3.0\u001b[0m.0a2.dev0+g940e907.d20230824                              \n",
      "\u001b[2;36m \u001b[0m                                                                               \n",
      "\u001b[2;36m \u001b[0m\u001b[36mDEBUG   \u001b[0m                                                                       \n",
      "\u001b[2;36m \u001b[0m\u001b[36mDEBUG   \u001b[0m Setup for alignment in \u001b[1;36m38.436\u001b[0m seconds                                 \n",
      "\u001b[2;36m \u001b[0m\u001b[32mINFO    \u001b[0m Compiling training graphs\u001b[33m...\u001b[0m                                          \n"
     ]
    },
    {
     "name": "stdout",
     "output_type": "stream",
     "text": [
      "\u001b[2K\u001b[35m 100%\u001b[0m \u001b[90m━━━━━━━━━━━━━━━━━━━━━━━━━━━━━━━━━━━━━━\u001b[0m \u001b[32m1/1 \u001b[0m [ \u001b[33m0:00:00\u001b[0m < \u001b[36m0:00:00\u001b[0m , \u001b[31m? it/s\u001b[0m ]\n",
      "\u001b[2K\u001b[35m   0%\u001b[0m \u001b[90m━━━━━━━━━━━━━━━━━━━━━━━━━━━━━━━━━━━━━━\u001b[0m \u001b[32m0/1 \u001b[0m [ \u001b[33m0:00:00\u001b[0m < \u001b[36m-:--:--\u001b[0m , \u001b[31m? it/s\u001b[0m ]"
     ]
    },
    {
     "name": "stderr",
     "output_type": "stream",
     "text": [
      "\u001b[2;36m \u001b[0m\u001b[36mDEBUG   \u001b[0m Compiling training graphs took \u001b[1;36m1.369\u001b[0m seconds                          \n",
      "\u001b[2;36m \u001b[0m\u001b[32mINFO    \u001b[0m Performing first-pass alignment\u001b[33m...\u001b[0m                                    \n",
      "\u001b[2;36m \u001b[0m\u001b[32mINFO    \u001b[0m Generating alignments\u001b[33m...\u001b[0m                                              \n"
     ]
    },
    {
     "name": "stdout",
     "output_type": "stream",
     "text": [
      "\u001b[2K\u001b[35m 100%\u001b[0m \u001b[90m━━━━━━━━━━━━━━━━━━━━━━━━━━━━━━━━━━━━━━\u001b[0m \u001b[32m1/1 \u001b[0m [ \u001b[33m0:00:00\u001b[0m < \u001b[36m0:00:00\u001b[0m , \u001b[31m? it/s\u001b[0m ]\n",
      "\u001b[?25h"
     ]
    },
    {
     "name": "stderr",
     "output_type": "stream",
     "text": [
      "\u001b[2;36m \u001b[0m\u001b[36mDEBUG   \u001b[0m Alignment round took \u001b[1;36m1.848\u001b[0m seconds                                    \n",
      "\u001b[2;36m \u001b[0m\u001b[32mINFO    \u001b[0m Calculating fMLLR for speaker adaptation\u001b[33m...\u001b[0m                           \n"
     ]
    },
    {
     "name": "stdout",
     "output_type": "stream",
     "text": [
      "\u001b[2K\u001b[35m 100%\u001b[0m \u001b[90m━━━━━━━━━━━━━━━━━━━━━━━━━━━━━━━━━━━━━━\u001b[0m \u001b[32m1/1 \u001b[0m [ \u001b[33m0:00:00\u001b[0m < \u001b[36m0:00:00\u001b[0m , \u001b[31m? it/s\u001b[0m ]\n",
      "\u001b[?25h"
     ]
    },
    {
     "name": "stderr",
     "output_type": "stream",
     "text": [
      "\u001b[2;36m \u001b[0m\u001b[36mDEBUG   \u001b[0m Fmllr calculation took \u001b[1;36m1.795\u001b[0m seconds                                  \n",
      "\u001b[2;36m \u001b[0m\u001b[32mINFO    \u001b[0m Performing second-pass alignment\u001b[33m...\u001b[0m                                   \n",
      "\u001b[2;36m \u001b[0m\u001b[32mINFO    \u001b[0m Generating alignments\u001b[33m...\u001b[0m                                              \n"
     ]
    },
    {
     "name": "stdout",
     "output_type": "stream",
     "text": [
      "\u001b[2K\u001b[35m 100%\u001b[0m \u001b[90m━━━━━━━━━━━━━━━━━━━━━━━━━━━━━━━━━━━━━━\u001b[0m \u001b[32m1/1 \u001b[0m [ \u001b[33m0:00:00\u001b[0m < \u001b[36m0:00:00\u001b[0m , \u001b[31m? it/s\u001b[0m ]\n",
      "\u001b[?25h"
     ]
    },
    {
     "name": "stderr",
     "output_type": "stream",
     "text": [
      "\u001b[2;36m \u001b[0m\u001b[36mDEBUG   \u001b[0m Alignment round took \u001b[1;36m1.812\u001b[0m seconds                                    \n",
      "\u001b[2;36m \u001b[0m\u001b[32mINFO    \u001b[0m Collecting phone and word alignments from alignment lattices\u001b[33m...\u001b[0m       \n"
     ]
    },
    {
     "name": "stdout",
     "output_type": "stream",
     "text": [
      "\u001b[2K\u001b[35m 100%\u001b[0m \u001b[90m━━━━━━━━━━━━━━━━━━━━━━━━━━━━━━━━━━━━━━\u001b[0m \u001b[32m1/1 \u001b[0m [ \u001b[33m0:00:02\u001b[0m < \u001b[36m0:00:00\u001b[0m , \u001b[31m? it/s\u001b[0m ]\n",
      "\u001b[?25h"
     ]
    },
    {
     "name": "stderr",
     "output_type": "stream",
     "text": [
      "\u001b[2;36m \u001b[0m\u001b[36mDEBUG   \u001b[0m For job \u001b[1;36m0\u001b[0m:                                                            \n",
      "\u001b[2;36m \u001b[0m\u001b[36mDEBUG   \u001b[0m \u001b[1;36m0\u001b[0m beam too narrow                                                     \n",
      "\u001b[2;36m \u001b[0m\u001b[36mDEBUG   \u001b[0m \u001b[1;36m652\u001b[0m total frames                                                      \n",
      "\u001b[2;36m \u001b[0m\u001b[36mDEBUG   \u001b[0m \u001b[1;36m-50.258\u001b[0m average log-likelihood                                        \n",
      "\u001b[2;36m \u001b[0m\u001b[36mDEBUG   \u001b[0m Average per frame likelihood for alignment: \u001b[1;36m-50.258\u001b[0m                   \n",
      "\u001b[2;36m \u001b[0m\u001b[36mDEBUG   \u001b[0m Compiling information took \u001b[1;36m1.084\u001b[0m seconds                              \n",
      "\u001b[2;36m \u001b[0m\u001b[36mDEBUG   \u001b[0m Generated alignments in \u001b[1;36m12.340\u001b[0m seconds                                \n",
      "\u001b[2;36m \u001b[0m\u001b[33mWARNING \u001b[0m Alignment analysis not available without using postgresql             \n",
      "\u001b[2;36m \u001b[0m\u001b[32mINFO    \u001b[0m Exporting alignment TextGrids to videos/vid2_1/mfa_alignments\u001b[33m...\u001b[0m      \n",
      "\u001b[2;36m \u001b[0m\u001b[36mDEBUG   \u001b[0m Not using multiprocessing for TextGrid export                         \n",
      "\u001b[2;36m \u001b[0m\u001b[32mINFO    \u001b[0m Finished exporting TextGrids to videos/vid2_1/mfa_alignments!         \n",
      "\u001b[2;36m \u001b[0m\u001b[36mDEBUG   \u001b[0m Exported TextGrids in a total of \u001b[1;36m0.041\u001b[0m seconds                        \n",
      "\u001b[2;36m \u001b[0m\u001b[32mINFO    \u001b[0m Done! Everything took \u001b[1;36m56.338\u001b[0m seconds                                  \n"
     ]
    },
    {
     "name": "stdout",
     "output_type": "stream",
     "text": [
      "\u001b[2K\u001b[35m 100%\u001b[0m \u001b[90m━━━━━━━━━━━━━━━━━━━━━━━━━━━━━━━━━━━━━━\u001b[0m \u001b[32m1/1 \u001b[0m [ \u001b[33m0:00:00\u001b[0m < \u001b[36m0:00:00\u001b[0m , \u001b[31m? it/s\u001b[0m ]\n",
      "\u001b[?25h"
     ]
    },
    {
     "name": "stderr",
     "output_type": "stream",
     "text": [
      "WARNING:phonemizer:words count mismatch on 400.0% of the lines (4/1)\n",
      "WARNING:phonemizer:words count mismatch on 400.0% of the lines (4/1)\n",
      "WARNING:phonemizer:words count mismatch on 400.0% of the lines (4/1)\n",
      "WARNING:phonemizer:words count mismatch on 400.0% of the lines (4/1)\n",
      "WARNING:phonemizer:words count mismatch on 400.0% of the lines (4/1)\n"
     ]
    },
    {
     "name": "stdout",
     "output_type": "stream",
     "text": [
      "Generated audio file saved to 'output/auto/vid2_1_gen_1.wav'\n"
     ]
    },
    {
     "name": "stderr",
     "output_type": "stream",
     "text": [
      "[2024-06-01 03:46:29,492 | alacen | DEBUG] Generating lip-synced video...\n",
      "DEBUG:alacen:Generating lip-synced video...\n"
     ]
    },
    {
     "name": "stdout",
     "output_type": "stream",
     "text": [
      "MPI.COMM_WORLD.Get_rank() 0\n",
      "os.environ[\"CUDA_VISIBLE_DEVICES\"] 0\n",
      "MPI.COMM_WORLD.Get_rank() 1\n",
      "os.environ[\"CUDA_VISIBLE_DEVICES\"] 1\n",
      "MPI.COMM_WORLD.Get_rank() 2\n",
      "os.environ[\"CUDA_VISIBLE_DEVICES\"] 2\n",
      "Recovering from OOM error; New batch size: 32\n",
      "Recovering from OOM error; New batch size: 32\n",
      "Recovering from OOM error; New batch size: 32\n",
      "Recovering from OOM error; New batch size: 16\n",
      "Recovering from OOM error; New batch size: 16\n",
      "Recovering from OOM error; New batch size: 16\n",
      "Recovering from OOM error; New batch size: 8\n",
      "Time taken for sampling,  68.72399759292603 ,time without all  gather,  67.10439038276672 ,frames/gpu,  162 ,total frames,  162\n",
      "(111040,) (162, 540, 960, 3)\n",
      "(103680,) (162, 540, 960, 3)\n"
     ]
    },
    {
     "name": "stderr",
     "output_type": "stream",
     "text": [
      "[2024-06-01 03:51:34,588 | alacen | DEBUG] Merging generated audio and video...\n",
      "DEBUG:alacen:Merging generated audio and video...\n",
      "[2024-06-01 03:51:35,036 | alacen | DEBUG] DONE\n",
      "DEBUG:alacen:DONE\n"
     ]
    },
    {
     "name": "stdout",
     "output_type": "stream",
     "text": [
      "\n"
     ]
    }
   ],
   "source": [
    "mode = \"auto\"\n",
    "for i, video in enumerate(video_list, 1):\n",
    "    print(f\"Video {i}: {video}\", flush=True)\n",
    "    alacen.run(\n",
    "        video,\n",
    "        OUT_DIR / mode,\n",
    "        TTS_ARGS,\n",
    "        num_paraphrases=NUM_PARAPHRASES,\n",
    "        merge_av=True,\n",
    "        mode=mode,\n",
    "        device=device,\n",
    "        verbose=VERBOSE,\n",
    "        clean_up=True,\n",
    "    )\n",
    "    print()"
   ]
  },
  {
   "cell_type": "markdown",
   "metadata": {},
   "source": [
    "# Mode: semi-automatic"
   ]
  },
  {
   "cell_type": "code",
   "execution_count": 5,
   "metadata": {},
   "outputs": [
    {
     "name": "stdout",
     "output_type": "stream",
     "text": [
      "Video 1: videos/vid2.mp4\n"
     ]
    },
    {
     "name": "stderr",
     "output_type": "stream",
     "text": [
      "[2024-06-01 03:12:48,064 | alacen | DEBUG] Extracting audio from video...\n",
      "DEBUG:alacen:Extracting audio from video...\n",
      "[2024-06-01 03:12:48,415 | alacen | DEBUG] Performing speech recognition...\n",
      "DEBUG:alacen:Performing speech recognition...\n",
      "[2024-06-01 03:12:50,510 | alacen | DEBUG] Transcript:  If I ever find one of these lying around again, I swear to fucking God, I will stop being so polite.\n",
      "DEBUG:alacen:Transcript:  If I ever find one of these lying around again, I swear to fucking God, I will stop being so polite.\n",
      "[2024-06-01 03:12:50,512 | alacen | DEBUG] Generating paraphrase...\n",
      "DEBUG:alacen:Generating paraphrase...\n"
     ]
    },
    {
     "name": "stdout",
     "output_type": "stream",
     "text": [
      "Please choose the best paraphrase among the following:\n",
      "1. If I ever find one of these lying around again, I swear to myself that I will stop being so polite.\n",
      "2. If I ever find one of these lying around again, I swear to God, I will stop being so polite.\n",
      "3. If I ever locate one of these again, I will be compelled to reconsider my approach to this situation.\n",
      "4. If I ever find one of these lying around again, I swear to God, I will stop being so polite.\n",
      "5. If I ever encounter one of these individuals again, I would deeply regret to inform you that I am no longer able to display such gracious behavior.\n",
      "Selected paraphrase: If I ever find one of these lying around again, I swear to God, I will stop being so polite.\n"
     ]
    },
    {
     "name": "stderr",
     "output_type": "stream",
     "text": [
      "[2024-06-01 03:13:04,277 | alacen | DEBUG] Generating new audio...\n",
      "DEBUG:alacen:Generating new audio...\n",
      "\u001b[2;36m \u001b[0m\u001b[36mDEBUG   \u001b[0m Beginning run for vid2                                                \n",
      "\u001b[2;36m \u001b[0m\u001b[36mDEBUG   \u001b[0m Using \u001b[32m\"global\"\u001b[0m profile                                                \n",
      "\u001b[2;36m \u001b[0m\u001b[36mDEBUG   \u001b[0m Using multiprocessing with \u001b[1;36m1\u001b[0m                                          \n",
      "\u001b[2;36m \u001b[0m\u001b[36mDEBUG   \u001b[0m Set up logger for MFA version: \u001b[1;36m2.2\u001b[0m.\u001b[1;36m17\u001b[0m                                 \n",
      "\u001b[2;36m \u001b[0m\u001b[36mDEBUG   \u001b[0m Cleaned previous run                                                  \n",
      "\u001b[2;36m \u001b[0m\u001b[36mDEBUG   \u001b[0m There were some differences in the current run compared to the last   \n",
      "\u001b[2;36m \u001b[0m         one. This may cause issues, run with --clean, if you hit an error.    \n",
      "\u001b[2;36m \u001b[0m\u001b[36mDEBUG   \u001b[0m Using UNKNOWN                                                         \n",
      "\u001b[2;36m \u001b[0m\u001b[36mDEBUG   \u001b[0m Loaded dictionary in \u001b[1;36m26.816\u001b[0m seconds                                   \n",
      "\u001b[2;36m \u001b[0m\u001b[32mINFO    \u001b[0m Setting up corpus information\u001b[33m...\u001b[0m                                      \n",
      "\u001b[2;36m \u001b[0m\u001b[36mDEBUG   \u001b[0m Could not load from temp                                              \n",
      "\u001b[2;36m \u001b[0m\u001b[32mINFO    \u001b[0m Loading corpus from source files\u001b[33m...\u001b[0m                                   \n"
     ]
    },
    {
     "name": "stdout",
     "output_type": "stream",
     "text": [
      "\u001b[2K\u001b[35m   0%\u001b[0m \u001b[90m━━━━━━━━━━━━━━━━━━━━━━━━━━━━━━━━━━━━\u001b[0m \u001b[32m0/100 \u001b[0m [ \u001b[33m0:00:00\u001b[0m < \u001b[36m-:--:--\u001b[0m , \u001b[31m? it/s\u001b[0m ]"
     ]
    },
    {
     "name": "stderr",
     "output_type": "stream",
     "text": [
      "\u001b[2;36m \u001b[0m\u001b[36mDEBUG   \u001b[0m Processing queue: \u001b[1;36m0.10242348399999912\u001b[0m                                 \n",
      "\u001b[2;36m \u001b[0m\u001b[36mDEBUG   \u001b[0m Parsed corpus directory with \u001b[1;36m1\u001b[0m jobs in \u001b[1;36m0.14615926300000126\u001b[0m seconds    \n",
      "\u001b[2;36m \u001b[0m\u001b[32mINFO    \u001b[0m Found \u001b[1;36m1\u001b[0m speaker across \u001b[1;36m1\u001b[0m file, average number of utterances per       \n",
      "\u001b[2;36m \u001b[0m         speaker: \u001b[1;36m1.0\u001b[0m                                                          \n",
      "\u001b[2;36m \u001b[0m\u001b[36mDEBUG   \u001b[0m Loaded corpus in \u001b[1;36m1.294\u001b[0m seconds                                        \n",
      "\u001b[2;36m \u001b[0m\u001b[32mINFO    \u001b[0m Initializing multiprocessing jobs\u001b[33m...\u001b[0m                                  \n"
     ]
    },
    {
     "name": "stdout",
     "output_type": "stream",
     "text": [
      "\u001b[2K\u001b[35m   1%\u001b[0m \u001b[90m━━━━━━━━━━━━━━━━━━━━━━━━━━━━━━━━━━━━\u001b[0m \u001b[32m1/100 \u001b[0m [ \u001b[33m0:00:01\u001b[0m < \u001b[36m-:--:--\u001b[0m , \u001b[31m? it/s\u001b[0m ]\n",
      "\u001b[?25h"
     ]
    },
    {
     "name": "stderr",
     "output_type": "stream",
     "text": [
      "\u001b[2;36m \u001b[0m\u001b[36mDEBUG   \u001b[0m Initialized jobs in \u001b[1;36m0.138\u001b[0m seconds                                     \n",
      "\u001b[2;36m \u001b[0m\u001b[32mINFO    \u001b[0m Normalizing text\u001b[33m...\u001b[0m                                                   \n"
     ]
    },
    {
     "name": "stdout",
     "output_type": "stream",
     "text": [
      "\u001b[2K\u001b[35m 100%\u001b[0m \u001b[90m━━━━━━━━━━━━━━━━━━━━━━━━━━━━━━━━━━━━━━\u001b[0m \u001b[32m1/1 \u001b[0m [ \u001b[33m0:00:01\u001b[0m < \u001b[36m0:00:00\u001b[0m , \u001b[31m? it/s\u001b[0m ]\n",
      "\u001b[?25h"
     ]
    },
    {
     "name": "stderr",
     "output_type": "stream",
     "text": [
      "\u001b[2;36m \u001b[0m\u001b[36mDEBUG   \u001b[0m Wrote lexicon information in \u001b[1;36m0.301\u001b[0m seconds                            \n",
      "\u001b[2;36m \u001b[0m\u001b[32mINFO    \u001b[0m Creating corpus split for feature generation\u001b[33m...\u001b[0m                       \n"
     ]
    },
    {
     "name": "stdout",
     "output_type": "stream",
     "text": [
      "\u001b[2K\u001b[35m 100%\u001b[0m \u001b[90m━━━━━━━━━━━━━━━━━━━━━━━━━━━━━━━━━━━━━━\u001b[0m \u001b[32m2/2 \u001b[0m [ \u001b[33m0:00:01\u001b[0m < \u001b[36m0:00:00\u001b[0m , \u001b[31m? it/s\u001b[0m ]\n",
      "\u001b[2K\u001b[35m   0%\u001b[0m \u001b[90m━━━━━━━━━━━━━━━━━━━━━━━━━━━━━━━━━━━━━━\u001b[0m \u001b[32m0/1 \u001b[0m [ \u001b[33m0:00:00\u001b[0m < \u001b[36m-:--:--\u001b[0m , \u001b[31m? it/s\u001b[0m ]"
     ]
    },
    {
     "name": "stderr",
     "output_type": "stream",
     "text": [
      "\u001b[2;36m \u001b[0m\u001b[36mDEBUG   \u001b[0m Created corpus split directory in \u001b[1;36m1.080\u001b[0m seconds                       \n",
      "\u001b[2;36m \u001b[0m\u001b[32mINFO    \u001b[0m Generating MFCCs\u001b[33m...\u001b[0m                                                   \n"
     ]
    },
    {
     "name": "stdout",
     "output_type": "stream",
     "text": [
      "\u001b[2K\u001b[35m 100%\u001b[0m \u001b[90m━━━━━━━━━━━━━━━━━━━━━━━━━━━━━━━━━━━━━━\u001b[0m \u001b[32m1/1 \u001b[0m [ \u001b[33m0:00:01\u001b[0m < \u001b[36m0:00:00\u001b[0m , \u001b[31m? it/s\u001b[0m ]\n",
      "\u001b[?25h"
     ]
    },
    {
     "name": "stderr",
     "output_type": "stream",
     "text": [
      "\u001b[2;36m \u001b[0m\u001b[36mDEBUG   \u001b[0m Generating MFCCs took \u001b[1;36m2.251\u001b[0m seconds                                   \n",
      "\u001b[2;36m \u001b[0m\u001b[32mINFO    \u001b[0m Calculating CMVN\u001b[33m...\u001b[0m                                                   \n",
      "\u001b[2;36m \u001b[0m\u001b[32mINFO    \u001b[0m Generating final features\u001b[33m...\u001b[0m                                          \n"
     ]
    },
    {
     "name": "stdout",
     "output_type": "stream",
     "text": [
      "\u001b[2K\u001b[35m 100%\u001b[0m \u001b[90m━━━━━━━━━━━━━━━━━━━━━━━━━━━━━━━━━━━━━━\u001b[0m \u001b[32m1/1 \u001b[0m [ \u001b[33m0:00:00\u001b[0m < \u001b[36m0:00:00\u001b[0m , \u001b[31m? it/s\u001b[0m ]\n",
      "\u001b[?25h"
     ]
    },
    {
     "name": "stderr",
     "output_type": "stream",
     "text": [
      "\u001b[2;36m \u001b[0m\u001b[36mDEBUG   \u001b[0m Generating final features took \u001b[1;36m1.290\u001b[0m seconds                          \n",
      "\u001b[2;36m \u001b[0m\u001b[32mINFO    \u001b[0m Creating corpus split with features\u001b[33m...\u001b[0m                                \n"
     ]
    },
    {
     "name": "stdout",
     "output_type": "stream",
     "text": [
      "\u001b[2K\u001b[35m 100%\u001b[0m \u001b[90m━━━━━━━━━━━━━━━━━━━━━━━━━━━━━━━━━━━━━━\u001b[0m \u001b[32m1/1 \u001b[0m [ \u001b[33m0:00:00\u001b[0m < \u001b[36m0:00:00\u001b[0m , \u001b[31m? it/s\u001b[0m ]\n",
      "\u001b[?25h"
     ]
    },
    {
     "name": "stderr",
     "output_type": "stream",
     "text": [
      "\u001b[2;36m \u001b[0m\u001b[36mDEBUG   \u001b[0m Generated features in \u001b[1;36m4.970\u001b[0m seconds                                   \n",
      "\u001b[2;36m \u001b[0m\u001b[36mDEBUG   \u001b[0m Setting up corpus took \u001b[1;36m39.201\u001b[0m seconds                                 \n",
      "\u001b[2;36m \u001b[0m\u001b[36mDEBUG   \u001b[0m                                                                       \n",
      "\u001b[2;36m \u001b[0m\u001b[36mDEBUG   \u001b[0m ====ACOUSTIC MODEL \u001b[33mINFO\u001b[0m====                                           \n",
      "\u001b[2;36m \u001b[0m\u001b[36mDEBUG   \u001b[0m Acoustic model root directory:                                        \n",
      "\u001b[2;36m \u001b[0m         \u001b[35m/mnt/home/20200884/Documents/MFA/extracted_models/\u001b[0m\u001b[95macoustic\u001b[0m            \n",
      "\u001b[2;36m \u001b[0m\u001b[36mDEBUG   \u001b[0m Acoustic model dirname:                                               \n",
      "\u001b[2;36m \u001b[0m         \u001b[35m/mnt/home/20200884/Documents/MFA/extracted_models/acoustic/\u001b[0m\u001b[95menglish_us_\u001b[0m\n",
      "\u001b[2;36m \u001b[0m         \u001b[95marpa_acoustic\u001b[0m                                                         \n",
      "\u001b[2;36m \u001b[0m\u001b[36mDEBUG   \u001b[0m Acoustic model meta path:                                             \n",
      "\u001b[2;36m \u001b[0m         \u001b[35m/mnt/home/20200884/Documents/MFA/extracted_models/acoustic/english_us_\u001b[0m\n",
      "\u001b[2;36m \u001b[0m         \u001b[35marpa_acoustic/\u001b[0m\u001b[95mmeta.json\u001b[0m                                               \n",
      "\u001b[2;36m \u001b[0m\u001b[36mDEBUG   \u001b[0m Acoustic model meta information:                                      \n",
      "\u001b[2;36m \u001b[0m\u001b[36mDEBUG   \u001b[0m architecture: gmm-hmm                                                 \n",
      "\u001b[2;36m \u001b[0m         dictionaries:                                                         \n",
      "\u001b[2;36m \u001b[0m           bracketed_word: \u001b[32m'\u001b[0m\u001b[32m[\u001b[0m\u001b[32mbracketed\u001b[0m\u001b[32m]\u001b[0m\u001b[32m'\u001b[0m                                       \n",
      "\u001b[2;36m \u001b[0m           clitic_marker: \u001b[32m''\u001b[0m\u001b[32m''\u001b[0m                                                 \n",
      "\u001b[2;36m \u001b[0m           default: english_us_arpa                                            \n",
      "\u001b[2;36m \u001b[0m           laughter_word: \u001b[32m'\u001b[0m\u001b[32m[\u001b[0m\u001b[32mlaughter\u001b[0m\u001b[32m]\u001b[0m\u001b[32m'\u001b[0m                                         \n",
      "\u001b[2;36m \u001b[0m           names:                                                              \n",
      "\u001b[2;36m \u001b[0m           - english_us_arpa                                                   \n",
      "\u001b[2;36m \u001b[0m           oov_word: \u001b[1m<\u001b[0m\u001b[1;95munk\u001b[0m\u001b[39m>\u001b[0m                                                     \n",
      "\u001b[2;36m \u001b[0m         \u001b[39m  position_dependent_phones: false\u001b[0m                                    \n",
      "\u001b[2;36m \u001b[0m         \u001b[39m  silence_word: <eps>\u001b[0m                                                 \n",
      "\u001b[2;36m \u001b[0m         \u001b[39m  use_g2p: false\u001b[0m                                                      \n",
      "\u001b[2;36m \u001b[0m         \u001b[39mfeatures:\u001b[0m                                                             \n",
      "\u001b[2;36m \u001b[0m         \u001b[39m  cepstral_lifter: \u001b[0m\u001b[1;36m22\u001b[0m                                                 \n",
      "\u001b[2;36m \u001b[0m         \u001b[39m  delta_pitch: \u001b[0m\u001b[1;36m0.005\u001b[0m                                                  \n",
      "\u001b[2;36m \u001b[0m         \u001b[39m  dither: \u001b[0m\u001b[1;36m1\u001b[0m                                                           \n",
      "\u001b[2;36m \u001b[0m         \u001b[39m  energy_floor: \u001b[0m\u001b[1;36m0\u001b[0m                                                     \n",
      "\u001b[2;36m \u001b[0m         \u001b[39m  feature_type: mfcc\u001b[0m                                                  \n",
      "\u001b[2;36m \u001b[0m         \u001b[39m  frame_length: \u001b[0m\u001b[1;36m25\u001b[0m                                                    \n",
      "\u001b[2;36m \u001b[0m         \u001b[39m  frame_shift: \u001b[0m\u001b[1;36m10\u001b[0m                                                     \n",
      "\u001b[2;36m \u001b[0m         \u001b[39m  high_frequency: \u001b[0m\u001b[1;36m7800\u001b[0m                                                \n",
      "\u001b[2;36m \u001b[0m         \u001b[39m  low_frequency: \u001b[0m\u001b[1;36m20\u001b[0m                                                   \n",
      "\u001b[2;36m \u001b[0m         \u001b[39m  max_f0: \u001b[0m\u001b[1;36m800\u001b[0m                                                         \n",
      "\u001b[2;36m \u001b[0m         \u001b[39m  min_f0: \u001b[0m\u001b[1;36m50\u001b[0m                                                          \n",
      "\u001b[2;36m \u001b[0m         \u001b[39m  num_coefficients: \u001b[0m\u001b[1;36m13\u001b[0m                                                \n",
      "\u001b[2;36m \u001b[0m         \u001b[39m  num_mel_bins: \u001b[0m\u001b[1;36m23\u001b[0m                                                    \n",
      "\u001b[2;36m \u001b[0m         \u001b[39m  penalty_factor: \u001b[0m\u001b[1;36m0.1\u001b[0m                                                 \n",
      "\u001b[2;36m \u001b[0m         \u001b[39m  preemphasis_coefficient: \u001b[0m\u001b[1;36m0.97\u001b[0m                                       \n",
      "\u001b[2;36m \u001b[0m         \u001b[39m  sample_frequency: \u001b[0m\u001b[1;36m16000\u001b[0m                                             \n",
      "\u001b[2;36m \u001b[0m         \u001b[39m  silence_weight: \u001b[0m\u001b[1;36m0.0\u001b[0m                                                 \n",
      "\u001b[2;36m \u001b[0m         \u001b[39m  snip_edges: false\u001b[0m                                                   \n",
      "\u001b[2;36m \u001b[0m         \u001b[39m  splice_left_context: \u001b[0m\u001b[1;36m3\u001b[0m                                              \n",
      "\u001b[2;36m \u001b[0m         \u001b[39m  splice_right_context: \u001b[0m\u001b[1;36m3\u001b[0m                                             \n",
      "\u001b[2;36m \u001b[0m         \u001b[39m  use_energy: false\u001b[0m                                                   \n",
      "\u001b[2;36m \u001b[0m         \u001b[39m  use_pitch: false\u001b[0m                                                    \n",
      "\u001b[2;36m \u001b[0m         \u001b[39m  use_voicing: false\u001b[0m                                                  \n",
      "\u001b[2;36m \u001b[0m         \u001b[39m  uses_cmvn: true\u001b[0m                                                     \n",
      "\u001b[2;36m \u001b[0m         \u001b[39m  uses_deltas: false\u001b[0m                                                  \n",
      "\u001b[2;36m \u001b[0m         \u001b[39m  uses_speaker_adaptation: true\u001b[0m                                       \n",
      "\u001b[2;36m \u001b[0m         \u001b[39m  uses_splices: true\u001b[0m                                                  \n",
      "\u001b[2;36m \u001b[0m         \u001b[39m  uses_voiced: false\u001b[0m                                                  \n",
      "\u001b[2;36m \u001b[0m         \u001b[39mfinal_non_silence_correction: \u001b[0m\u001b[1;36m0.01\u001b[0m                                    \n",
      "\u001b[2;36m \u001b[0m         \u001b[39mfinal_silence_correction: \u001b[0m\u001b[1;36m0.99\u001b[0m                                        \n",
      "\u001b[2;36m \u001b[0m         \u001b[39minitial_silence_probability: \u001b[0m\u001b[1;36m0.18\u001b[0m                                     \n",
      "\u001b[2;36m \u001b[0m         \u001b[39mlanguage: unknown\u001b[0m                                                     \n",
      "\u001b[2;36m \u001b[0m         \u001b[39moov_phone: spn\u001b[0m                                                        \n",
      "\u001b[2;36m \u001b[0m         \u001b[39moptional_silence_phone: sil\u001b[0m                                           \n",
      "\u001b[2;36m \u001b[0m         \u001b[39mphone_groups:\u001b[0m                                                         \n",
      "\u001b[2;36m \u001b[0m         \u001b[39m  AA0:\u001b[0m                                                                \n",
      "\u001b[2;36m \u001b[0m         \u001b[39m  - AA0\u001b[0m                                                               \n",
      "\u001b[2;36m \u001b[0m         \u001b[39m  AA1:\u001b[0m                                                                \n",
      "\u001b[2;36m \u001b[0m         \u001b[39m  - AA1\u001b[0m                                                               \n",
      "\u001b[2;36m \u001b[0m         \u001b[39m  AA2:\u001b[0m                                                                \n",
      "\u001b[2;36m \u001b[0m         \u001b[39m  - AA2\u001b[0m                                                               \n",
      "\u001b[2;36m \u001b[0m         \u001b[39m  AE0:\u001b[0m                                                                \n",
      "\u001b[2;36m \u001b[0m         \u001b[39m  - AE0\u001b[0m                                                               \n",
      "\u001b[2;36m \u001b[0m         \u001b[39m  AE1:\u001b[0m                                                                \n",
      "\u001b[2;36m \u001b[0m         \u001b[39m  - AE1\u001b[0m                                                               \n",
      "\u001b[2;36m \u001b[0m         \u001b[39m  AE2:\u001b[0m                                                                \n",
      "\u001b[2;36m \u001b[0m         \u001b[39m  - AE2\u001b[0m                                                               \n",
      "\u001b[2;36m \u001b[0m         \u001b[39m  AH0:\u001b[0m                                                                \n",
      "\u001b[2;36m \u001b[0m         \u001b[39m  - AH0\u001b[0m                                                               \n",
      "\u001b[2;36m \u001b[0m         \u001b[39m  AH1:\u001b[0m                                                                \n",
      "\u001b[2;36m \u001b[0m         \u001b[39m  - AH1\u001b[0m                                                               \n",
      "\u001b[2;36m \u001b[0m         \u001b[39m  AH2:\u001b[0m                                                                \n",
      "\u001b[2;36m \u001b[0m         \u001b[39m  - AH2\u001b[0m                                                               \n",
      "\u001b[2;36m \u001b[0m         \u001b[39m  AO0:\u001b[0m                                                                \n",
      "\u001b[2;36m \u001b[0m         \u001b[39m  - AO0\u001b[0m                                                               \n",
      "\u001b[2;36m \u001b[0m         \u001b[39m  AO1:\u001b[0m                                                                \n",
      "\u001b[2;36m \u001b[0m         \u001b[39m  - AO1\u001b[0m                                                               \n",
      "\u001b[2;36m \u001b[0m         \u001b[39m  AO2:\u001b[0m                                                                \n",
      "\u001b[2;36m \u001b[0m         \u001b[39m  - AO2\u001b[0m                                                               \n",
      "\u001b[2;36m \u001b[0m         \u001b[39m  AW0:\u001b[0m                                                                \n",
      "\u001b[2;36m \u001b[0m         \u001b[39m  - AW0\u001b[0m                                                               \n",
      "\u001b[2;36m \u001b[0m         \u001b[39m  AW1:\u001b[0m                                                                \n",
      "\u001b[2;36m \u001b[0m         \u001b[39m  - AW1\u001b[0m                                                               \n",
      "\u001b[2;36m \u001b[0m         \u001b[39m  AW2:\u001b[0m                                                                \n",
      "\u001b[2;36m \u001b[0m         \u001b[39m  - AW2\u001b[0m                                                               \n",
      "\u001b[2;36m \u001b[0m         \u001b[39m  AY0:\u001b[0m                                                                \n",
      "\u001b[2;36m \u001b[0m         \u001b[39m  - AY0\u001b[0m                                                               \n",
      "\u001b[2;36m \u001b[0m         \u001b[39m  AY1:\u001b[0m                                                                \n",
      "\u001b[2;36m \u001b[0m         \u001b[39m  - AY1\u001b[0m                                                               \n",
      "\u001b[2;36m \u001b[0m         \u001b[39m  AY2:\u001b[0m                                                                \n",
      "\u001b[2;36m \u001b[0m         \u001b[39m  - AY2\u001b[0m                                                               \n",
      "\u001b[2;36m \u001b[0m         \u001b[39m  B:\u001b[0m                                                                  \n",
      "\u001b[2;36m \u001b[0m         \u001b[39m  - B\u001b[0m                                                                 \n",
      "\u001b[2;36m \u001b[0m         \u001b[39m  CH:\u001b[0m                                                                 \n",
      "\u001b[2;36m \u001b[0m         \u001b[39m  - CH\u001b[0m                                                                \n",
      "\u001b[2;36m \u001b[0m         \u001b[39m  D:\u001b[0m                                                                  \n",
      "\u001b[2;36m \u001b[0m         \u001b[39m  - D\u001b[0m                                                                 \n",
      "\u001b[2;36m \u001b[0m         \u001b[39m  DH:\u001b[0m                                                                 \n",
      "\u001b[2;36m \u001b[0m         \u001b[39m  - DH\u001b[0m                                                                \n",
      "\u001b[2;36m \u001b[0m         \u001b[39m  EH0:\u001b[0m                                                                \n",
      "\u001b[2;36m \u001b[0m         \u001b[39m  - EH0\u001b[0m                                                               \n",
      "\u001b[2;36m \u001b[0m         \u001b[39m  EH1:\u001b[0m                                                                \n",
      "\u001b[2;36m \u001b[0m         \u001b[39m  - EH1\u001b[0m                                                               \n",
      "\u001b[2;36m \u001b[0m         \u001b[39m  EH2:\u001b[0m                                                                \n",
      "\u001b[2;36m \u001b[0m         \u001b[39m  - EH2\u001b[0m                                                               \n",
      "\u001b[2;36m \u001b[0m         \u001b[39m  ER0:\u001b[0m                                                                \n",
      "\u001b[2;36m \u001b[0m         \u001b[39m  - ER0\u001b[0m                                                               \n",
      "\u001b[2;36m \u001b[0m         \u001b[39m  ER1:\u001b[0m                                                                \n",
      "\u001b[2;36m \u001b[0m         \u001b[39m  - ER1\u001b[0m                                                               \n",
      "\u001b[2;36m \u001b[0m         \u001b[39m  ER2:\u001b[0m                                                                \n",
      "\u001b[2;36m \u001b[0m         \u001b[39m  - ER2\u001b[0m                                                               \n",
      "\u001b[2;36m \u001b[0m         \u001b[39m  EY0:\u001b[0m                                                                \n",
      "\u001b[2;36m \u001b[0m         \u001b[39m  - EY0\u001b[0m                                                               \n",
      "\u001b[2;36m \u001b[0m         \u001b[39m  EY1:\u001b[0m                                                                \n",
      "\u001b[2;36m \u001b[0m         \u001b[39m  - EY1\u001b[0m                                                               \n",
      "\u001b[2;36m \u001b[0m         \u001b[39m  EY2:\u001b[0m                                                                \n",
      "\u001b[2;36m \u001b[0m         \u001b[39m  - EY2\u001b[0m                                                               \n",
      "\u001b[2;36m \u001b[0m         \u001b[39m  F:\u001b[0m                                                                  \n",
      "\u001b[2;36m \u001b[0m         \u001b[39m  - F\u001b[0m                                                                 \n",
      "\u001b[2;36m \u001b[0m         \u001b[39m  G:\u001b[0m                                                                  \n",
      "\u001b[2;36m \u001b[0m         \u001b[39m  - G\u001b[0m                                                                 \n",
      "\u001b[2;36m \u001b[0m         \u001b[39m  HH:\u001b[0m                                                                 \n",
      "\u001b[2;36m \u001b[0m         \u001b[39m  - HH\u001b[0m                                                                \n",
      "\u001b[2;36m \u001b[0m         \u001b[39m  IH0:\u001b[0m                                                                \n",
      "\u001b[2;36m \u001b[0m         \u001b[39m  - IH0\u001b[0m                                                               \n",
      "\u001b[2;36m \u001b[0m         \u001b[39m  IH1:\u001b[0m                                                                \n",
      "\u001b[2;36m \u001b[0m         \u001b[39m  - IH1\u001b[0m                                                               \n",
      "\u001b[2;36m \u001b[0m         \u001b[39m  IH2:\u001b[0m                                                                \n",
      "\u001b[2;36m \u001b[0m         \u001b[39m  - IH2\u001b[0m                                                               \n",
      "\u001b[2;36m \u001b[0m         \u001b[39m  IY0:\u001b[0m                                                                \n",
      "\u001b[2;36m \u001b[0m         \u001b[39m  - IY0\u001b[0m                                                               \n",
      "\u001b[2;36m \u001b[0m         \u001b[39m  IY1:\u001b[0m                                                                \n",
      "\u001b[2;36m \u001b[0m         \u001b[39m  - IY1\u001b[0m                                                               \n",
      "\u001b[2;36m \u001b[0m         \u001b[39m  IY2:\u001b[0m                                                                \n",
      "\u001b[2;36m \u001b[0m         \u001b[39m  - IY2\u001b[0m                                                               \n",
      "\u001b[2;36m \u001b[0m         \u001b[39m  JH:\u001b[0m                                                                 \n",
      "\u001b[2;36m \u001b[0m         \u001b[39m  - JH\u001b[0m                                                                \n",
      "\u001b[2;36m \u001b[0m         \u001b[39m  K:\u001b[0m                                                                  \n",
      "\u001b[2;36m \u001b[0m         \u001b[39m  - K\u001b[0m                                                                 \n",
      "\u001b[2;36m \u001b[0m         \u001b[39m  L:\u001b[0m                                                                  \n",
      "\u001b[2;36m \u001b[0m         \u001b[39m  - L\u001b[0m                                                                 \n",
      "\u001b[2;36m \u001b[0m         \u001b[39m  M:\u001b[0m                                                                  \n",
      "\u001b[2;36m \u001b[0m         \u001b[39m  - M\u001b[0m                                                                 \n",
      "\u001b[2;36m \u001b[0m         \u001b[39m  N:\u001b[0m                                                                  \n",
      "\u001b[2;36m \u001b[0m         \u001b[39m  - N\u001b[0m                                                                 \n",
      "\u001b[2;36m \u001b[0m         \u001b[39m  NG:\u001b[0m                                                                 \n",
      "\u001b[2;36m \u001b[0m         \u001b[39m  - NG\u001b[0m                                                                \n",
      "\u001b[2;36m \u001b[0m         \u001b[39m  OW0:\u001b[0m                                                                \n",
      "\u001b[2;36m \u001b[0m         \u001b[39m  - OW0\u001b[0m                                                               \n",
      "\u001b[2;36m \u001b[0m         \u001b[39m  OW1:\u001b[0m                                                                \n",
      "\u001b[2;36m \u001b[0m         \u001b[39m  - OW1\u001b[0m                                                               \n",
      "\u001b[2;36m \u001b[0m         \u001b[39m  OW2:\u001b[0m                                                                \n",
      "\u001b[2;36m \u001b[0m         \u001b[39m  - OW2\u001b[0m                                                               \n",
      "\u001b[2;36m \u001b[0m         \u001b[39m  OY0:\u001b[0m                                                                \n",
      "\u001b[2;36m \u001b[0m         \u001b[39m  - OY0\u001b[0m                                                               \n",
      "\u001b[2;36m \u001b[0m         \u001b[39m  OY1:\u001b[0m                                                                \n",
      "\u001b[2;36m \u001b[0m         \u001b[39m  - OY1\u001b[0m                                                               \n",
      "\u001b[2;36m \u001b[0m         \u001b[39m  OY2:\u001b[0m                                                                \n",
      "\u001b[2;36m \u001b[0m         \u001b[39m  - OY2\u001b[0m                                                               \n",
      "\u001b[2;36m \u001b[0m         \u001b[39m  P:\u001b[0m                                                                  \n",
      "\u001b[2;36m \u001b[0m         \u001b[39m  - P\u001b[0m                                                                 \n",
      "\u001b[2;36m \u001b[0m         \u001b[39m  R:\u001b[0m                                                                  \n",
      "\u001b[2;36m \u001b[0m         \u001b[39m  - R\u001b[0m                                                                 \n",
      "\u001b[2;36m \u001b[0m         \u001b[39m  S:\u001b[0m                                                                  \n",
      "\u001b[2;36m \u001b[0m         \u001b[39m  - S\u001b[0m                                                                 \n",
      "\u001b[2;36m \u001b[0m         \u001b[39m  SH:\u001b[0m                                                                 \n",
      "\u001b[2;36m \u001b[0m         \u001b[39m  - SH\u001b[0m                                                                \n",
      "\u001b[2;36m \u001b[0m         \u001b[39m  T:\u001b[0m                                                                  \n",
      "\u001b[2;36m \u001b[0m         \u001b[39m  - T\u001b[0m                                                                 \n",
      "\u001b[2;36m \u001b[0m         \u001b[39m  TH:\u001b[0m                                                                 \n",
      "\u001b[2;36m \u001b[0m         \u001b[39m  - TH\u001b[0m                                                                \n",
      "\u001b[2;36m \u001b[0m         \u001b[39m  UH0:\u001b[0m                                                                \n",
      "\u001b[2;36m \u001b[0m         \u001b[39m  - UH0\u001b[0m                                                               \n",
      "\u001b[2;36m \u001b[0m         \u001b[39m  UH1:\u001b[0m                                                                \n",
      "\u001b[2;36m \u001b[0m         \u001b[39m  - UH1\u001b[0m                                                               \n",
      "\u001b[2;36m \u001b[0m         \u001b[39m  UH2:\u001b[0m                                                                \n",
      "\u001b[2;36m \u001b[0m         \u001b[39m  - UH2\u001b[0m                                                               \n",
      "\u001b[2;36m \u001b[0m         \u001b[39m  UW0:\u001b[0m                                                                \n",
      "\u001b[2;36m \u001b[0m         \u001b[39m  - UW0\u001b[0m                                                               \n",
      "\u001b[2;36m \u001b[0m         \u001b[39m  UW1:\u001b[0m                                                                \n",
      "\u001b[2;36m \u001b[0m         \u001b[39m  - UW1\u001b[0m                                                               \n",
      "\u001b[2;36m \u001b[0m         \u001b[39m  UW2:\u001b[0m                                                                \n",
      "\u001b[2;36m \u001b[0m         \u001b[39m  - UW2\u001b[0m                                                               \n",
      "\u001b[2;36m \u001b[0m         \u001b[39m  V:\u001b[0m                                                                  \n",
      "\u001b[2;36m \u001b[0m         \u001b[39m  - V\u001b[0m                                                                 \n",
      "\u001b[2;36m \u001b[0m         \u001b[39m  W:\u001b[0m                                                                  \n",
      "\u001b[2;36m \u001b[0m         \u001b[39m  - W\u001b[0m                                                                 \n",
      "\u001b[2;36m \u001b[0m         \u001b[39m  Y:\u001b[0m                                                                  \n",
      "\u001b[2;36m \u001b[0m         \u001b[39m  - Y\u001b[0m                                                                 \n",
      "\u001b[2;36m \u001b[0m         \u001b[39m  Z:\u001b[0m                                                                  \n",
      "\u001b[2;36m \u001b[0m         \u001b[39m  - Z\u001b[0m                                                                 \n",
      "\u001b[2;36m \u001b[0m         \u001b[39m  ZH:\u001b[0m                                                                 \n",
      "\u001b[2;36m \u001b[0m         \u001b[39m  - ZH\u001b[0m                                                                \n",
      "\u001b[2;36m \u001b[0m         \u001b[39mphone_mapping:\u001b[0m                                                        \n",
      "\u001b[2;36m \u001b[0m         \u001b[39m  <eps\u001b[0m\u001b[1m>\u001b[0m: \u001b[1;36m0\u001b[0m                                                            \n",
      "\u001b[2;36m \u001b[0m           AA0: \u001b[1;36m3\u001b[0m                                                              \n",
      "\u001b[2;36m \u001b[0m           AA1: \u001b[1;36m4\u001b[0m                                                              \n",
      "\u001b[2;36m \u001b[0m           AA2: \u001b[1;36m5\u001b[0m                                                              \n",
      "\u001b[2;36m \u001b[0m           AE0: \u001b[1;36m6\u001b[0m                                                              \n",
      "\u001b[2;36m \u001b[0m           AE1: \u001b[1;36m7\u001b[0m                                                              \n",
      "\u001b[2;36m \u001b[0m           AE2: \u001b[1;36m8\u001b[0m                                                              \n",
      "\u001b[2;36m \u001b[0m           AH0: \u001b[1;36m9\u001b[0m                                                              \n",
      "\u001b[2;36m \u001b[0m           AH1: \u001b[1;36m10\u001b[0m                                                             \n",
      "\u001b[2;36m \u001b[0m           AH2: \u001b[1;36m11\u001b[0m                                                             \n",
      "\u001b[2;36m \u001b[0m           AO0: \u001b[1;36m12\u001b[0m                                                             \n",
      "\u001b[2;36m \u001b[0m           AO1: \u001b[1;36m13\u001b[0m                                                             \n",
      "\u001b[2;36m \u001b[0m           AO2: \u001b[1;36m14\u001b[0m                                                             \n",
      "\u001b[2;36m \u001b[0m           AW0: \u001b[1;36m15\u001b[0m                                                             \n",
      "\u001b[2;36m \u001b[0m           AW1: \u001b[1;36m16\u001b[0m                                                             \n",
      "\u001b[2;36m \u001b[0m           AW2: \u001b[1;36m17\u001b[0m                                                             \n",
      "\u001b[2;36m \u001b[0m           AY0: \u001b[1;36m18\u001b[0m                                                             \n",
      "\u001b[2;36m \u001b[0m           AY1: \u001b[1;36m19\u001b[0m                                                             \n",
      "\u001b[2;36m \u001b[0m           AY2: \u001b[1;36m20\u001b[0m                                                             \n",
      "\u001b[2;36m \u001b[0m           B: \u001b[1;36m21\u001b[0m                                                               \n",
      "\u001b[2;36m \u001b[0m           CH: \u001b[1;36m22\u001b[0m                                                              \n",
      "\u001b[2;36m \u001b[0m           D: \u001b[1;36m23\u001b[0m                                                               \n",
      "\u001b[2;36m \u001b[0m           DH: \u001b[1;36m24\u001b[0m                                                              \n",
      "\u001b[2;36m \u001b[0m           EH0: \u001b[1;36m25\u001b[0m                                                             \n",
      "\u001b[2;36m \u001b[0m           EH1: \u001b[1;36m26\u001b[0m                                                             \n",
      "\u001b[2;36m \u001b[0m           EH2: \u001b[1;36m27\u001b[0m                                                             \n",
      "\u001b[2;36m \u001b[0m           ER0: \u001b[1;36m28\u001b[0m                                                             \n",
      "\u001b[2;36m \u001b[0m           ER1: \u001b[1;36m29\u001b[0m                                                             \n",
      "\u001b[2;36m \u001b[0m           ER2: \u001b[1;36m30\u001b[0m                                                             \n",
      "\u001b[2;36m \u001b[0m           EY0: \u001b[1;36m31\u001b[0m                                                             \n",
      "\u001b[2;36m \u001b[0m           EY1: \u001b[1;36m32\u001b[0m                                                             \n",
      "\u001b[2;36m \u001b[0m           EY2: \u001b[1;36m33\u001b[0m                                                             \n",
      "\u001b[2;36m \u001b[0m           F: \u001b[1;36m34\u001b[0m                                                               \n",
      "\u001b[2;36m \u001b[0m           G: \u001b[1;36m35\u001b[0m                                                               \n",
      "\u001b[2;36m \u001b[0m           HH: \u001b[1;36m36\u001b[0m                                                              \n",
      "\u001b[2;36m \u001b[0m           IH0: \u001b[1;36m37\u001b[0m                                                             \n",
      "\u001b[2;36m \u001b[0m           IH1: \u001b[1;36m38\u001b[0m                                                             \n",
      "\u001b[2;36m \u001b[0m           IH2: \u001b[1;36m39\u001b[0m                                                             \n",
      "\u001b[2;36m \u001b[0m           IY0: \u001b[1;36m40\u001b[0m                                                             \n",
      "\u001b[2;36m \u001b[0m           IY1: \u001b[1;36m41\u001b[0m                                                             \n",
      "\u001b[2;36m \u001b[0m           IY2: \u001b[1;36m42\u001b[0m                                                             \n",
      "\u001b[2;36m \u001b[0m           JH: \u001b[1;36m43\u001b[0m                                                              \n",
      "\u001b[2;36m \u001b[0m           K: \u001b[1;36m44\u001b[0m                                                               \n",
      "\u001b[2;36m \u001b[0m           L: \u001b[1;36m45\u001b[0m                                                               \n",
      "\u001b[2;36m \u001b[0m           M: \u001b[1;36m46\u001b[0m                                                               \n",
      "\u001b[2;36m \u001b[0m           N: \u001b[1;36m47\u001b[0m                                                               \n",
      "\u001b[2;36m \u001b[0m           NG: \u001b[1;36m48\u001b[0m                                                              \n",
      "\u001b[2;36m \u001b[0m           OW0: \u001b[1;36m49\u001b[0m                                                             \n",
      "\u001b[2;36m \u001b[0m           OW1: \u001b[1;36m50\u001b[0m                                                             \n",
      "\u001b[2;36m \u001b[0m           OW2: \u001b[1;36m51\u001b[0m                                                             \n",
      "\u001b[2;36m \u001b[0m           OY0: \u001b[1;36m52\u001b[0m                                                             \n",
      "\u001b[2;36m \u001b[0m           OY1: \u001b[1;36m53\u001b[0m                                                             \n",
      "\u001b[2;36m \u001b[0m           OY2: \u001b[1;36m54\u001b[0m                                                             \n",
      "\u001b[2;36m \u001b[0m           P: \u001b[1;36m55\u001b[0m                                                               \n",
      "\u001b[2;36m \u001b[0m           R: \u001b[1;36m56\u001b[0m                                                               \n",
      "\u001b[2;36m \u001b[0m           S: \u001b[1;36m57\u001b[0m                                                               \n",
      "\u001b[2;36m \u001b[0m           SH: \u001b[1;36m58\u001b[0m                                                              \n",
      "\u001b[2;36m \u001b[0m           T: \u001b[1;36m59\u001b[0m                                                               \n",
      "\u001b[2;36m \u001b[0m           TH: \u001b[1;36m60\u001b[0m                                                              \n",
      "\u001b[2;36m \u001b[0m           UH0: \u001b[1;36m61\u001b[0m                                                             \n",
      "\u001b[2;36m \u001b[0m           UH1: \u001b[1;36m62\u001b[0m                                                             \n",
      "\u001b[2;36m \u001b[0m           UH2: \u001b[1;36m63\u001b[0m                                                             \n",
      "\u001b[2;36m \u001b[0m           UW0: \u001b[1;36m64\u001b[0m                                                             \n",
      "\u001b[2;36m \u001b[0m           UW1: \u001b[1;36m65\u001b[0m                                                             \n",
      "\u001b[2;36m \u001b[0m           UW2: \u001b[1;36m66\u001b[0m                                                             \n",
      "\u001b[2;36m \u001b[0m           V: \u001b[1;36m67\u001b[0m                                                               \n",
      "\u001b[2;36m \u001b[0m           W: \u001b[1;36m68\u001b[0m                                                               \n",
      "\u001b[2;36m \u001b[0m           Y: \u001b[1;36m69\u001b[0m                                                               \n",
      "\u001b[2;36m \u001b[0m           Z: \u001b[1;36m70\u001b[0m                                                               \n",
      "\u001b[2;36m \u001b[0m           ZH: \u001b[1;36m71\u001b[0m                                                              \n",
      "\u001b[2;36m \u001b[0m           sil: \u001b[1;36m1\u001b[0m                                                              \n",
      "\u001b[2;36m \u001b[0m           spn: \u001b[1;36m2\u001b[0m                                                              \n",
      "\u001b[2;36m \u001b[0m         phone_set_type: UNKNOWN                                               \n",
      "\u001b[2;36m \u001b[0m         phone_type: triphone                                                  \n",
      "\u001b[2;36m \u001b[0m         phones: !!set                                                         \n",
      "\u001b[2;36m \u001b[0m           AA0: null                                                           \n",
      "\u001b[2;36m \u001b[0m           AA1: null                                                           \n",
      "\u001b[2;36m \u001b[0m           AA2: null                                                           \n",
      "\u001b[2;36m \u001b[0m           AE0: null                                                           \n",
      "\u001b[2;36m \u001b[0m           AE1: null                                                           \n",
      "\u001b[2;36m \u001b[0m           AE2: null                                                           \n",
      "\u001b[2;36m \u001b[0m           AH0: null                                                           \n",
      "\u001b[2;36m \u001b[0m           AH1: null                                                           \n",
      "\u001b[2;36m \u001b[0m           AH2: null                                                           \n",
      "\u001b[2;36m \u001b[0m           AO0: null                                                           \n",
      "\u001b[2;36m \u001b[0m           AO1: null                                                           \n",
      "\u001b[2;36m \u001b[0m           AO2: null                                                           \n",
      "\u001b[2;36m \u001b[0m           AW0: null                                                           \n",
      "\u001b[2;36m \u001b[0m           AW1: null                                                           \n",
      "\u001b[2;36m \u001b[0m           AW2: null                                                           \n",
      "\u001b[2;36m \u001b[0m           AY0: null                                                           \n",
      "\u001b[2;36m \u001b[0m           AY1: null                                                           \n",
      "\u001b[2;36m \u001b[0m           AY2: null                                                           \n",
      "\u001b[2;36m \u001b[0m           B: null                                                             \n",
      "\u001b[2;36m \u001b[0m           CH: null                                                            \n",
      "\u001b[2;36m \u001b[0m           D: null                                                             \n",
      "\u001b[2;36m \u001b[0m           DH: null                                                            \n",
      "\u001b[2;36m \u001b[0m           EH0: null                                                           \n",
      "\u001b[2;36m \u001b[0m           EH1: null                                                           \n",
      "\u001b[2;36m \u001b[0m           EH2: null                                                           \n",
      "\u001b[2;36m \u001b[0m           ER0: null                                                           \n",
      "\u001b[2;36m \u001b[0m           ER1: null                                                           \n",
      "\u001b[2;36m \u001b[0m           ER2: null                                                           \n",
      "\u001b[2;36m \u001b[0m           EY0: null                                                           \n",
      "\u001b[2;36m \u001b[0m           EY1: null                                                           \n",
      "\u001b[2;36m \u001b[0m           EY2: null                                                           \n",
      "\u001b[2;36m \u001b[0m           F: null                                                             \n",
      "\u001b[2;36m \u001b[0m           G: null                                                             \n",
      "\u001b[2;36m \u001b[0m           HH: null                                                            \n",
      "\u001b[2;36m \u001b[0m           IH0: null                                                           \n",
      "\u001b[2;36m \u001b[0m           IH1: null                                                           \n",
      "\u001b[2;36m \u001b[0m           IH2: null                                                           \n",
      "\u001b[2;36m \u001b[0m           IY0: null                                                           \n",
      "\u001b[2;36m \u001b[0m           IY1: null                                                           \n",
      "\u001b[2;36m \u001b[0m           IY2: null                                                           \n",
      "\u001b[2;36m \u001b[0m           JH: null                                                            \n",
      "\u001b[2;36m \u001b[0m           K: null                                                             \n",
      "\u001b[2;36m \u001b[0m           L: null                                                             \n",
      "\u001b[2;36m \u001b[0m           M: null                                                             \n",
      "\u001b[2;36m \u001b[0m           N: null                                                             \n",
      "\u001b[2;36m \u001b[0m           NG: null                                                            \n",
      "\u001b[2;36m \u001b[0m           OW0: null                                                           \n",
      "\u001b[2;36m \u001b[0m           OW1: null                                                           \n",
      "\u001b[2;36m \u001b[0m           OW2: null                                                           \n",
      "\u001b[2;36m \u001b[0m           OY0: null                                                           \n",
      "\u001b[2;36m \u001b[0m           OY1: null                                                           \n",
      "\u001b[2;36m \u001b[0m           OY2: null                                                           \n",
      "\u001b[2;36m \u001b[0m           P: null                                                             \n",
      "\u001b[2;36m \u001b[0m           R: null                                                             \n",
      "\u001b[2;36m \u001b[0m           S: null                                                             \n",
      "\u001b[2;36m \u001b[0m           SH: null                                                            \n",
      "\u001b[2;36m \u001b[0m           T: null                                                             \n",
      "\u001b[2;36m \u001b[0m           TH: null                                                            \n",
      "\u001b[2;36m \u001b[0m           UH0: null                                                           \n",
      "\u001b[2;36m \u001b[0m           UH1: null                                                           \n",
      "\u001b[2;36m \u001b[0m           UH2: null                                                           \n",
      "\u001b[2;36m \u001b[0m           UW0: null                                                           \n",
      "\u001b[2;36m \u001b[0m           UW1: null                                                           \n",
      "\u001b[2;36m \u001b[0m           UW2: null                                                           \n",
      "\u001b[2;36m \u001b[0m           V: null                                                             \n",
      "\u001b[2;36m \u001b[0m           W: null                                                             \n",
      "\u001b[2;36m \u001b[0m           Y: null                                                             \n",
      "\u001b[2;36m \u001b[0m           Z: null                                                             \n",
      "\u001b[2;36m \u001b[0m           ZH: null                                                            \n",
      "\u001b[2;36m \u001b[0m         silence_probability: \u001b[1;36m0.18\u001b[0m                                             \n",
      "\u001b[2;36m \u001b[0m         train_date: \u001b[32m'2024-02-10 15:17:19.181270'\u001b[0m                              \n",
      "\u001b[2;36m \u001b[0m         training:                                                             \n",
      "\u001b[2;36m \u001b[0m           audio_duration: \u001b[1;36m3536308.477162502\u001b[0m                                   \n",
      "\u001b[2;36m \u001b[0m           average_log_likelihood: \u001b[1;36m-0.050285424064008426\u001b[0m                       \n",
      "\u001b[2;36m \u001b[0m           num_oovs: \u001b[1;36m0\u001b[0m                                                         \n",
      "\u001b[2;36m \u001b[0m           num_speakers: \u001b[1;36m2485\u001b[0m                                                  \n",
      "\u001b[2;36m \u001b[0m           num_utterances: \u001b[1;36m292367\u001b[0m                                              \n",
      "\u001b[2;36m \u001b[0m         version: \u001b[1;36m3.0\u001b[0m.0a2.dev0+g940e907.d20230824                              \n",
      "\u001b[2;36m \u001b[0m                                                                               \n",
      "\u001b[2;36m \u001b[0m\u001b[36mDEBUG   \u001b[0m                                                                       \n",
      "\u001b[2;36m \u001b[0m\u001b[36mDEBUG   \u001b[0m Setup for alignment in \u001b[1;36m39.377\u001b[0m seconds                                 \n",
      "\u001b[2;36m \u001b[0m\u001b[32mINFO    \u001b[0m Compiling training graphs\u001b[33m...\u001b[0m                                          \n"
     ]
    },
    {
     "name": "stdout",
     "output_type": "stream",
     "text": [
      "\u001b[2K\u001b[35m 100%\u001b[0m \u001b[90m━━━━━━━━━━━━━━━━━━━━━━━━━━━━━━━━━━━━━━\u001b[0m \u001b[32m1/1 \u001b[0m [ \u001b[33m0:00:00\u001b[0m < \u001b[36m0:00:00\u001b[0m , \u001b[31m? it/s\u001b[0m ]\n",
      "\u001b[2K\u001b[35m   0%\u001b[0m \u001b[90m━━━━━━━━━━━━━━━━━━━━━━━━━━━━━━━━━━━━━━\u001b[0m \u001b[32m0/1 \u001b[0m [ \u001b[33m0:00:00\u001b[0m < \u001b[36m-:--:--\u001b[0m , \u001b[31m? it/s\u001b[0m ]"
     ]
    },
    {
     "name": "stderr",
     "output_type": "stream",
     "text": [
      "\u001b[2;36m \u001b[0m\u001b[36mDEBUG   \u001b[0m Compiling training graphs took \u001b[1;36m1.399\u001b[0m seconds                          \n",
      "\u001b[2;36m \u001b[0m\u001b[32mINFO    \u001b[0m Performing first-pass alignment\u001b[33m...\u001b[0m                                    \n",
      "\u001b[2;36m \u001b[0m\u001b[32mINFO    \u001b[0m Generating alignments\u001b[33m...\u001b[0m                                              \n"
     ]
    },
    {
     "name": "stdout",
     "output_type": "stream",
     "text": [
      "\u001b[2K\u001b[35m 100%\u001b[0m \u001b[90m━━━━━━━━━━━━━━━━━━━━━━━━━━━━━━━━━━━━━━\u001b[0m \u001b[32m1/1 \u001b[0m [ \u001b[33m0:00:00\u001b[0m < \u001b[36m0:00:00\u001b[0m , \u001b[31m? it/s\u001b[0m ]\n",
      "\u001b[?25h"
     ]
    },
    {
     "name": "stderr",
     "output_type": "stream",
     "text": [
      "\u001b[2;36m \u001b[0m\u001b[36mDEBUG   \u001b[0m Alignment round took \u001b[1;36m1.845\u001b[0m seconds                                    \n",
      "\u001b[2;36m \u001b[0m\u001b[32mINFO    \u001b[0m Calculating fMLLR for speaker adaptation\u001b[33m...\u001b[0m                           \n"
     ]
    },
    {
     "name": "stdout",
     "output_type": "stream",
     "text": [
      "\u001b[2K\u001b[35m 100%\u001b[0m \u001b[90m━━━━━━━━━━━━━━━━━━━━━━━━━━━━━━━━━━━━━━\u001b[0m \u001b[32m1/1 \u001b[0m [ \u001b[33m0:00:00\u001b[0m < \u001b[36m0:00:00\u001b[0m , \u001b[31m? it/s\u001b[0m ]\n",
      "\u001b[?25h"
     ]
    },
    {
     "name": "stderr",
     "output_type": "stream",
     "text": [
      "\u001b[2;36m \u001b[0m\u001b[36mDEBUG   \u001b[0m Fmllr calculation took \u001b[1;36m1.829\u001b[0m seconds                                  \n",
      "\u001b[2;36m \u001b[0m\u001b[32mINFO    \u001b[0m Performing second-pass alignment\u001b[33m...\u001b[0m                                   \n",
      "\u001b[2;36m \u001b[0m\u001b[32mINFO    \u001b[0m Generating alignments\u001b[33m...\u001b[0m                                              \n"
     ]
    },
    {
     "name": "stdout",
     "output_type": "stream",
     "text": [
      "\u001b[2K\u001b[35m 100%\u001b[0m \u001b[90m━━━━━━━━━━━━━━━━━━━━━━━━━━━━━━━━━━━━━━\u001b[0m \u001b[32m1/1 \u001b[0m [ \u001b[33m0:00:00\u001b[0m < \u001b[36m0:00:00\u001b[0m , \u001b[31m? it/s\u001b[0m ]\n",
      "\u001b[2K\u001b[35m   0%\u001b[0m \u001b[90m━━━━━━━━━━━━━━━━━━━━━━━━━━━━━━━━━━━━━━\u001b[0m \u001b[32m0/1 \u001b[0m [ \u001b[33m0:00:00\u001b[0m < \u001b[36m-:--:--\u001b[0m , \u001b[31m? it/s\u001b[0m ]"
     ]
    },
    {
     "name": "stderr",
     "output_type": "stream",
     "text": [
      "\u001b[2;36m \u001b[0m\u001b[36mDEBUG   \u001b[0m Alignment round took \u001b[1;36m1.895\u001b[0m seconds                                    \n",
      "\u001b[2;36m \u001b[0m\u001b[32mINFO    \u001b[0m Collecting phone and word alignments from alignment lattices\u001b[33m...\u001b[0m       \n"
     ]
    },
    {
     "name": "stdout",
     "output_type": "stream",
     "text": [
      "\u001b[2K\u001b[35m 100%\u001b[0m \u001b[90m━━━━━━━━━━━━━━━━━━━━━━━━━━━━━━━━━━━━━━\u001b[0m \u001b[32m1/1 \u001b[0m [ \u001b[33m0:00:02\u001b[0m < \u001b[36m0:00:00\u001b[0m , \u001b[31m? it/s\u001b[0m ]\n",
      "\u001b[?25h"
     ]
    },
    {
     "name": "stderr",
     "output_type": "stream",
     "text": [
      "\u001b[2;36m \u001b[0m\u001b[36mDEBUG   \u001b[0m For job \u001b[1;36m0\u001b[0m:                                                            \n",
      "\u001b[2;36m \u001b[0m\u001b[36mDEBUG   \u001b[0m \u001b[1;36m0\u001b[0m beam too narrow                                                     \n",
      "\u001b[2;36m \u001b[0m\u001b[36mDEBUG   \u001b[0m \u001b[1;36m652\u001b[0m total frames                                                      \n",
      "\u001b[2;36m \u001b[0m\u001b[36mDEBUG   \u001b[0m \u001b[1;36m-50.258\u001b[0m average log-likelihood                                        \n",
      "\u001b[2;36m \u001b[0m\u001b[36mDEBUG   \u001b[0m Average per frame likelihood for alignment: \u001b[1;36m-50.258\u001b[0m                   \n",
      "\u001b[2;36m \u001b[0m\u001b[36mDEBUG   \u001b[0m Compiling information took \u001b[1;36m1.093\u001b[0m seconds                              \n",
      "\u001b[2;36m \u001b[0m\u001b[36mDEBUG   \u001b[0m Generated alignments in \u001b[1;36m12.540\u001b[0m seconds                                \n",
      "\u001b[2;36m \u001b[0m\u001b[33mWARNING \u001b[0m Alignment analysis not available without using postgresql             \n",
      "\u001b[2;36m \u001b[0m\u001b[32mINFO    \u001b[0m Exporting alignment TextGrids to videos/vid2/mfa_alignments\u001b[33m...\u001b[0m        \n",
      "\u001b[2;36m \u001b[0m\u001b[36mDEBUG   \u001b[0m Not using multiprocessing for TextGrid export                         \n",
      "\u001b[2;36m \u001b[0m\u001b[32mINFO    \u001b[0m Finished exporting TextGrids to videos/vid2/mfa_alignments!           \n",
      "\u001b[2;36m \u001b[0m\u001b[36mDEBUG   \u001b[0m Exported TextGrids in a total of \u001b[1;36m0.041\u001b[0m seconds                        \n",
      "\u001b[2;36m \u001b[0m\u001b[32mINFO    \u001b[0m Done! Everything took \u001b[1;36m57.569\u001b[0m seconds                                  \n"
     ]
    },
    {
     "name": "stdout",
     "output_type": "stream",
     "text": [
      "\u001b[2K\u001b[35m 100%\u001b[0m \u001b[90m━━━━━━━━━━━━━━━━━━━━━━━━━━━━━━━━━━━━━━\u001b[0m \u001b[32m1/1 \u001b[0m [ \u001b[33m0:00:00\u001b[0m < \u001b[36m0:00:00\u001b[0m , \u001b[31m? it/s\u001b[0m ]\n",
      "\u001b[?25h"
     ]
    },
    {
     "name": "stderr",
     "output_type": "stream",
     "text": [
      "WARNING:phonemizer:words count mismatch on 500.0% of the lines (5/1)\n",
      "WARNING:phonemizer:words count mismatch on 500.0% of the lines (5/1)\n",
      "WARNING:phonemizer:words count mismatch on 500.0% of the lines (5/1)\n",
      "WARNING:phonemizer:words count mismatch on 500.0% of the lines (5/1)\n",
      "WARNING:phonemizer:words count mismatch on 500.0% of the lines (5/1)\n"
     ]
    },
    {
     "name": "stdout",
     "output_type": "stream",
     "text": [
      "Generated audio files saved to:\n",
      "  1. output/semi/vid2_gen_1.wav\n",
      "  2. output/semi/vid2_gen_2.wav\n",
      "  3. output/semi/vid2_gen_3.wav\n",
      "  4. output/semi/vid2_gen_4.wav\n",
      "  5. output/semi/vid2_gen_5.wav\n"
     ]
    },
    {
     "name": "stderr",
     "output_type": "stream",
     "text": [
      "[2024-06-01 03:15:10,116 | alacen | DEBUG] Generating lip-synced video...\n",
      "DEBUG:alacen:Generating lip-synced video...\n"
     ]
    },
    {
     "name": "stdout",
     "output_type": "stream",
     "text": [
      "MPI.COMM_WORLD.Get_rank() 0\n",
      "os.environ[\"CUDA_VISIBLE_DEVICES\"] 0\n",
      "MPI.COMM_WORLD.Get_rank() 2\n",
      "os.environ[\"CUDA_VISIBLE_DEVICES\"] 2\n",
      "MPI.COMM_WORLD.Get_rank() 1\n",
      "os.environ[\"CUDA_VISIBLE_DEVICES\"] 1\n",
      "Recovering from OOM error; New batch size: 32\n",
      "Recovering from OOM error; New batch size: 32\n",
      "Recovering from OOM error; New batch size: 32\n",
      "Recovering from OOM error; New batch size: 16\n",
      "Recovering from OOM error; New batch size: 16\n",
      "Recovering from OOM error; New batch size: 16\n",
      "Recovering from OOM error; New batch size: 8\n",
      "Time taken for sampling,  68.96771717071533 ,time without all  gather,  67.08974552154541 ,frames/gpu,  160 ,total frames,  160\n",
      "(104397,) (160, 540, 960, 3)\n",
      "(102400,) (160, 540, 960, 3)\n"
     ]
    },
    {
     "name": "stderr",
     "output_type": "stream",
     "text": [
      "[2024-06-01 03:20:15,560 | alacen | DEBUG] Merging generated audio and video...\n",
      "DEBUG:alacen:Merging generated audio and video...\n",
      "[2024-06-01 03:20:16,014 | alacen | DEBUG] DONE\n",
      "DEBUG:alacen:DONE\n"
     ]
    },
    {
     "name": "stdout",
     "output_type": "stream",
     "text": [
      "\n",
      "Video 2: videos/vid2_1.mp4\n"
     ]
    },
    {
     "name": "stderr",
     "output_type": "stream",
     "text": [
      "[2024-06-01 03:20:16,020 | alacen | DEBUG] Extracting audio from video...\n",
      "DEBUG:alacen:Extracting audio from video...\n",
      "[2024-06-01 03:20:16,421 | alacen | DEBUG] Performing speech recognition...\n",
      "DEBUG:alacen:Performing speech recognition...\n",
      "[2024-06-01 03:20:18,435 | alacen | DEBUG] Transcript:  If I ever find one of these lying around again, I swear to fucking God, I will stop being so polite.\n",
      "DEBUG:alacen:Transcript:  If I ever find one of these lying around again, I swear to fucking God, I will stop being so polite.\n",
      "[2024-06-01 03:20:18,438 | alacen | DEBUG] Generating paraphrase...\n",
      "DEBUG:alacen:Generating paraphrase...\n"
     ]
    },
    {
     "name": "stdout",
     "output_type": "stream",
     "text": [
      "Please choose the best paraphrase among the following:\n",
      "1. If I ever find one of these lying around again, I swear to God, I will stop being so polite.\n",
      "2. If I ever encounter one of these again, I'll be compelled to reconsider my approach.\n",
      "3. If I ever encounter one of these individuals again, I will be compelled to reconsider my current approach.\n",
      "4. If I ever find one of these lying around again, I would truly appreciate it if you would stop being so polite.\n",
      "5. If I ever find one of these lying around again, I vow to stop being so polite.\n",
      "Selected paraphrase: If I ever find one of these lying around again, I swear to God, I will stop being so polite.\n"
     ]
    },
    {
     "name": "stderr",
     "output_type": "stream",
     "text": [
      "[2024-06-01 03:21:58,199 | alacen | DEBUG] Generating new audio...\n",
      "DEBUG:alacen:Generating new audio...\n",
      "\u001b[2;36m \u001b[0m\u001b[36mDEBUG   \u001b[0m Beginning run for vid2_1                                              \n",
      "\u001b[2;36m \u001b[0m\u001b[36mDEBUG   \u001b[0m Using \u001b[32m\"global\"\u001b[0m profile                                                \n",
      "\u001b[2;36m \u001b[0m\u001b[36mDEBUG   \u001b[0m Using multiprocessing with \u001b[1;36m1\u001b[0m                                          \n",
      "\u001b[2;36m \u001b[0m\u001b[36mDEBUG   \u001b[0m Set up logger for MFA version: \u001b[1;36m2.2\u001b[0m.\u001b[1;36m17\u001b[0m                                 \n",
      "\u001b[2;36m \u001b[0m\u001b[36mDEBUG   \u001b[0m Cleaned previous run                                                  \n",
      "\u001b[2;36m \u001b[0m\u001b[36mDEBUG   \u001b[0m There were some differences in the current run compared to the last   \n",
      "\u001b[2;36m \u001b[0m         one. This may cause issues, run with --clean, if you hit an error.    \n",
      "\u001b[2;36m \u001b[0m\u001b[36mDEBUG   \u001b[0m Using UNKNOWN                                                         \n",
      "\u001b[2;36m \u001b[0m\u001b[36mDEBUG   \u001b[0m Loaded dictionary in \u001b[1;36m26.386\u001b[0m seconds                                   \n",
      "\u001b[2;36m \u001b[0m\u001b[32mINFO    \u001b[0m Setting up corpus information\u001b[33m...\u001b[0m                                      \n",
      "\u001b[2;36m \u001b[0m\u001b[36mDEBUG   \u001b[0m Could not load from temp                                              \n",
      "\u001b[2;36m \u001b[0m\u001b[32mINFO    \u001b[0m Loading corpus from source files\u001b[33m...\u001b[0m                                   \n"
     ]
    },
    {
     "name": "stdout",
     "output_type": "stream",
     "text": [
      "\u001b[2K\u001b[35m   0%\u001b[0m \u001b[90m━━━━━━━━━━━━━━━━━━━━━━━━━━━━━━━━━━━━\u001b[0m \u001b[32m0/100 \u001b[0m [ \u001b[33m0:00:00\u001b[0m < \u001b[36m-:--:--\u001b[0m , \u001b[31m? it/s\u001b[0m ]"
     ]
    },
    {
     "name": "stderr",
     "output_type": "stream",
     "text": [
      "\u001b[2;36m \u001b[0m\u001b[36mDEBUG   \u001b[0m Processing queue: \u001b[1;36m0.10017157100000418\u001b[0m                                 \n",
      "\u001b[2;36m \u001b[0m\u001b[36mDEBUG   \u001b[0m Parsed corpus directory with \u001b[1;36m1\u001b[0m jobs in \u001b[1;36m0.13687058000000007\u001b[0m seconds    \n",
      "\u001b[2;36m \u001b[0m\u001b[32mINFO    \u001b[0m Found \u001b[1;36m1\u001b[0m speaker across \u001b[1;36m1\u001b[0m file, average number of utterances per       \n",
      "\u001b[2;36m \u001b[0m         speaker: \u001b[1;36m1.0\u001b[0m                                                          \n",
      "\u001b[2;36m \u001b[0m\u001b[36mDEBUG   \u001b[0m Loaded corpus in \u001b[1;36m1.288\u001b[0m seconds                                        \n",
      "\u001b[2;36m \u001b[0m\u001b[32mINFO    \u001b[0m Initializing multiprocessing jobs\u001b[33m...\u001b[0m                                  \n"
     ]
    },
    {
     "name": "stdout",
     "output_type": "stream",
     "text": [
      "\u001b[2K\u001b[35m   1%\u001b[0m \u001b[90m━━━━━━━━━━━━━━━━━━━━━━━━━━━━━━━━━━━━\u001b[0m \u001b[32m1/100 \u001b[0m [ \u001b[33m0:00:01\u001b[0m < \u001b[36m-:--:--\u001b[0m , \u001b[31m? it/s\u001b[0m ]\n",
      "\u001b[?25h"
     ]
    },
    {
     "name": "stderr",
     "output_type": "stream",
     "text": [
      "\u001b[2;36m \u001b[0m\u001b[36mDEBUG   \u001b[0m Initialized jobs in \u001b[1;36m0.156\u001b[0m seconds                                     \n",
      "\u001b[2;36m \u001b[0m\u001b[32mINFO    \u001b[0m Normalizing text\u001b[33m...\u001b[0m                                                   \n"
     ]
    },
    {
     "name": "stdout",
     "output_type": "stream",
     "text": [
      "\u001b[2K\u001b[35m 100%\u001b[0m \u001b[90m━━━━━━━━━━━━━━━━━━━━━━━━━━━━━━━━━━━━━━\u001b[0m \u001b[32m1/1 \u001b[0m [ \u001b[33m0:00:01\u001b[0m < \u001b[36m0:00:00\u001b[0m , \u001b[31m? it/s\u001b[0m ]\n",
      "\u001b[?25h"
     ]
    },
    {
     "name": "stderr",
     "output_type": "stream",
     "text": [
      "\u001b[2;36m \u001b[0m\u001b[36mDEBUG   \u001b[0m Wrote lexicon information in \u001b[1;36m0.263\u001b[0m seconds                            \n",
      "\u001b[2;36m \u001b[0m\u001b[32mINFO    \u001b[0m Creating corpus split for feature generation\u001b[33m...\u001b[0m                       \n"
     ]
    },
    {
     "name": "stdout",
     "output_type": "stream",
     "text": [
      "\u001b[2K\u001b[35m 100%\u001b[0m \u001b[90m━━━━━━━━━━━━━━━━━━━━━━━━━━━━━━━━━━━━━━\u001b[0m \u001b[32m2/2 \u001b[0m [ \u001b[33m0:00:01\u001b[0m < \u001b[36m0:00:00\u001b[0m , \u001b[31m? it/s\u001b[0m ]\n",
      "\u001b[2K\u001b[35m   0%\u001b[0m \u001b[90m━━━━━━━━━━━━━━━━━━━━━━━━━━━━━━━━━━━━━━\u001b[0m \u001b[32m0/1 \u001b[0m [ \u001b[33m0:00:00\u001b[0m < \u001b[36m-:--:--\u001b[0m , \u001b[31m? it/s\u001b[0m ]"
     ]
    },
    {
     "name": "stderr",
     "output_type": "stream",
     "text": [
      "\u001b[2;36m \u001b[0m\u001b[36mDEBUG   \u001b[0m Created corpus split directory in \u001b[1;36m1.082\u001b[0m seconds                       \n",
      "\u001b[2;36m \u001b[0m\u001b[32mINFO    \u001b[0m Generating MFCCs\u001b[33m...\u001b[0m                                                   \n"
     ]
    },
    {
     "name": "stdout",
     "output_type": "stream",
     "text": [
      "\u001b[2K\u001b[35m 100%\u001b[0m \u001b[90m━━━━━━━━━━━━━━━━━━━━━━━━━━━━━━━━━━━━━━\u001b[0m \u001b[32m1/1 \u001b[0m [ \u001b[33m0:00:01\u001b[0m < \u001b[36m0:00:00\u001b[0m , \u001b[31m? it/s\u001b[0m ]\n",
      "\u001b[?25h"
     ]
    },
    {
     "name": "stderr",
     "output_type": "stream",
     "text": [
      "\u001b[2;36m \u001b[0m\u001b[36mDEBUG   \u001b[0m Generating MFCCs took \u001b[1;36m2.166\u001b[0m seconds                                   \n",
      "\u001b[2;36m \u001b[0m\u001b[32mINFO    \u001b[0m Calculating CMVN\u001b[33m...\u001b[0m                                                   \n",
      "\u001b[2;36m \u001b[0m\u001b[32mINFO    \u001b[0m Generating final features\u001b[33m...\u001b[0m                                          \n"
     ]
    },
    {
     "name": "stdout",
     "output_type": "stream",
     "text": [
      "\u001b[2K\u001b[35m 100%\u001b[0m \u001b[90m━━━━━━━━━━━━━━━━━━━━━━━━━━━━━━━━━━━━━━\u001b[0m \u001b[32m1/1 \u001b[0m [ \u001b[33m0:00:00\u001b[0m < \u001b[36m0:00:00\u001b[0m , \u001b[31m? it/s\u001b[0m ]\n",
      "\u001b[?25h"
     ]
    },
    {
     "name": "stderr",
     "output_type": "stream",
     "text": [
      "\u001b[2;36m \u001b[0m\u001b[36mDEBUG   \u001b[0m Generating final features took \u001b[1;36m1.273\u001b[0m seconds                          \n",
      "\u001b[2;36m \u001b[0m\u001b[32mINFO    \u001b[0m Creating corpus split with features\u001b[33m...\u001b[0m                                \n"
     ]
    },
    {
     "name": "stdout",
     "output_type": "stream",
     "text": [
      "\u001b[2K\u001b[35m 100%\u001b[0m \u001b[90m━━━━━━━━━━━━━━━━━━━━━━━━━━━━━━━━━━━━━━\u001b[0m \u001b[32m1/1 \u001b[0m [ \u001b[33m0:00:00\u001b[0m < \u001b[36m0:00:00\u001b[0m , \u001b[31m? it/s\u001b[0m ]\n",
      "\u001b[?25h"
     ]
    },
    {
     "name": "stderr",
     "output_type": "stream",
     "text": [
      "\u001b[2;36m \u001b[0m\u001b[36mDEBUG   \u001b[0m Generated features in \u001b[1;36m4.846\u001b[0m seconds                                   \n",
      "\u001b[2;36m \u001b[0m\u001b[36mDEBUG   \u001b[0m Setting up corpus took \u001b[1;36m38.204\u001b[0m seconds                                 \n",
      "\u001b[2;36m \u001b[0m\u001b[36mDEBUG   \u001b[0m                                                                       \n",
      "\u001b[2;36m \u001b[0m\u001b[36mDEBUG   \u001b[0m ====ACOUSTIC MODEL \u001b[33mINFO\u001b[0m====                                           \n",
      "\u001b[2;36m \u001b[0m\u001b[36mDEBUG   \u001b[0m Acoustic model root directory:                                        \n",
      "\u001b[2;36m \u001b[0m         \u001b[35m/mnt/home/20200884/Documents/MFA/extracted_models/\u001b[0m\u001b[95macoustic\u001b[0m            \n",
      "\u001b[2;36m \u001b[0m\u001b[36mDEBUG   \u001b[0m Acoustic model dirname:                                               \n",
      "\u001b[2;36m \u001b[0m         \u001b[35m/mnt/home/20200884/Documents/MFA/extracted_models/acoustic/\u001b[0m\u001b[95menglish_us_\u001b[0m\n",
      "\u001b[2;36m \u001b[0m         \u001b[95marpa_acoustic\u001b[0m                                                         \n",
      "\u001b[2;36m \u001b[0m\u001b[36mDEBUG   \u001b[0m Acoustic model meta path:                                             \n",
      "\u001b[2;36m \u001b[0m         \u001b[35m/mnt/home/20200884/Documents/MFA/extracted_models/acoustic/english_us_\u001b[0m\n",
      "\u001b[2;36m \u001b[0m         \u001b[35marpa_acoustic/\u001b[0m\u001b[95mmeta.json\u001b[0m                                               \n",
      "\u001b[2;36m \u001b[0m\u001b[36mDEBUG   \u001b[0m Acoustic model meta information:                                      \n",
      "\u001b[2;36m \u001b[0m\u001b[36mDEBUG   \u001b[0m architecture: gmm-hmm                                                 \n",
      "\u001b[2;36m \u001b[0m         dictionaries:                                                         \n",
      "\u001b[2;36m \u001b[0m           bracketed_word: \u001b[32m'\u001b[0m\u001b[32m[\u001b[0m\u001b[32mbracketed\u001b[0m\u001b[32m]\u001b[0m\u001b[32m'\u001b[0m                                       \n",
      "\u001b[2;36m \u001b[0m           clitic_marker: \u001b[32m''\u001b[0m\u001b[32m''\u001b[0m                                                 \n",
      "\u001b[2;36m \u001b[0m           default: english_us_arpa                                            \n",
      "\u001b[2;36m \u001b[0m           laughter_word: \u001b[32m'\u001b[0m\u001b[32m[\u001b[0m\u001b[32mlaughter\u001b[0m\u001b[32m]\u001b[0m\u001b[32m'\u001b[0m                                         \n",
      "\u001b[2;36m \u001b[0m           names:                                                              \n",
      "\u001b[2;36m \u001b[0m           - english_us_arpa                                                   \n",
      "\u001b[2;36m \u001b[0m           oov_word: \u001b[1m<\u001b[0m\u001b[1;95munk\u001b[0m\u001b[39m>\u001b[0m                                                     \n",
      "\u001b[2;36m \u001b[0m         \u001b[39m  position_dependent_phones: false\u001b[0m                                    \n",
      "\u001b[2;36m \u001b[0m         \u001b[39m  silence_word: <eps>\u001b[0m                                                 \n",
      "\u001b[2;36m \u001b[0m         \u001b[39m  use_g2p: false\u001b[0m                                                      \n",
      "\u001b[2;36m \u001b[0m         \u001b[39mfeatures:\u001b[0m                                                             \n",
      "\u001b[2;36m \u001b[0m         \u001b[39m  cepstral_lifter: \u001b[0m\u001b[1;36m22\u001b[0m                                                 \n",
      "\u001b[2;36m \u001b[0m         \u001b[39m  delta_pitch: \u001b[0m\u001b[1;36m0.005\u001b[0m                                                  \n",
      "\u001b[2;36m \u001b[0m         \u001b[39m  dither: \u001b[0m\u001b[1;36m1\u001b[0m                                                           \n",
      "\u001b[2;36m \u001b[0m         \u001b[39m  energy_floor: \u001b[0m\u001b[1;36m0\u001b[0m                                                     \n",
      "\u001b[2;36m \u001b[0m         \u001b[39m  feature_type: mfcc\u001b[0m                                                  \n",
      "\u001b[2;36m \u001b[0m         \u001b[39m  frame_length: \u001b[0m\u001b[1;36m25\u001b[0m                                                    \n",
      "\u001b[2;36m \u001b[0m         \u001b[39m  frame_shift: \u001b[0m\u001b[1;36m10\u001b[0m                                                     \n",
      "\u001b[2;36m \u001b[0m         \u001b[39m  high_frequency: \u001b[0m\u001b[1;36m7800\u001b[0m                                                \n",
      "\u001b[2;36m \u001b[0m         \u001b[39m  low_frequency: \u001b[0m\u001b[1;36m20\u001b[0m                                                   \n",
      "\u001b[2;36m \u001b[0m         \u001b[39m  max_f0: \u001b[0m\u001b[1;36m800\u001b[0m                                                         \n",
      "\u001b[2;36m \u001b[0m         \u001b[39m  min_f0: \u001b[0m\u001b[1;36m50\u001b[0m                                                          \n",
      "\u001b[2;36m \u001b[0m         \u001b[39m  num_coefficients: \u001b[0m\u001b[1;36m13\u001b[0m                                                \n",
      "\u001b[2;36m \u001b[0m         \u001b[39m  num_mel_bins: \u001b[0m\u001b[1;36m23\u001b[0m                                                    \n",
      "\u001b[2;36m \u001b[0m         \u001b[39m  penalty_factor: \u001b[0m\u001b[1;36m0.1\u001b[0m                                                 \n",
      "\u001b[2;36m \u001b[0m         \u001b[39m  preemphasis_coefficient: \u001b[0m\u001b[1;36m0.97\u001b[0m                                       \n",
      "\u001b[2;36m \u001b[0m         \u001b[39m  sample_frequency: \u001b[0m\u001b[1;36m16000\u001b[0m                                             \n",
      "\u001b[2;36m \u001b[0m         \u001b[39m  silence_weight: \u001b[0m\u001b[1;36m0.0\u001b[0m                                                 \n",
      "\u001b[2;36m \u001b[0m         \u001b[39m  snip_edges: false\u001b[0m                                                   \n",
      "\u001b[2;36m \u001b[0m         \u001b[39m  splice_left_context: \u001b[0m\u001b[1;36m3\u001b[0m                                              \n",
      "\u001b[2;36m \u001b[0m         \u001b[39m  splice_right_context: \u001b[0m\u001b[1;36m3\u001b[0m                                             \n",
      "\u001b[2;36m \u001b[0m         \u001b[39m  use_energy: false\u001b[0m                                                   \n",
      "\u001b[2;36m \u001b[0m         \u001b[39m  use_pitch: false\u001b[0m                                                    \n",
      "\u001b[2;36m \u001b[0m         \u001b[39m  use_voicing: false\u001b[0m                                                  \n",
      "\u001b[2;36m \u001b[0m         \u001b[39m  uses_cmvn: true\u001b[0m                                                     \n",
      "\u001b[2;36m \u001b[0m         \u001b[39m  uses_deltas: false\u001b[0m                                                  \n",
      "\u001b[2;36m \u001b[0m         \u001b[39m  uses_speaker_adaptation: true\u001b[0m                                       \n",
      "\u001b[2;36m \u001b[0m         \u001b[39m  uses_splices: true\u001b[0m                                                  \n",
      "\u001b[2;36m \u001b[0m         \u001b[39m  uses_voiced: false\u001b[0m                                                  \n",
      "\u001b[2;36m \u001b[0m         \u001b[39mfinal_non_silence_correction: \u001b[0m\u001b[1;36m0.01\u001b[0m                                    \n",
      "\u001b[2;36m \u001b[0m         \u001b[39mfinal_silence_correction: \u001b[0m\u001b[1;36m0.99\u001b[0m                                        \n",
      "\u001b[2;36m \u001b[0m         \u001b[39minitial_silence_probability: \u001b[0m\u001b[1;36m0.18\u001b[0m                                     \n",
      "\u001b[2;36m \u001b[0m         \u001b[39mlanguage: unknown\u001b[0m                                                     \n",
      "\u001b[2;36m \u001b[0m         \u001b[39moov_phone: spn\u001b[0m                                                        \n",
      "\u001b[2;36m \u001b[0m         \u001b[39moptional_silence_phone: sil\u001b[0m                                           \n",
      "\u001b[2;36m \u001b[0m         \u001b[39mphone_groups:\u001b[0m                                                         \n",
      "\u001b[2;36m \u001b[0m         \u001b[39m  AA0:\u001b[0m                                                                \n",
      "\u001b[2;36m \u001b[0m         \u001b[39m  - AA0\u001b[0m                                                               \n",
      "\u001b[2;36m \u001b[0m         \u001b[39m  AA1:\u001b[0m                                                                \n",
      "\u001b[2;36m \u001b[0m         \u001b[39m  - AA1\u001b[0m                                                               \n",
      "\u001b[2;36m \u001b[0m         \u001b[39m  AA2:\u001b[0m                                                                \n",
      "\u001b[2;36m \u001b[0m         \u001b[39m  - AA2\u001b[0m                                                               \n",
      "\u001b[2;36m \u001b[0m         \u001b[39m  AE0:\u001b[0m                                                                \n",
      "\u001b[2;36m \u001b[0m         \u001b[39m  - AE0\u001b[0m                                                               \n",
      "\u001b[2;36m \u001b[0m         \u001b[39m  AE1:\u001b[0m                                                                \n",
      "\u001b[2;36m \u001b[0m         \u001b[39m  - AE1\u001b[0m                                                               \n",
      "\u001b[2;36m \u001b[0m         \u001b[39m  AE2:\u001b[0m                                                                \n",
      "\u001b[2;36m \u001b[0m         \u001b[39m  - AE2\u001b[0m                                                               \n",
      "\u001b[2;36m \u001b[0m         \u001b[39m  AH0:\u001b[0m                                                                \n",
      "\u001b[2;36m \u001b[0m         \u001b[39m  - AH0\u001b[0m                                                               \n",
      "\u001b[2;36m \u001b[0m         \u001b[39m  AH1:\u001b[0m                                                                \n",
      "\u001b[2;36m \u001b[0m         \u001b[39m  - AH1\u001b[0m                                                               \n",
      "\u001b[2;36m \u001b[0m         \u001b[39m  AH2:\u001b[0m                                                                \n",
      "\u001b[2;36m \u001b[0m         \u001b[39m  - AH2\u001b[0m                                                               \n",
      "\u001b[2;36m \u001b[0m         \u001b[39m  AO0:\u001b[0m                                                                \n",
      "\u001b[2;36m \u001b[0m         \u001b[39m  - AO0\u001b[0m                                                               \n",
      "\u001b[2;36m \u001b[0m         \u001b[39m  AO1:\u001b[0m                                                                \n",
      "\u001b[2;36m \u001b[0m         \u001b[39m  - AO1\u001b[0m                                                               \n",
      "\u001b[2;36m \u001b[0m         \u001b[39m  AO2:\u001b[0m                                                                \n",
      "\u001b[2;36m \u001b[0m         \u001b[39m  - AO2\u001b[0m                                                               \n",
      "\u001b[2;36m \u001b[0m         \u001b[39m  AW0:\u001b[0m                                                                \n",
      "\u001b[2;36m \u001b[0m         \u001b[39m  - AW0\u001b[0m                                                               \n",
      "\u001b[2;36m \u001b[0m         \u001b[39m  AW1:\u001b[0m                                                                \n",
      "\u001b[2;36m \u001b[0m         \u001b[39m  - AW1\u001b[0m                                                               \n",
      "\u001b[2;36m \u001b[0m         \u001b[39m  AW2:\u001b[0m                                                                \n",
      "\u001b[2;36m \u001b[0m         \u001b[39m  - AW2\u001b[0m                                                               \n",
      "\u001b[2;36m \u001b[0m         \u001b[39m  AY0:\u001b[0m                                                                \n",
      "\u001b[2;36m \u001b[0m         \u001b[39m  - AY0\u001b[0m                                                               \n",
      "\u001b[2;36m \u001b[0m         \u001b[39m  AY1:\u001b[0m                                                                \n",
      "\u001b[2;36m \u001b[0m         \u001b[39m  - AY1\u001b[0m                                                               \n",
      "\u001b[2;36m \u001b[0m         \u001b[39m  AY2:\u001b[0m                                                                \n",
      "\u001b[2;36m \u001b[0m         \u001b[39m  - AY2\u001b[0m                                                               \n",
      "\u001b[2;36m \u001b[0m         \u001b[39m  B:\u001b[0m                                                                  \n",
      "\u001b[2;36m \u001b[0m         \u001b[39m  - B\u001b[0m                                                                 \n",
      "\u001b[2;36m \u001b[0m         \u001b[39m  CH:\u001b[0m                                                                 \n",
      "\u001b[2;36m \u001b[0m         \u001b[39m  - CH\u001b[0m                                                                \n",
      "\u001b[2;36m \u001b[0m         \u001b[39m  D:\u001b[0m                                                                  \n",
      "\u001b[2;36m \u001b[0m         \u001b[39m  - D\u001b[0m                                                                 \n",
      "\u001b[2;36m \u001b[0m         \u001b[39m  DH:\u001b[0m                                                                 \n",
      "\u001b[2;36m \u001b[0m         \u001b[39m  - DH\u001b[0m                                                                \n",
      "\u001b[2;36m \u001b[0m         \u001b[39m  EH0:\u001b[0m                                                                \n",
      "\u001b[2;36m \u001b[0m         \u001b[39m  - EH0\u001b[0m                                                               \n",
      "\u001b[2;36m \u001b[0m         \u001b[39m  EH1:\u001b[0m                                                                \n",
      "\u001b[2;36m \u001b[0m         \u001b[39m  - EH1\u001b[0m                                                               \n",
      "\u001b[2;36m \u001b[0m         \u001b[39m  EH2:\u001b[0m                                                                \n",
      "\u001b[2;36m \u001b[0m         \u001b[39m  - EH2\u001b[0m                                                               \n",
      "\u001b[2;36m \u001b[0m         \u001b[39m  ER0:\u001b[0m                                                                \n",
      "\u001b[2;36m \u001b[0m         \u001b[39m  - ER0\u001b[0m                                                               \n",
      "\u001b[2;36m \u001b[0m         \u001b[39m  ER1:\u001b[0m                                                                \n",
      "\u001b[2;36m \u001b[0m         \u001b[39m  - ER1\u001b[0m                                                               \n",
      "\u001b[2;36m \u001b[0m         \u001b[39m  ER2:\u001b[0m                                                                \n",
      "\u001b[2;36m \u001b[0m         \u001b[39m  - ER2\u001b[0m                                                               \n",
      "\u001b[2;36m \u001b[0m         \u001b[39m  EY0:\u001b[0m                                                                \n",
      "\u001b[2;36m \u001b[0m         \u001b[39m  - EY0\u001b[0m                                                               \n",
      "\u001b[2;36m \u001b[0m         \u001b[39m  EY1:\u001b[0m                                                                \n",
      "\u001b[2;36m \u001b[0m         \u001b[39m  - EY1\u001b[0m                                                               \n",
      "\u001b[2;36m \u001b[0m         \u001b[39m  EY2:\u001b[0m                                                                \n",
      "\u001b[2;36m \u001b[0m         \u001b[39m  - EY2\u001b[0m                                                               \n",
      "\u001b[2;36m \u001b[0m         \u001b[39m  F:\u001b[0m                                                                  \n",
      "\u001b[2;36m \u001b[0m         \u001b[39m  - F\u001b[0m                                                                 \n",
      "\u001b[2;36m \u001b[0m         \u001b[39m  G:\u001b[0m                                                                  \n",
      "\u001b[2;36m \u001b[0m         \u001b[39m  - G\u001b[0m                                                                 \n",
      "\u001b[2;36m \u001b[0m         \u001b[39m  HH:\u001b[0m                                                                 \n",
      "\u001b[2;36m \u001b[0m         \u001b[39m  - HH\u001b[0m                                                                \n",
      "\u001b[2;36m \u001b[0m         \u001b[39m  IH0:\u001b[0m                                                                \n",
      "\u001b[2;36m \u001b[0m         \u001b[39m  - IH0\u001b[0m                                                               \n",
      "\u001b[2;36m \u001b[0m         \u001b[39m  IH1:\u001b[0m                                                                \n",
      "\u001b[2;36m \u001b[0m         \u001b[39m  - IH1\u001b[0m                                                               \n",
      "\u001b[2;36m \u001b[0m         \u001b[39m  IH2:\u001b[0m                                                                \n",
      "\u001b[2;36m \u001b[0m         \u001b[39m  - IH2\u001b[0m                                                               \n",
      "\u001b[2;36m \u001b[0m         \u001b[39m  IY0:\u001b[0m                                                                \n",
      "\u001b[2;36m \u001b[0m         \u001b[39m  - IY0\u001b[0m                                                               \n",
      "\u001b[2;36m \u001b[0m         \u001b[39m  IY1:\u001b[0m                                                                \n",
      "\u001b[2;36m \u001b[0m         \u001b[39m  - IY1\u001b[0m                                                               \n",
      "\u001b[2;36m \u001b[0m         \u001b[39m  IY2:\u001b[0m                                                                \n",
      "\u001b[2;36m \u001b[0m         \u001b[39m  - IY2\u001b[0m                                                               \n",
      "\u001b[2;36m \u001b[0m         \u001b[39m  JH:\u001b[0m                                                                 \n",
      "\u001b[2;36m \u001b[0m         \u001b[39m  - JH\u001b[0m                                                                \n",
      "\u001b[2;36m \u001b[0m         \u001b[39m  K:\u001b[0m                                                                  \n",
      "\u001b[2;36m \u001b[0m         \u001b[39m  - K\u001b[0m                                                                 \n",
      "\u001b[2;36m \u001b[0m         \u001b[39m  L:\u001b[0m                                                                  \n",
      "\u001b[2;36m \u001b[0m         \u001b[39m  - L\u001b[0m                                                                 \n",
      "\u001b[2;36m \u001b[0m         \u001b[39m  M:\u001b[0m                                                                  \n",
      "\u001b[2;36m \u001b[0m         \u001b[39m  - M\u001b[0m                                                                 \n",
      "\u001b[2;36m \u001b[0m         \u001b[39m  N:\u001b[0m                                                                  \n",
      "\u001b[2;36m \u001b[0m         \u001b[39m  - N\u001b[0m                                                                 \n",
      "\u001b[2;36m \u001b[0m         \u001b[39m  NG:\u001b[0m                                                                 \n",
      "\u001b[2;36m \u001b[0m         \u001b[39m  - NG\u001b[0m                                                                \n",
      "\u001b[2;36m \u001b[0m         \u001b[39m  OW0:\u001b[0m                                                                \n",
      "\u001b[2;36m \u001b[0m         \u001b[39m  - OW0\u001b[0m                                                               \n",
      "\u001b[2;36m \u001b[0m         \u001b[39m  OW1:\u001b[0m                                                                \n",
      "\u001b[2;36m \u001b[0m         \u001b[39m  - OW1\u001b[0m                                                               \n",
      "\u001b[2;36m \u001b[0m         \u001b[39m  OW2:\u001b[0m                                                                \n",
      "\u001b[2;36m \u001b[0m         \u001b[39m  - OW2\u001b[0m                                                               \n",
      "\u001b[2;36m \u001b[0m         \u001b[39m  OY0:\u001b[0m                                                                \n",
      "\u001b[2;36m \u001b[0m         \u001b[39m  - OY0\u001b[0m                                                               \n",
      "\u001b[2;36m \u001b[0m         \u001b[39m  OY1:\u001b[0m                                                                \n",
      "\u001b[2;36m \u001b[0m         \u001b[39m  - OY1\u001b[0m                                                               \n",
      "\u001b[2;36m \u001b[0m         \u001b[39m  OY2:\u001b[0m                                                                \n",
      "\u001b[2;36m \u001b[0m         \u001b[39m  - OY2\u001b[0m                                                               \n",
      "\u001b[2;36m \u001b[0m         \u001b[39m  P:\u001b[0m                                                                  \n",
      "\u001b[2;36m \u001b[0m         \u001b[39m  - P\u001b[0m                                                                 \n",
      "\u001b[2;36m \u001b[0m         \u001b[39m  R:\u001b[0m                                                                  \n",
      "\u001b[2;36m \u001b[0m         \u001b[39m  - R\u001b[0m                                                                 \n",
      "\u001b[2;36m \u001b[0m         \u001b[39m  S:\u001b[0m                                                                  \n",
      "\u001b[2;36m \u001b[0m         \u001b[39m  - S\u001b[0m                                                                 \n",
      "\u001b[2;36m \u001b[0m         \u001b[39m  SH:\u001b[0m                                                                 \n",
      "\u001b[2;36m \u001b[0m         \u001b[39m  - SH\u001b[0m                                                                \n",
      "\u001b[2;36m \u001b[0m         \u001b[39m  T:\u001b[0m                                                                  \n",
      "\u001b[2;36m \u001b[0m         \u001b[39m  - T\u001b[0m                                                                 \n",
      "\u001b[2;36m \u001b[0m         \u001b[39m  TH:\u001b[0m                                                                 \n",
      "\u001b[2;36m \u001b[0m         \u001b[39m  - TH\u001b[0m                                                                \n",
      "\u001b[2;36m \u001b[0m         \u001b[39m  UH0:\u001b[0m                                                                \n",
      "\u001b[2;36m \u001b[0m         \u001b[39m  - UH0\u001b[0m                                                               \n",
      "\u001b[2;36m \u001b[0m         \u001b[39m  UH1:\u001b[0m                                                                \n",
      "\u001b[2;36m \u001b[0m         \u001b[39m  - UH1\u001b[0m                                                               \n",
      "\u001b[2;36m \u001b[0m         \u001b[39m  UH2:\u001b[0m                                                                \n",
      "\u001b[2;36m \u001b[0m         \u001b[39m  - UH2\u001b[0m                                                               \n",
      "\u001b[2;36m \u001b[0m         \u001b[39m  UW0:\u001b[0m                                                                \n",
      "\u001b[2;36m \u001b[0m         \u001b[39m  - UW0\u001b[0m                                                               \n",
      "\u001b[2;36m \u001b[0m         \u001b[39m  UW1:\u001b[0m                                                                \n",
      "\u001b[2;36m \u001b[0m         \u001b[39m  - UW1\u001b[0m                                                               \n",
      "\u001b[2;36m \u001b[0m         \u001b[39m  UW2:\u001b[0m                                                                \n",
      "\u001b[2;36m \u001b[0m         \u001b[39m  - UW2\u001b[0m                                                               \n",
      "\u001b[2;36m \u001b[0m         \u001b[39m  V:\u001b[0m                                                                  \n",
      "\u001b[2;36m \u001b[0m         \u001b[39m  - V\u001b[0m                                                                 \n",
      "\u001b[2;36m \u001b[0m         \u001b[39m  W:\u001b[0m                                                                  \n",
      "\u001b[2;36m \u001b[0m         \u001b[39m  - W\u001b[0m                                                                 \n",
      "\u001b[2;36m \u001b[0m         \u001b[39m  Y:\u001b[0m                                                                  \n",
      "\u001b[2;36m \u001b[0m         \u001b[39m  - Y\u001b[0m                                                                 \n",
      "\u001b[2;36m \u001b[0m         \u001b[39m  Z:\u001b[0m                                                                  \n",
      "\u001b[2;36m \u001b[0m         \u001b[39m  - Z\u001b[0m                                                                 \n",
      "\u001b[2;36m \u001b[0m         \u001b[39m  ZH:\u001b[0m                                                                 \n",
      "\u001b[2;36m \u001b[0m         \u001b[39m  - ZH\u001b[0m                                                                \n",
      "\u001b[2;36m \u001b[0m         \u001b[39mphone_mapping:\u001b[0m                                                        \n",
      "\u001b[2;36m \u001b[0m         \u001b[39m  <eps\u001b[0m\u001b[1m>\u001b[0m: \u001b[1;36m0\u001b[0m                                                            \n",
      "\u001b[2;36m \u001b[0m           AA0: \u001b[1;36m3\u001b[0m                                                              \n",
      "\u001b[2;36m \u001b[0m           AA1: \u001b[1;36m4\u001b[0m                                                              \n",
      "\u001b[2;36m \u001b[0m           AA2: \u001b[1;36m5\u001b[0m                                                              \n",
      "\u001b[2;36m \u001b[0m           AE0: \u001b[1;36m6\u001b[0m                                                              \n",
      "\u001b[2;36m \u001b[0m           AE1: \u001b[1;36m7\u001b[0m                                                              \n",
      "\u001b[2;36m \u001b[0m           AE2: \u001b[1;36m8\u001b[0m                                                              \n",
      "\u001b[2;36m \u001b[0m           AH0: \u001b[1;36m9\u001b[0m                                                              \n",
      "\u001b[2;36m \u001b[0m           AH1: \u001b[1;36m10\u001b[0m                                                             \n",
      "\u001b[2;36m \u001b[0m           AH2: \u001b[1;36m11\u001b[0m                                                             \n",
      "\u001b[2;36m \u001b[0m           AO0: \u001b[1;36m12\u001b[0m                                                             \n",
      "\u001b[2;36m \u001b[0m           AO1: \u001b[1;36m13\u001b[0m                                                             \n",
      "\u001b[2;36m \u001b[0m           AO2: \u001b[1;36m14\u001b[0m                                                             \n",
      "\u001b[2;36m \u001b[0m           AW0: \u001b[1;36m15\u001b[0m                                                             \n",
      "\u001b[2;36m \u001b[0m           AW1: \u001b[1;36m16\u001b[0m                                                             \n",
      "\u001b[2;36m \u001b[0m           AW2: \u001b[1;36m17\u001b[0m                                                             \n",
      "\u001b[2;36m \u001b[0m           AY0: \u001b[1;36m18\u001b[0m                                                             \n",
      "\u001b[2;36m \u001b[0m           AY1: \u001b[1;36m19\u001b[0m                                                             \n",
      "\u001b[2;36m \u001b[0m           AY2: \u001b[1;36m20\u001b[0m                                                             \n",
      "\u001b[2;36m \u001b[0m           B: \u001b[1;36m21\u001b[0m                                                               \n",
      "\u001b[2;36m \u001b[0m           CH: \u001b[1;36m22\u001b[0m                                                              \n",
      "\u001b[2;36m \u001b[0m           D: \u001b[1;36m23\u001b[0m                                                               \n",
      "\u001b[2;36m \u001b[0m           DH: \u001b[1;36m24\u001b[0m                                                              \n",
      "\u001b[2;36m \u001b[0m           EH0: \u001b[1;36m25\u001b[0m                                                             \n",
      "\u001b[2;36m \u001b[0m           EH1: \u001b[1;36m26\u001b[0m                                                             \n",
      "\u001b[2;36m \u001b[0m           EH2: \u001b[1;36m27\u001b[0m                                                             \n",
      "\u001b[2;36m \u001b[0m           ER0: \u001b[1;36m28\u001b[0m                                                             \n",
      "\u001b[2;36m \u001b[0m           ER1: \u001b[1;36m29\u001b[0m                                                             \n",
      "\u001b[2;36m \u001b[0m           ER2: \u001b[1;36m30\u001b[0m                                                             \n",
      "\u001b[2;36m \u001b[0m           EY0: \u001b[1;36m31\u001b[0m                                                             \n",
      "\u001b[2;36m \u001b[0m           EY1: \u001b[1;36m32\u001b[0m                                                             \n",
      "\u001b[2;36m \u001b[0m           EY2: \u001b[1;36m33\u001b[0m                                                             \n",
      "\u001b[2;36m \u001b[0m           F: \u001b[1;36m34\u001b[0m                                                               \n",
      "\u001b[2;36m \u001b[0m           G: \u001b[1;36m35\u001b[0m                                                               \n",
      "\u001b[2;36m \u001b[0m           HH: \u001b[1;36m36\u001b[0m                                                              \n",
      "\u001b[2;36m \u001b[0m           IH0: \u001b[1;36m37\u001b[0m                                                             \n",
      "\u001b[2;36m \u001b[0m           IH1: \u001b[1;36m38\u001b[0m                                                             \n",
      "\u001b[2;36m \u001b[0m           IH2: \u001b[1;36m39\u001b[0m                                                             \n",
      "\u001b[2;36m \u001b[0m           IY0: \u001b[1;36m40\u001b[0m                                                             \n",
      "\u001b[2;36m \u001b[0m           IY1: \u001b[1;36m41\u001b[0m                                                             \n",
      "\u001b[2;36m \u001b[0m           IY2: \u001b[1;36m42\u001b[0m                                                             \n",
      "\u001b[2;36m \u001b[0m           JH: \u001b[1;36m43\u001b[0m                                                              \n",
      "\u001b[2;36m \u001b[0m           K: \u001b[1;36m44\u001b[0m                                                               \n",
      "\u001b[2;36m \u001b[0m           L: \u001b[1;36m45\u001b[0m                                                               \n",
      "\u001b[2;36m \u001b[0m           M: \u001b[1;36m46\u001b[0m                                                               \n",
      "\u001b[2;36m \u001b[0m           N: \u001b[1;36m47\u001b[0m                                                               \n",
      "\u001b[2;36m \u001b[0m           NG: \u001b[1;36m48\u001b[0m                                                              \n",
      "\u001b[2;36m \u001b[0m           OW0: \u001b[1;36m49\u001b[0m                                                             \n",
      "\u001b[2;36m \u001b[0m           OW1: \u001b[1;36m50\u001b[0m                                                             \n",
      "\u001b[2;36m \u001b[0m           OW2: \u001b[1;36m51\u001b[0m                                                             \n",
      "\u001b[2;36m \u001b[0m           OY0: \u001b[1;36m52\u001b[0m                                                             \n",
      "\u001b[2;36m \u001b[0m           OY1: \u001b[1;36m53\u001b[0m                                                             \n",
      "\u001b[2;36m \u001b[0m           OY2: \u001b[1;36m54\u001b[0m                                                             \n",
      "\u001b[2;36m \u001b[0m           P: \u001b[1;36m55\u001b[0m                                                               \n",
      "\u001b[2;36m \u001b[0m           R: \u001b[1;36m56\u001b[0m                                                               \n",
      "\u001b[2;36m \u001b[0m           S: \u001b[1;36m57\u001b[0m                                                               \n",
      "\u001b[2;36m \u001b[0m           SH: \u001b[1;36m58\u001b[0m                                                              \n",
      "\u001b[2;36m \u001b[0m           T: \u001b[1;36m59\u001b[0m                                                               \n",
      "\u001b[2;36m \u001b[0m           TH: \u001b[1;36m60\u001b[0m                                                              \n",
      "\u001b[2;36m \u001b[0m           UH0: \u001b[1;36m61\u001b[0m                                                             \n",
      "\u001b[2;36m \u001b[0m           UH1: \u001b[1;36m62\u001b[0m                                                             \n",
      "\u001b[2;36m \u001b[0m           UH2: \u001b[1;36m63\u001b[0m                                                             \n",
      "\u001b[2;36m \u001b[0m           UW0: \u001b[1;36m64\u001b[0m                                                             \n",
      "\u001b[2;36m \u001b[0m           UW1: \u001b[1;36m65\u001b[0m                                                             \n",
      "\u001b[2;36m \u001b[0m           UW2: \u001b[1;36m66\u001b[0m                                                             \n",
      "\u001b[2;36m \u001b[0m           V: \u001b[1;36m67\u001b[0m                                                               \n",
      "\u001b[2;36m \u001b[0m           W: \u001b[1;36m68\u001b[0m                                                               \n",
      "\u001b[2;36m \u001b[0m           Y: \u001b[1;36m69\u001b[0m                                                               \n",
      "\u001b[2;36m \u001b[0m           Z: \u001b[1;36m70\u001b[0m                                                               \n",
      "\u001b[2;36m \u001b[0m           ZH: \u001b[1;36m71\u001b[0m                                                              \n",
      "\u001b[2;36m \u001b[0m           sil: \u001b[1;36m1\u001b[0m                                                              \n",
      "\u001b[2;36m \u001b[0m           spn: \u001b[1;36m2\u001b[0m                                                              \n",
      "\u001b[2;36m \u001b[0m         phone_set_type: UNKNOWN                                               \n",
      "\u001b[2;36m \u001b[0m         phone_type: triphone                                                  \n",
      "\u001b[2;36m \u001b[0m         phones: !!set                                                         \n",
      "\u001b[2;36m \u001b[0m           AA0: null                                                           \n",
      "\u001b[2;36m \u001b[0m           AA1: null                                                           \n",
      "\u001b[2;36m \u001b[0m           AA2: null                                                           \n",
      "\u001b[2;36m \u001b[0m           AE0: null                                                           \n",
      "\u001b[2;36m \u001b[0m           AE1: null                                                           \n",
      "\u001b[2;36m \u001b[0m           AE2: null                                                           \n",
      "\u001b[2;36m \u001b[0m           AH0: null                                                           \n",
      "\u001b[2;36m \u001b[0m           AH1: null                                                           \n",
      "\u001b[2;36m \u001b[0m           AH2: null                                                           \n",
      "\u001b[2;36m \u001b[0m           AO0: null                                                           \n",
      "\u001b[2;36m \u001b[0m           AO1: null                                                           \n",
      "\u001b[2;36m \u001b[0m           AO2: null                                                           \n",
      "\u001b[2;36m \u001b[0m           AW0: null                                                           \n",
      "\u001b[2;36m \u001b[0m           AW1: null                                                           \n",
      "\u001b[2;36m \u001b[0m           AW2: null                                                           \n",
      "\u001b[2;36m \u001b[0m           AY0: null                                                           \n",
      "\u001b[2;36m \u001b[0m           AY1: null                                                           \n",
      "\u001b[2;36m \u001b[0m           AY2: null                                                           \n",
      "\u001b[2;36m \u001b[0m           B: null                                                             \n",
      "\u001b[2;36m \u001b[0m           CH: null                                                            \n",
      "\u001b[2;36m \u001b[0m           D: null                                                             \n",
      "\u001b[2;36m \u001b[0m           DH: null                                                            \n",
      "\u001b[2;36m \u001b[0m           EH0: null                                                           \n",
      "\u001b[2;36m \u001b[0m           EH1: null                                                           \n",
      "\u001b[2;36m \u001b[0m           EH2: null                                                           \n",
      "\u001b[2;36m \u001b[0m           ER0: null                                                           \n",
      "\u001b[2;36m \u001b[0m           ER1: null                                                           \n",
      "\u001b[2;36m \u001b[0m           ER2: null                                                           \n",
      "\u001b[2;36m \u001b[0m           EY0: null                                                           \n",
      "\u001b[2;36m \u001b[0m           EY1: null                                                           \n",
      "\u001b[2;36m \u001b[0m           EY2: null                                                           \n",
      "\u001b[2;36m \u001b[0m           F: null                                                             \n",
      "\u001b[2;36m \u001b[0m           G: null                                                             \n",
      "\u001b[2;36m \u001b[0m           HH: null                                                            \n",
      "\u001b[2;36m \u001b[0m           IH0: null                                                           \n",
      "\u001b[2;36m \u001b[0m           IH1: null                                                           \n",
      "\u001b[2;36m \u001b[0m           IH2: null                                                           \n",
      "\u001b[2;36m \u001b[0m           IY0: null                                                           \n",
      "\u001b[2;36m \u001b[0m           IY1: null                                                           \n",
      "\u001b[2;36m \u001b[0m           IY2: null                                                           \n",
      "\u001b[2;36m \u001b[0m           JH: null                                                            \n",
      "\u001b[2;36m \u001b[0m           K: null                                                             \n",
      "\u001b[2;36m \u001b[0m           L: null                                                             \n",
      "\u001b[2;36m \u001b[0m           M: null                                                             \n",
      "\u001b[2;36m \u001b[0m           N: null                                                             \n",
      "\u001b[2;36m \u001b[0m           NG: null                                                            \n",
      "\u001b[2;36m \u001b[0m           OW0: null                                                           \n",
      "\u001b[2;36m \u001b[0m           OW1: null                                                           \n",
      "\u001b[2;36m \u001b[0m           OW2: null                                                           \n",
      "\u001b[2;36m \u001b[0m           OY0: null                                                           \n",
      "\u001b[2;36m \u001b[0m           OY1: null                                                           \n",
      "\u001b[2;36m \u001b[0m           OY2: null                                                           \n",
      "\u001b[2;36m \u001b[0m           P: null                                                             \n",
      "\u001b[2;36m \u001b[0m           R: null                                                             \n",
      "\u001b[2;36m \u001b[0m           S: null                                                             \n",
      "\u001b[2;36m \u001b[0m           SH: null                                                            \n",
      "\u001b[2;36m \u001b[0m           T: null                                                             \n",
      "\u001b[2;36m \u001b[0m           TH: null                                                            \n",
      "\u001b[2;36m \u001b[0m           UH0: null                                                           \n",
      "\u001b[2;36m \u001b[0m           UH1: null                                                           \n",
      "\u001b[2;36m \u001b[0m           UH2: null                                                           \n",
      "\u001b[2;36m \u001b[0m           UW0: null                                                           \n",
      "\u001b[2;36m \u001b[0m           UW1: null                                                           \n",
      "\u001b[2;36m \u001b[0m           UW2: null                                                           \n",
      "\u001b[2;36m \u001b[0m           V: null                                                             \n",
      "\u001b[2;36m \u001b[0m           W: null                                                             \n",
      "\u001b[2;36m \u001b[0m           Y: null                                                             \n",
      "\u001b[2;36m \u001b[0m           Z: null                                                             \n",
      "\u001b[2;36m \u001b[0m           ZH: null                                                            \n",
      "\u001b[2;36m \u001b[0m         silence_probability: \u001b[1;36m0.18\u001b[0m                                             \n",
      "\u001b[2;36m \u001b[0m         train_date: \u001b[32m'2024-02-10 15:17:19.181270'\u001b[0m                              \n",
      "\u001b[2;36m \u001b[0m         training:                                                             \n",
      "\u001b[2;36m \u001b[0m           audio_duration: \u001b[1;36m3536308.477162502\u001b[0m                                   \n",
      "\u001b[2;36m \u001b[0m           average_log_likelihood: \u001b[1;36m-0.050285424064008426\u001b[0m                       \n",
      "\u001b[2;36m \u001b[0m           num_oovs: \u001b[1;36m0\u001b[0m                                                         \n",
      "\u001b[2;36m \u001b[0m           num_speakers: \u001b[1;36m2485\u001b[0m                                                  \n",
      "\u001b[2;36m \u001b[0m           num_utterances: \u001b[1;36m292367\u001b[0m                                              \n",
      "\u001b[2;36m \u001b[0m         version: \u001b[1;36m3.0\u001b[0m.0a2.dev0+g940e907.d20230824                              \n",
      "\u001b[2;36m \u001b[0m                                                                               \n",
      "\u001b[2;36m \u001b[0m\u001b[36mDEBUG   \u001b[0m                                                                       \n",
      "\u001b[2;36m \u001b[0m\u001b[36mDEBUG   \u001b[0m Setup for alignment in \u001b[1;36m38.384\u001b[0m seconds                                 \n",
      "\u001b[2;36m \u001b[0m\u001b[32mINFO    \u001b[0m Compiling training graphs\u001b[33m...\u001b[0m                                          \n"
     ]
    },
    {
     "name": "stdout",
     "output_type": "stream",
     "text": [
      "\u001b[2K\u001b[35m 100%\u001b[0m \u001b[90m━━━━━━━━━━━━━━━━━━━━━━━━━━━━━━━━━━━━━━\u001b[0m \u001b[32m1/1 \u001b[0m [ \u001b[33m0:00:00\u001b[0m < \u001b[36m0:00:00\u001b[0m , \u001b[31m? it/s\u001b[0m ]\n",
      "\u001b[2K\u001b[35m   0%\u001b[0m \u001b[90m━━━━━━━━━━━━━━━━━━━━━━━━━━━━━━━━━━━━━━\u001b[0m \u001b[32m0/1 \u001b[0m [ \u001b[33m0:00:00\u001b[0m < \u001b[36m-:--:--\u001b[0m , \u001b[31m? it/s\u001b[0m ]"
     ]
    },
    {
     "name": "stderr",
     "output_type": "stream",
     "text": [
      "\u001b[2;36m \u001b[0m\u001b[36mDEBUG   \u001b[0m Compiling training graphs took \u001b[1;36m1.388\u001b[0m seconds                          \n",
      "\u001b[2;36m \u001b[0m\u001b[32mINFO    \u001b[0m Performing first-pass alignment\u001b[33m...\u001b[0m                                    \n",
      "\u001b[2;36m \u001b[0m\u001b[32mINFO    \u001b[0m Generating alignments\u001b[33m...\u001b[0m                                              \n"
     ]
    },
    {
     "name": "stdout",
     "output_type": "stream",
     "text": [
      "\u001b[2K\u001b[35m 100%\u001b[0m \u001b[90m━━━━━━━━━━━━━━━━━━━━━━━━━━━━━━━━━━━━━━\u001b[0m \u001b[32m1/1 \u001b[0m [ \u001b[33m0:00:00\u001b[0m < \u001b[36m0:00:00\u001b[0m , \u001b[31m? it/s\u001b[0m ]\n",
      "\u001b[?25h"
     ]
    },
    {
     "name": "stderr",
     "output_type": "stream",
     "text": [
      "\u001b[2;36m \u001b[0m\u001b[36mDEBUG   \u001b[0m Alignment round took \u001b[1;36m1.851\u001b[0m seconds                                    \n",
      "\u001b[2;36m \u001b[0m\u001b[32mINFO    \u001b[0m Calculating fMLLR for speaker adaptation\u001b[33m...\u001b[0m                           \n"
     ]
    },
    {
     "name": "stdout",
     "output_type": "stream",
     "text": [
      "\u001b[2K\u001b[35m 100%\u001b[0m \u001b[90m━━━━━━━━━━━━━━━━━━━━━━━━━━━━━━━━━━━━━━\u001b[0m \u001b[32m1/1 \u001b[0m [ \u001b[33m0:00:00\u001b[0m < \u001b[36m0:00:00\u001b[0m , \u001b[31m? it/s\u001b[0m ]\n",
      "\u001b[?25h"
     ]
    },
    {
     "name": "stderr",
     "output_type": "stream",
     "text": [
      "\u001b[2;36m \u001b[0m\u001b[36mDEBUG   \u001b[0m Fmllr calculation took \u001b[1;36m1.818\u001b[0m seconds                                  \n",
      "\u001b[2;36m \u001b[0m\u001b[32mINFO    \u001b[0m Performing second-pass alignment\u001b[33m...\u001b[0m                                   \n",
      "\u001b[2;36m \u001b[0m\u001b[32mINFO    \u001b[0m Generating alignments\u001b[33m...\u001b[0m                                              \n"
     ]
    },
    {
     "name": "stdout",
     "output_type": "stream",
     "text": [
      "\u001b[2K\u001b[35m 100%\u001b[0m \u001b[90m━━━━━━━━━━━━━━━━━━━━━━━━━━━━━━━━━━━━━━\u001b[0m \u001b[32m1/1 \u001b[0m [ \u001b[33m0:00:00\u001b[0m < \u001b[36m0:00:00\u001b[0m , \u001b[31m? it/s\u001b[0m ]\n",
      "\u001b[2K\u001b[35m   0%\u001b[0m \u001b[90m━━━━━━━━━━━━━━━━━━━━━━━━━━━━━━━━━━━━━━\u001b[0m \u001b[32m0/1 \u001b[0m [ \u001b[33m0:00:00\u001b[0m < \u001b[36m-:--:--\u001b[0m , \u001b[31m? it/s\u001b[0m ]"
     ]
    },
    {
     "name": "stderr",
     "output_type": "stream",
     "text": [
      "\u001b[2;36m \u001b[0m\u001b[36mDEBUG   \u001b[0m Alignment round took \u001b[1;36m1.912\u001b[0m seconds                                    \n",
      "\u001b[2;36m \u001b[0m\u001b[32mINFO    \u001b[0m Collecting phone and word alignments from alignment lattices\u001b[33m...\u001b[0m       \n"
     ]
    },
    {
     "name": "stdout",
     "output_type": "stream",
     "text": [
      "\u001b[2K\u001b[35m 100%\u001b[0m \u001b[90m━━━━━━━━━━━━━━━━━━━━━━━━━━━━━━━━━━━━━━\u001b[0m \u001b[32m1/1 \u001b[0m [ \u001b[33m0:00:02\u001b[0m < \u001b[36m0:00:00\u001b[0m , \u001b[31m? it/s\u001b[0m ]\n",
      "\u001b[?25h"
     ]
    },
    {
     "name": "stderr",
     "output_type": "stream",
     "text": [
      "\u001b[2;36m \u001b[0m\u001b[36mDEBUG   \u001b[0m For job \u001b[1;36m0\u001b[0m:                                                            \n",
      "\u001b[2;36m \u001b[0m\u001b[36mDEBUG   \u001b[0m \u001b[1;36m0\u001b[0m beam too narrow                                                     \n",
      "\u001b[2;36m \u001b[0m\u001b[36mDEBUG   \u001b[0m \u001b[1;36m652\u001b[0m total frames                                                      \n",
      "\u001b[2;36m \u001b[0m\u001b[36mDEBUG   \u001b[0m \u001b[1;36m-50.258\u001b[0m average log-likelihood                                        \n",
      "\u001b[2;36m \u001b[0m\u001b[36mDEBUG   \u001b[0m Average per frame likelihood for alignment: \u001b[1;36m-50.258\u001b[0m                   \n",
      "\u001b[2;36m \u001b[0m\u001b[36mDEBUG   \u001b[0m Compiling information took \u001b[1;36m1.085\u001b[0m seconds                              \n",
      "\u001b[2;36m \u001b[0m\u001b[36mDEBUG   \u001b[0m Generated alignments in \u001b[1;36m12.756\u001b[0m seconds                                \n",
      "\u001b[2;36m \u001b[0m\u001b[33mWARNING \u001b[0m Alignment analysis not available without using postgresql             \n",
      "\u001b[2;36m \u001b[0m\u001b[32mINFO    \u001b[0m Exporting alignment TextGrids to videos/vid2_1/mfa_alignments\u001b[33m...\u001b[0m      \n",
      "\u001b[2;36m \u001b[0m\u001b[36mDEBUG   \u001b[0m Not using multiprocessing for TextGrid export                         \n",
      "\u001b[2;36m \u001b[0m\u001b[32mINFO    \u001b[0m Finished exporting TextGrids to videos/vid2_1/mfa_alignments!         \n",
      "\u001b[2;36m \u001b[0m\u001b[36mDEBUG   \u001b[0m Exported TextGrids in a total of \u001b[1;36m0.039\u001b[0m seconds                        \n",
      "\u001b[2;36m \u001b[0m\u001b[32mINFO    \u001b[0m Done! Everything took \u001b[1;36m56.310\u001b[0m seconds                                  \n"
     ]
    },
    {
     "name": "stdout",
     "output_type": "stream",
     "text": [
      "\u001b[2K\u001b[35m 100%\u001b[0m \u001b[90m━━━━━━━━━━━━━━━━━━━━━━━━━━━━━━━━━━━━━━\u001b[0m \u001b[32m1/1 \u001b[0m [ \u001b[33m0:00:00\u001b[0m < \u001b[36m0:00:00\u001b[0m , \u001b[31m? it/s\u001b[0m ]\n",
      "\u001b[?25h"
     ]
    },
    {
     "name": "stderr",
     "output_type": "stream",
     "text": [
      "WARNING:phonemizer:words count mismatch on 500.0% of the lines (5/1)\n",
      "WARNING:phonemizer:words count mismatch on 500.0% of the lines (5/1)\n",
      "WARNING:phonemizer:words count mismatch on 500.0% of the lines (5/1)\n",
      "WARNING:phonemizer:words count mismatch on 500.0% of the lines (5/1)\n",
      "WARNING:phonemizer:words count mismatch on 500.0% of the lines (5/1)\n"
     ]
    },
    {
     "name": "stdout",
     "output_type": "stream",
     "text": [
      "Generated audio files saved to:\n",
      "  1. output/semi/vid2_1_gen_1.wav\n",
      "  2. output/semi/vid2_1_gen_2.wav\n",
      "  3. output/semi/vid2_1_gen_3.wav\n",
      "  4. output/semi/vid2_1_gen_4.wav\n",
      "  5. output/semi/vid2_1_gen_5.wav\n"
     ]
    },
    {
     "name": "stderr",
     "output_type": "stream",
     "text": [
      "[2024-06-01 03:23:41,931 | alacen | DEBUG] Generating lip-synced video...\n",
      "DEBUG:alacen:Generating lip-synced video...\n"
     ]
    },
    {
     "name": "stdout",
     "output_type": "stream",
     "text": [
      "MPI.COMM_WORLD.Get_rank() 0\n",
      "os.environ[\"CUDA_VISIBLE_DEVICES\"] 0\n",
      "MPI.COMM_WORLD.Get_rank() 2\n",
      "os.environ[\"CUDA_VISIBLE_DEVICES\"] 2\n",
      "MPI.COMM_WORLD.Get_rank() 1\n",
      "os.environ[\"CUDA_VISIBLE_DEVICES\"] 1\n",
      "Recovering from OOM error; New batch size: 32\n",
      "Recovering from OOM error; New batch size: 32\n",
      "Recovering from OOM error; New batch size: 32\n",
      "Recovering from OOM error; New batch size: 16\n",
      "Recovering from OOM error; New batch size: 16\n",
      "Recovering from OOM error; New batch size: 16\n",
      "Recovering from OOM error; New batch size: 8\n",
      "Time taken for sampling,  68.47502422332764 ,time without all  gather,  66.95443415641785 ,frames/gpu,  160 ,total frames,  160\n",
      "(104397,) (160, 540, 960, 3)\n",
      "(102400,) (160, 540, 960, 3)\n"
     ]
    },
    {
     "name": "stderr",
     "output_type": "stream",
     "text": [
      "[2024-06-01 03:28:45,622 | alacen | DEBUG] Merging generated audio and video...\n",
      "DEBUG:alacen:Merging generated audio and video...\n",
      "[2024-06-01 03:28:46,027 | alacen | DEBUG] DONE\n",
      "DEBUG:alacen:DONE\n"
     ]
    },
    {
     "name": "stdout",
     "output_type": "stream",
     "text": [
      "\n"
     ]
    }
   ],
   "source": [
    "mode = \"semi\"\n",
    "for i, video in enumerate(video_list, 1):\n",
    "    print(f\"Video {i}: {video}\", flush=True)\n",
    "    alacen.run(\n",
    "        video,\n",
    "        OUT_DIR / mode,\n",
    "        TTS_ARGS,\n",
    "        num_paraphrases=NUM_PARAPHRASES,\n",
    "        merge_av=True,\n",
    "        mode=mode,\n",
    "        device=device,\n",
    "        verbose=VERBOSE,\n",
    "        clean_up=True,\n",
    "    )\n",
    "    print()"
   ]
  }
 ],
 "metadata": {
  "kernelspec": {
   "display_name": "alacen",
   "language": "python",
   "name": "python3"
  },
  "language_info": {
   "codemirror_mode": {
    "name": "ipython",
    "version": 3
   },
   "file_extension": ".py",
   "mimetype": "text/x-python",
   "name": "python",
   "nbconvert_exporter": "python",
   "pygments_lexer": "ipython3",
   "version": "3.9.19"
  }
 },
 "nbformat": 4,
 "nbformat_minor": 2
}
